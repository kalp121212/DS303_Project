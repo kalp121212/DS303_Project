{
 "cells": [
  {
   "cell_type": "code",
   "execution_count": null,
   "id": "d8c72607",
   "metadata": {},
   "outputs": [],
   "source": [
    "import pandas as pd\n",
    "import csv\n",
    "file=open('features_3_sec.csv')\n",
    "csvreader = csv.reader(file)\n",
    "header = next(csvreader)\n",
    "rows = []\n",
    "for row in csvreader:\n",
    "    rows.append(row)\n",
    "df = pd.read_csv(\"features_3_sec.csv\")\n",
    "columns = df.loc[:, df.columns != 'label']\n",
    "data=df.sample(50,random_state=4)\n",
    "#X = data[['food', 'decor', 'service']]\n",
    "#y = data['price']"
   ]
  }
 ],
 "metadata": {
  "kernelspec": {
   "display_name": "Python 3",
   "language": "python",
   "name": "python3"
  },
  "language_info": {
   "codemirror_mode": {
    "name": "ipython",
    "version": 3
   },
   "file_extension": ".py",
   "mimetype": "text/x-python",
   "name": "python",
   "nbconvert_exporter": "python",
   "pygments_lexer": "ipython3",
   "version": "3.8.8"
  }
 },
 "nbformat": 4,
 "nbformat_minor": 5
}
