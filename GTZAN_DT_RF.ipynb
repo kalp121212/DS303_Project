{
  "cells": [
    {
      "cell_type": "code",
      "execution_count": 47,
      "id": "7f29b479",
      "metadata": {
        "id": "7f29b479"
      },
      "outputs": [],
      "source": [
        "import pandas as pd\n",
        "import numpy as np\n",
        "import matplotlib.pyplot as plt\n",
        "from sklearn.model_selection import train_test_split\n",
        "\n",
        "from sklearn.tree import DecisionTreeClassifier\n",
        "from sklearn import metrics\n",
        "from sklearn.metrics import precision_score\n",
        "from sklearn.preprocessing import StandardScaler\n",
        "#from pydub import AudioSegment\n",
        "#from pydub.playback import play"
      ]
    },
    {
      "cell_type": "code",
      "execution_count": 48,
      "id": "d8c72607",
      "metadata": {
        "colab": {
          "base_uri": "https://localhost:8080/",
          "height": 505
        },
        "id": "d8c72607",
        "outputId": "18ac5281-6f09-4cf3-ca91-924d33c6b515"
      },
      "outputs": [
        {
          "output_type": "stream",
          "name": "stdout",
          "text": [
            "{'blues': 0, 'classical': 1, 'country': 2, 'disco': 3, 'hiphop': 4, 'jazz': 5, 'metal': 6, 'pop': 7, 'reggae': 8, 'rock': 9}\n"
          ]
        },
        {
          "output_type": "execute_result",
          "data": {
            "text/plain": [
              "               filename  length  chroma_stft_mean  chroma_stft_var  rms_mean  \\\n",
              "0     blues.00000.0.wav   66149          0.335406         0.091048  0.130405   \n",
              "1     blues.00000.1.wav   66149          0.343065         0.086147  0.112699   \n",
              "2     blues.00000.2.wav   66149          0.346815         0.092243  0.132003   \n",
              "3     blues.00000.3.wav   66149          0.363639         0.086856  0.132565   \n",
              "4     blues.00000.4.wav   66149          0.335579         0.088129  0.143289   \n",
              "...                 ...     ...               ...              ...       ...   \n",
              "9985   rock.00099.5.wav   66149          0.349126         0.080515  0.050019   \n",
              "9986   rock.00099.6.wav   66149          0.372564         0.082626  0.057897   \n",
              "9987   rock.00099.7.wav   66149          0.347481         0.089019  0.052403   \n",
              "9988   rock.00099.8.wav   66149          0.387527         0.084815  0.066430   \n",
              "9989   rock.00099.9.wav   66149          0.369293         0.086759  0.050524   \n",
              "\n",
              "       rms_var  spectral_centroid_mean  spectral_centroid_var  \\\n",
              "0     0.003521             1773.065032          167541.630869   \n",
              "1     0.001450             1816.693777           90525.690866   \n",
              "2     0.004620             1788.539719          111407.437613   \n",
              "3     0.002448             1655.289045          111952.284517   \n",
              "4     0.001701             1630.656199           79667.267654   \n",
              "...        ...                     ...                    ...   \n",
              "9985  0.000097             1499.083005          164266.886443   \n",
              "9986  0.000088             1847.965128          281054.935973   \n",
              "9987  0.000701             1346.157659          662956.246325   \n",
              "9988  0.000320             2084.515327          203891.039161   \n",
              "9989  0.000067             1634.330126          411429.169769   \n",
              "\n",
              "      spectral_bandwidth_mean  spectral_bandwidth_var  ...  mfcc17_mean  \\\n",
              "0                 1972.744388           117335.771563  ...    -3.241280   \n",
              "1                 2010.051501            65671.875673  ...    -6.055294   \n",
              "2                 2084.565132            75124.921716  ...    -1.768610   \n",
              "3                 1960.039988            82913.639269  ...    -3.841155   \n",
              "4                 1948.503884            60204.020268  ...     0.664582   \n",
              "...                       ...                     ...  ...          ...   \n",
              "9985              1718.707215            85931.574523  ...    -9.094270   \n",
              "9986              1906.468492            99727.037054  ...   -12.375726   \n",
              "9987              1561.859087           138762.841945  ...    -2.524483   \n",
              "9988              2018.366254            22860.992562  ...    -5.363541   \n",
              "9989              1867.422378           119722.211518  ...   -11.598399   \n",
              "\n",
              "      mfcc17_var  mfcc18_mean  mfcc18_var  mfcc19_mean  mfcc19_var  \\\n",
              "0      36.488243     0.722209   38.099152    -5.050335   33.618073   \n",
              "1      40.677654     0.159015   51.264091    -2.837699   97.030830   \n",
              "2      28.348579     2.378768   45.717648    -1.938424   53.050835   \n",
              "3      28.337118     1.218588   34.770935    -3.580352   50.836224   \n",
              "4      45.880913     1.689446   51.363583    -3.392489   26.738789   \n",
              "...          ...          ...         ...          ...         ...   \n",
              "9985   38.326839    -4.246976   31.049839    -5.625813   48.804092   \n",
              "9986   66.418587    -3.081278   54.414265   -11.960546   63.452255   \n",
              "9987   21.778994     4.809936   25.980829     1.775686   48.582378   \n",
              "9988   17.209942     6.462601   21.442928     2.354765   24.843613   \n",
              "9989   58.983097    -0.178517   55.761299    -6.903252   39.485901   \n",
              "\n",
              "      mfcc20_mean  mfcc20_var  label  labels_encoded  \n",
              "0       -0.243027   43.771767  blues               0  \n",
              "1        5.784063   59.943081  blues               0  \n",
              "2        2.517375   33.105122  blues               0  \n",
              "3        3.630866   32.023678  blues               0  \n",
              "4        0.536961   29.146694  blues               0  \n",
              "...           ...         ...    ...             ...  \n",
              "9985     1.818823   38.966969   rock               9  \n",
              "9986     0.428857   18.697033   rock               9  \n",
              "9987    -0.299545   41.586990   rock               9  \n",
              "9988     0.675824   12.787750   rock               9  \n",
              "9989    -3.412534   31.727489   rock               9  \n",
              "\n",
              "[9990 rows x 61 columns]"
            ],
            "text/html": [
              "\n",
              "  <div id=\"df-cce2c401-e256-4ed4-96da-2b8c44ae106e\">\n",
              "    <div class=\"colab-df-container\">\n",
              "      <div>\n",
              "<style scoped>\n",
              "    .dataframe tbody tr th:only-of-type {\n",
              "        vertical-align: middle;\n",
              "    }\n",
              "\n",
              "    .dataframe tbody tr th {\n",
              "        vertical-align: top;\n",
              "    }\n",
              "\n",
              "    .dataframe thead th {\n",
              "        text-align: right;\n",
              "    }\n",
              "</style>\n",
              "<table border=\"1\" class=\"dataframe\">\n",
              "  <thead>\n",
              "    <tr style=\"text-align: right;\">\n",
              "      <th></th>\n",
              "      <th>filename</th>\n",
              "      <th>length</th>\n",
              "      <th>chroma_stft_mean</th>\n",
              "      <th>chroma_stft_var</th>\n",
              "      <th>rms_mean</th>\n",
              "      <th>rms_var</th>\n",
              "      <th>spectral_centroid_mean</th>\n",
              "      <th>spectral_centroid_var</th>\n",
              "      <th>spectral_bandwidth_mean</th>\n",
              "      <th>spectral_bandwidth_var</th>\n",
              "      <th>...</th>\n",
              "      <th>mfcc17_mean</th>\n",
              "      <th>mfcc17_var</th>\n",
              "      <th>mfcc18_mean</th>\n",
              "      <th>mfcc18_var</th>\n",
              "      <th>mfcc19_mean</th>\n",
              "      <th>mfcc19_var</th>\n",
              "      <th>mfcc20_mean</th>\n",
              "      <th>mfcc20_var</th>\n",
              "      <th>label</th>\n",
              "      <th>labels_encoded</th>\n",
              "    </tr>\n",
              "  </thead>\n",
              "  <tbody>\n",
              "    <tr>\n",
              "      <th>0</th>\n",
              "      <td>blues.00000.0.wav</td>\n",
              "      <td>66149</td>\n",
              "      <td>0.335406</td>\n",
              "      <td>0.091048</td>\n",
              "      <td>0.130405</td>\n",
              "      <td>0.003521</td>\n",
              "      <td>1773.065032</td>\n",
              "      <td>167541.630869</td>\n",
              "      <td>1972.744388</td>\n",
              "      <td>117335.771563</td>\n",
              "      <td>...</td>\n",
              "      <td>-3.241280</td>\n",
              "      <td>36.488243</td>\n",
              "      <td>0.722209</td>\n",
              "      <td>38.099152</td>\n",
              "      <td>-5.050335</td>\n",
              "      <td>33.618073</td>\n",
              "      <td>-0.243027</td>\n",
              "      <td>43.771767</td>\n",
              "      <td>blues</td>\n",
              "      <td>0</td>\n",
              "    </tr>\n",
              "    <tr>\n",
              "      <th>1</th>\n",
              "      <td>blues.00000.1.wav</td>\n",
              "      <td>66149</td>\n",
              "      <td>0.343065</td>\n",
              "      <td>0.086147</td>\n",
              "      <td>0.112699</td>\n",
              "      <td>0.001450</td>\n",
              "      <td>1816.693777</td>\n",
              "      <td>90525.690866</td>\n",
              "      <td>2010.051501</td>\n",
              "      <td>65671.875673</td>\n",
              "      <td>...</td>\n",
              "      <td>-6.055294</td>\n",
              "      <td>40.677654</td>\n",
              "      <td>0.159015</td>\n",
              "      <td>51.264091</td>\n",
              "      <td>-2.837699</td>\n",
              "      <td>97.030830</td>\n",
              "      <td>5.784063</td>\n",
              "      <td>59.943081</td>\n",
              "      <td>blues</td>\n",
              "      <td>0</td>\n",
              "    </tr>\n",
              "    <tr>\n",
              "      <th>2</th>\n",
              "      <td>blues.00000.2.wav</td>\n",
              "      <td>66149</td>\n",
              "      <td>0.346815</td>\n",
              "      <td>0.092243</td>\n",
              "      <td>0.132003</td>\n",
              "      <td>0.004620</td>\n",
              "      <td>1788.539719</td>\n",
              "      <td>111407.437613</td>\n",
              "      <td>2084.565132</td>\n",
              "      <td>75124.921716</td>\n",
              "      <td>...</td>\n",
              "      <td>-1.768610</td>\n",
              "      <td>28.348579</td>\n",
              "      <td>2.378768</td>\n",
              "      <td>45.717648</td>\n",
              "      <td>-1.938424</td>\n",
              "      <td>53.050835</td>\n",
              "      <td>2.517375</td>\n",
              "      <td>33.105122</td>\n",
              "      <td>blues</td>\n",
              "      <td>0</td>\n",
              "    </tr>\n",
              "    <tr>\n",
              "      <th>3</th>\n",
              "      <td>blues.00000.3.wav</td>\n",
              "      <td>66149</td>\n",
              "      <td>0.363639</td>\n",
              "      <td>0.086856</td>\n",
              "      <td>0.132565</td>\n",
              "      <td>0.002448</td>\n",
              "      <td>1655.289045</td>\n",
              "      <td>111952.284517</td>\n",
              "      <td>1960.039988</td>\n",
              "      <td>82913.639269</td>\n",
              "      <td>...</td>\n",
              "      <td>-3.841155</td>\n",
              "      <td>28.337118</td>\n",
              "      <td>1.218588</td>\n",
              "      <td>34.770935</td>\n",
              "      <td>-3.580352</td>\n",
              "      <td>50.836224</td>\n",
              "      <td>3.630866</td>\n",
              "      <td>32.023678</td>\n",
              "      <td>blues</td>\n",
              "      <td>0</td>\n",
              "    </tr>\n",
              "    <tr>\n",
              "      <th>4</th>\n",
              "      <td>blues.00000.4.wav</td>\n",
              "      <td>66149</td>\n",
              "      <td>0.335579</td>\n",
              "      <td>0.088129</td>\n",
              "      <td>0.143289</td>\n",
              "      <td>0.001701</td>\n",
              "      <td>1630.656199</td>\n",
              "      <td>79667.267654</td>\n",
              "      <td>1948.503884</td>\n",
              "      <td>60204.020268</td>\n",
              "      <td>...</td>\n",
              "      <td>0.664582</td>\n",
              "      <td>45.880913</td>\n",
              "      <td>1.689446</td>\n",
              "      <td>51.363583</td>\n",
              "      <td>-3.392489</td>\n",
              "      <td>26.738789</td>\n",
              "      <td>0.536961</td>\n",
              "      <td>29.146694</td>\n",
              "      <td>blues</td>\n",
              "      <td>0</td>\n",
              "    </tr>\n",
              "    <tr>\n",
              "      <th>...</th>\n",
              "      <td>...</td>\n",
              "      <td>...</td>\n",
              "      <td>...</td>\n",
              "      <td>...</td>\n",
              "      <td>...</td>\n",
              "      <td>...</td>\n",
              "      <td>...</td>\n",
              "      <td>...</td>\n",
              "      <td>...</td>\n",
              "      <td>...</td>\n",
              "      <td>...</td>\n",
              "      <td>...</td>\n",
              "      <td>...</td>\n",
              "      <td>...</td>\n",
              "      <td>...</td>\n",
              "      <td>...</td>\n",
              "      <td>...</td>\n",
              "      <td>...</td>\n",
              "      <td>...</td>\n",
              "      <td>...</td>\n",
              "      <td>...</td>\n",
              "    </tr>\n",
              "    <tr>\n",
              "      <th>9985</th>\n",
              "      <td>rock.00099.5.wav</td>\n",
              "      <td>66149</td>\n",
              "      <td>0.349126</td>\n",
              "      <td>0.080515</td>\n",
              "      <td>0.050019</td>\n",
              "      <td>0.000097</td>\n",
              "      <td>1499.083005</td>\n",
              "      <td>164266.886443</td>\n",
              "      <td>1718.707215</td>\n",
              "      <td>85931.574523</td>\n",
              "      <td>...</td>\n",
              "      <td>-9.094270</td>\n",
              "      <td>38.326839</td>\n",
              "      <td>-4.246976</td>\n",
              "      <td>31.049839</td>\n",
              "      <td>-5.625813</td>\n",
              "      <td>48.804092</td>\n",
              "      <td>1.818823</td>\n",
              "      <td>38.966969</td>\n",
              "      <td>rock</td>\n",
              "      <td>9</td>\n",
              "    </tr>\n",
              "    <tr>\n",
              "      <th>9986</th>\n",
              "      <td>rock.00099.6.wav</td>\n",
              "      <td>66149</td>\n",
              "      <td>0.372564</td>\n",
              "      <td>0.082626</td>\n",
              "      <td>0.057897</td>\n",
              "      <td>0.000088</td>\n",
              "      <td>1847.965128</td>\n",
              "      <td>281054.935973</td>\n",
              "      <td>1906.468492</td>\n",
              "      <td>99727.037054</td>\n",
              "      <td>...</td>\n",
              "      <td>-12.375726</td>\n",
              "      <td>66.418587</td>\n",
              "      <td>-3.081278</td>\n",
              "      <td>54.414265</td>\n",
              "      <td>-11.960546</td>\n",
              "      <td>63.452255</td>\n",
              "      <td>0.428857</td>\n",
              "      <td>18.697033</td>\n",
              "      <td>rock</td>\n",
              "      <td>9</td>\n",
              "    </tr>\n",
              "    <tr>\n",
              "      <th>9987</th>\n",
              "      <td>rock.00099.7.wav</td>\n",
              "      <td>66149</td>\n",
              "      <td>0.347481</td>\n",
              "      <td>0.089019</td>\n",
              "      <td>0.052403</td>\n",
              "      <td>0.000701</td>\n",
              "      <td>1346.157659</td>\n",
              "      <td>662956.246325</td>\n",
              "      <td>1561.859087</td>\n",
              "      <td>138762.841945</td>\n",
              "      <td>...</td>\n",
              "      <td>-2.524483</td>\n",
              "      <td>21.778994</td>\n",
              "      <td>4.809936</td>\n",
              "      <td>25.980829</td>\n",
              "      <td>1.775686</td>\n",
              "      <td>48.582378</td>\n",
              "      <td>-0.299545</td>\n",
              "      <td>41.586990</td>\n",
              "      <td>rock</td>\n",
              "      <td>9</td>\n",
              "    </tr>\n",
              "    <tr>\n",
              "      <th>9988</th>\n",
              "      <td>rock.00099.8.wav</td>\n",
              "      <td>66149</td>\n",
              "      <td>0.387527</td>\n",
              "      <td>0.084815</td>\n",
              "      <td>0.066430</td>\n",
              "      <td>0.000320</td>\n",
              "      <td>2084.515327</td>\n",
              "      <td>203891.039161</td>\n",
              "      <td>2018.366254</td>\n",
              "      <td>22860.992562</td>\n",
              "      <td>...</td>\n",
              "      <td>-5.363541</td>\n",
              "      <td>17.209942</td>\n",
              "      <td>6.462601</td>\n",
              "      <td>21.442928</td>\n",
              "      <td>2.354765</td>\n",
              "      <td>24.843613</td>\n",
              "      <td>0.675824</td>\n",
              "      <td>12.787750</td>\n",
              "      <td>rock</td>\n",
              "      <td>9</td>\n",
              "    </tr>\n",
              "    <tr>\n",
              "      <th>9989</th>\n",
              "      <td>rock.00099.9.wav</td>\n",
              "      <td>66149</td>\n",
              "      <td>0.369293</td>\n",
              "      <td>0.086759</td>\n",
              "      <td>0.050524</td>\n",
              "      <td>0.000067</td>\n",
              "      <td>1634.330126</td>\n",
              "      <td>411429.169769</td>\n",
              "      <td>1867.422378</td>\n",
              "      <td>119722.211518</td>\n",
              "      <td>...</td>\n",
              "      <td>-11.598399</td>\n",
              "      <td>58.983097</td>\n",
              "      <td>-0.178517</td>\n",
              "      <td>55.761299</td>\n",
              "      <td>-6.903252</td>\n",
              "      <td>39.485901</td>\n",
              "      <td>-3.412534</td>\n",
              "      <td>31.727489</td>\n",
              "      <td>rock</td>\n",
              "      <td>9</td>\n",
              "    </tr>\n",
              "  </tbody>\n",
              "</table>\n",
              "<p>9990 rows × 61 columns</p>\n",
              "</div>\n",
              "      <button class=\"colab-df-convert\" onclick=\"convertToInteractive('df-cce2c401-e256-4ed4-96da-2b8c44ae106e')\"\n",
              "              title=\"Convert this dataframe to an interactive table.\"\n",
              "              style=\"display:none;\">\n",
              "        \n",
              "  <svg xmlns=\"http://www.w3.org/2000/svg\" height=\"24px\"viewBox=\"0 0 24 24\"\n",
              "       width=\"24px\">\n",
              "    <path d=\"M0 0h24v24H0V0z\" fill=\"none\"/>\n",
              "    <path d=\"M18.56 5.44l.94 2.06.94-2.06 2.06-.94-2.06-.94-.94-2.06-.94 2.06-2.06.94zm-11 1L8.5 8.5l.94-2.06 2.06-.94-2.06-.94L8.5 2.5l-.94 2.06-2.06.94zm10 10l.94 2.06.94-2.06 2.06-.94-2.06-.94-.94-2.06-.94 2.06-2.06.94z\"/><path d=\"M17.41 7.96l-1.37-1.37c-.4-.4-.92-.59-1.43-.59-.52 0-1.04.2-1.43.59L10.3 9.45l-7.72 7.72c-.78.78-.78 2.05 0 2.83L4 21.41c.39.39.9.59 1.41.59.51 0 1.02-.2 1.41-.59l7.78-7.78 2.81-2.81c.8-.78.8-2.07 0-2.86zM5.41 20L4 18.59l7.72-7.72 1.47 1.35L5.41 20z\"/>\n",
              "  </svg>\n",
              "      </button>\n",
              "      \n",
              "  <style>\n",
              "    .colab-df-container {\n",
              "      display:flex;\n",
              "      flex-wrap:wrap;\n",
              "      gap: 12px;\n",
              "    }\n",
              "\n",
              "    .colab-df-convert {\n",
              "      background-color: #E8F0FE;\n",
              "      border: none;\n",
              "      border-radius: 50%;\n",
              "      cursor: pointer;\n",
              "      display: none;\n",
              "      fill: #1967D2;\n",
              "      height: 32px;\n",
              "      padding: 0 0 0 0;\n",
              "      width: 32px;\n",
              "    }\n",
              "\n",
              "    .colab-df-convert:hover {\n",
              "      background-color: #E2EBFA;\n",
              "      box-shadow: 0px 1px 2px rgba(60, 64, 67, 0.3), 0px 1px 3px 1px rgba(60, 64, 67, 0.15);\n",
              "      fill: #174EA6;\n",
              "    }\n",
              "\n",
              "    [theme=dark] .colab-df-convert {\n",
              "      background-color: #3B4455;\n",
              "      fill: #D2E3FC;\n",
              "    }\n",
              "\n",
              "    [theme=dark] .colab-df-convert:hover {\n",
              "      background-color: #434B5C;\n",
              "      box-shadow: 0px 1px 3px 1px rgba(0, 0, 0, 0.15);\n",
              "      filter: drop-shadow(0px 1px 2px rgba(0, 0, 0, 0.3));\n",
              "      fill: #FFFFFF;\n",
              "    }\n",
              "  </style>\n",
              "\n",
              "      <script>\n",
              "        const buttonEl =\n",
              "          document.querySelector('#df-cce2c401-e256-4ed4-96da-2b8c44ae106e button.colab-df-convert');\n",
              "        buttonEl.style.display =\n",
              "          google.colab.kernel.accessAllowed ? 'block' : 'none';\n",
              "\n",
              "        async function convertToInteractive(key) {\n",
              "          const element = document.querySelector('#df-cce2c401-e256-4ed4-96da-2b8c44ae106e');\n",
              "          const dataTable =\n",
              "            await google.colab.kernel.invokeFunction('convertToInteractive',\n",
              "                                                     [key], {});\n",
              "          if (!dataTable) return;\n",
              "\n",
              "          const docLinkHtml = 'Like what you see? Visit the ' +\n",
              "            '<a target=\"_blank\" href=https://colab.research.google.com/notebooks/data_table.ipynb>data table notebook</a>'\n",
              "            + ' to learn more about interactive tables.';\n",
              "          element.innerHTML = '';\n",
              "          dataTable['output_type'] = 'display_data';\n",
              "          await google.colab.output.renderOutput(dataTable, element);\n",
              "          const docLink = document.createElement('div');\n",
              "          docLink.innerHTML = docLinkHtml;\n",
              "          element.appendChild(docLink);\n",
              "        }\n",
              "      </script>\n",
              "    </div>\n",
              "  </div>\n",
              "  "
            ]
          },
          "metadata": {},
          "execution_count": 48
        }
      ],
      "source": [
        "df = pd.read_csv(\"features_3_sec.csv\")\n",
        "labels=df['label']\n",
        "num=0\n",
        "one_hot_encode={}\n",
        "labels_encoded=[]\n",
        "\n",
        "for i in labels:\n",
        "    if i not in one_hot_encode.keys():\n",
        "        one_hot_encode[i]=num\n",
        "        labels_encoded.append(num)\n",
        "        num+=1\n",
        "    else:\n",
        "        labels_encoded.append(one_hot_encode[i])\n",
        "df['labels_encoded']=labels_encoded\n",
        "print(one_hot_encode)\n",
        "df\n"
      ]
    },
    {
      "cell_type": "code",
      "execution_count": 49,
      "id": "69d34b3a",
      "metadata": {
        "id": "69d34b3a"
      },
      "outputs": [],
      "source": [
        "#song = AudioSegment.from_wav(\"samples/classical.00013.wav\")\n",
        "\n",
        "#play(song)"
      ]
    },
    {
      "cell_type": "code",
      "execution_count": 50,
      "id": "3de7bfb9",
      "metadata": {
        "colab": {
          "base_uri": "https://localhost:8080/",
          "height": 894
        },
        "id": "3de7bfb9",
        "outputId": "83fd3019-015c-403e-91e8-92cf91af670d"
      },
      "outputs": [
        {
          "output_type": "display_data",
          "data": {
            "text/plain": [
              "      chroma_stft_mean  chroma_stft_var  rms_mean   rms_var  \\\n",
              "0             0.335406         0.091048  0.130405  0.003521   \n",
              "1             0.343065         0.086147  0.112699  0.001450   \n",
              "2             0.346815         0.092243  0.132003  0.004620   \n",
              "3             0.363639         0.086856  0.132565  0.002448   \n",
              "4             0.335579         0.088129  0.143289  0.001701   \n",
              "...                ...              ...       ...       ...   \n",
              "9985          0.349126         0.080515  0.050019  0.000097   \n",
              "9986          0.372564         0.082626  0.057897  0.000088   \n",
              "9987          0.347481         0.089019  0.052403  0.000701   \n",
              "9988          0.387527         0.084815  0.066430  0.000320   \n",
              "9989          0.369293         0.086759  0.050524  0.000067   \n",
              "\n",
              "      spectral_centroid_mean  spectral_centroid_var  spectral_bandwidth_mean  \\\n",
              "0                1773.065032          167541.630869              1972.744388   \n",
              "1                1816.693777           90525.690866              2010.051501   \n",
              "2                1788.539719          111407.437613              2084.565132   \n",
              "3                1655.289045          111952.284517              1960.039988   \n",
              "4                1630.656199           79667.267654              1948.503884   \n",
              "...                      ...                    ...                      ...   \n",
              "9985             1499.083005          164266.886443              1718.707215   \n",
              "9986             1847.965128          281054.935973              1906.468492   \n",
              "9987             1346.157659          662956.246325              1561.859087   \n",
              "9988             2084.515327          203891.039161              2018.366254   \n",
              "9989             1634.330126          411429.169769              1867.422378   \n",
              "\n",
              "      spectral_bandwidth_var  rolloff_mean   rolloff_var  ...  mfcc16_var  \\\n",
              "0              117335.771563   3714.560359  1.080790e+06  ...   39.687145   \n",
              "1               65671.875673   3869.682242  6.722448e+05  ...   64.748276   \n",
              "2               75124.921716   3997.639160  7.907127e+05  ...   67.336563   \n",
              "3               82913.639269   3568.300218  9.216524e+05  ...   47.739452   \n",
              "4               60204.020268   3469.992864  6.102111e+05  ...   30.336359   \n",
              "...                      ...           ...           ...  ...         ...   \n",
              "9985            85931.574523   3015.559458  8.479527e+05  ...   42.485981   \n",
              "9986            99727.037054   3746.694524  1.170890e+06  ...   32.415203   \n",
              "9987           138762.841945   2442.362154  2.602871e+06  ...   78.228149   \n",
              "9988            22860.992562   4313.266226  4.968878e+05  ...   28.323744   \n",
              "9989           119722.211518   3462.042142  1.517016e+06  ...   38.801735   \n",
              "\n",
              "      mfcc17_mean  mfcc17_var  mfcc18_mean  mfcc18_var  mfcc19_mean  \\\n",
              "0       -3.241280   36.488243     0.722209   38.099152    -5.050335   \n",
              "1       -6.055294   40.677654     0.159015   51.264091    -2.837699   \n",
              "2       -1.768610   28.348579     2.378768   45.717648    -1.938424   \n",
              "3       -3.841155   28.337118     1.218588   34.770935    -3.580352   \n",
              "4        0.664582   45.880913     1.689446   51.363583    -3.392489   \n",
              "...           ...         ...          ...         ...          ...   \n",
              "9985    -9.094270   38.326839    -4.246976   31.049839    -5.625813   \n",
              "9986   -12.375726   66.418587    -3.081278   54.414265   -11.960546   \n",
              "9987    -2.524483   21.778994     4.809936   25.980829     1.775686   \n",
              "9988    -5.363541   17.209942     6.462601   21.442928     2.354765   \n",
              "9989   -11.598399   58.983097    -0.178517   55.761299    -6.903252   \n",
              "\n",
              "      mfcc19_var  mfcc20_mean  mfcc20_var  labels_encoded  \n",
              "0      33.618073    -0.243027   43.771767               0  \n",
              "1      97.030830     5.784063   59.943081               0  \n",
              "2      53.050835     2.517375   33.105122               0  \n",
              "3      50.836224     3.630866   32.023678               0  \n",
              "4      26.738789     0.536961   29.146694               0  \n",
              "...          ...          ...         ...             ...  \n",
              "9985   48.804092     1.818823   38.966969               9  \n",
              "9986   63.452255     0.428857   18.697033               9  \n",
              "9987   48.582378    -0.299545   41.586990               9  \n",
              "9988   24.843613     0.675824   12.787750               9  \n",
              "9989   39.485901    -3.412534   31.727489               9  \n",
              "\n",
              "[9990 rows x 58 columns]"
            ],
            "text/html": [
              "\n",
              "  <div id=\"df-f51b6f9c-8c94-4810-b3e5-f15ac42749ef\">\n",
              "    <div class=\"colab-df-container\">\n",
              "      <div>\n",
              "<style scoped>\n",
              "    .dataframe tbody tr th:only-of-type {\n",
              "        vertical-align: middle;\n",
              "    }\n",
              "\n",
              "    .dataframe tbody tr th {\n",
              "        vertical-align: top;\n",
              "    }\n",
              "\n",
              "    .dataframe thead th {\n",
              "        text-align: right;\n",
              "    }\n",
              "</style>\n",
              "<table border=\"1\" class=\"dataframe\">\n",
              "  <thead>\n",
              "    <tr style=\"text-align: right;\">\n",
              "      <th></th>\n",
              "      <th>chroma_stft_mean</th>\n",
              "      <th>chroma_stft_var</th>\n",
              "      <th>rms_mean</th>\n",
              "      <th>rms_var</th>\n",
              "      <th>spectral_centroid_mean</th>\n",
              "      <th>spectral_centroid_var</th>\n",
              "      <th>spectral_bandwidth_mean</th>\n",
              "      <th>spectral_bandwidth_var</th>\n",
              "      <th>rolloff_mean</th>\n",
              "      <th>rolloff_var</th>\n",
              "      <th>...</th>\n",
              "      <th>mfcc16_var</th>\n",
              "      <th>mfcc17_mean</th>\n",
              "      <th>mfcc17_var</th>\n",
              "      <th>mfcc18_mean</th>\n",
              "      <th>mfcc18_var</th>\n",
              "      <th>mfcc19_mean</th>\n",
              "      <th>mfcc19_var</th>\n",
              "      <th>mfcc20_mean</th>\n",
              "      <th>mfcc20_var</th>\n",
              "      <th>labels_encoded</th>\n",
              "    </tr>\n",
              "  </thead>\n",
              "  <tbody>\n",
              "    <tr>\n",
              "      <th>0</th>\n",
              "      <td>0.335406</td>\n",
              "      <td>0.091048</td>\n",
              "      <td>0.130405</td>\n",
              "      <td>0.003521</td>\n",
              "      <td>1773.065032</td>\n",
              "      <td>167541.630869</td>\n",
              "      <td>1972.744388</td>\n",
              "      <td>117335.771563</td>\n",
              "      <td>3714.560359</td>\n",
              "      <td>1.080790e+06</td>\n",
              "      <td>...</td>\n",
              "      <td>39.687145</td>\n",
              "      <td>-3.241280</td>\n",
              "      <td>36.488243</td>\n",
              "      <td>0.722209</td>\n",
              "      <td>38.099152</td>\n",
              "      <td>-5.050335</td>\n",
              "      <td>33.618073</td>\n",
              "      <td>-0.243027</td>\n",
              "      <td>43.771767</td>\n",
              "      <td>0</td>\n",
              "    </tr>\n",
              "    <tr>\n",
              "      <th>1</th>\n",
              "      <td>0.343065</td>\n",
              "      <td>0.086147</td>\n",
              "      <td>0.112699</td>\n",
              "      <td>0.001450</td>\n",
              "      <td>1816.693777</td>\n",
              "      <td>90525.690866</td>\n",
              "      <td>2010.051501</td>\n",
              "      <td>65671.875673</td>\n",
              "      <td>3869.682242</td>\n",
              "      <td>6.722448e+05</td>\n",
              "      <td>...</td>\n",
              "      <td>64.748276</td>\n",
              "      <td>-6.055294</td>\n",
              "      <td>40.677654</td>\n",
              "      <td>0.159015</td>\n",
              "      <td>51.264091</td>\n",
              "      <td>-2.837699</td>\n",
              "      <td>97.030830</td>\n",
              "      <td>5.784063</td>\n",
              "      <td>59.943081</td>\n",
              "      <td>0</td>\n",
              "    </tr>\n",
              "    <tr>\n",
              "      <th>2</th>\n",
              "      <td>0.346815</td>\n",
              "      <td>0.092243</td>\n",
              "      <td>0.132003</td>\n",
              "      <td>0.004620</td>\n",
              "      <td>1788.539719</td>\n",
              "      <td>111407.437613</td>\n",
              "      <td>2084.565132</td>\n",
              "      <td>75124.921716</td>\n",
              "      <td>3997.639160</td>\n",
              "      <td>7.907127e+05</td>\n",
              "      <td>...</td>\n",
              "      <td>67.336563</td>\n",
              "      <td>-1.768610</td>\n",
              "      <td>28.348579</td>\n",
              "      <td>2.378768</td>\n",
              "      <td>45.717648</td>\n",
              "      <td>-1.938424</td>\n",
              "      <td>53.050835</td>\n",
              "      <td>2.517375</td>\n",
              "      <td>33.105122</td>\n",
              "      <td>0</td>\n",
              "    </tr>\n",
              "    <tr>\n",
              "      <th>3</th>\n",
              "      <td>0.363639</td>\n",
              "      <td>0.086856</td>\n",
              "      <td>0.132565</td>\n",
              "      <td>0.002448</td>\n",
              "      <td>1655.289045</td>\n",
              "      <td>111952.284517</td>\n",
              "      <td>1960.039988</td>\n",
              "      <td>82913.639269</td>\n",
              "      <td>3568.300218</td>\n",
              "      <td>9.216524e+05</td>\n",
              "      <td>...</td>\n",
              "      <td>47.739452</td>\n",
              "      <td>-3.841155</td>\n",
              "      <td>28.337118</td>\n",
              "      <td>1.218588</td>\n",
              "      <td>34.770935</td>\n",
              "      <td>-3.580352</td>\n",
              "      <td>50.836224</td>\n",
              "      <td>3.630866</td>\n",
              "      <td>32.023678</td>\n",
              "      <td>0</td>\n",
              "    </tr>\n",
              "    <tr>\n",
              "      <th>4</th>\n",
              "      <td>0.335579</td>\n",
              "      <td>0.088129</td>\n",
              "      <td>0.143289</td>\n",
              "      <td>0.001701</td>\n",
              "      <td>1630.656199</td>\n",
              "      <td>79667.267654</td>\n",
              "      <td>1948.503884</td>\n",
              "      <td>60204.020268</td>\n",
              "      <td>3469.992864</td>\n",
              "      <td>6.102111e+05</td>\n",
              "      <td>...</td>\n",
              "      <td>30.336359</td>\n",
              "      <td>0.664582</td>\n",
              "      <td>45.880913</td>\n",
              "      <td>1.689446</td>\n",
              "      <td>51.363583</td>\n",
              "      <td>-3.392489</td>\n",
              "      <td>26.738789</td>\n",
              "      <td>0.536961</td>\n",
              "      <td>29.146694</td>\n",
              "      <td>0</td>\n",
              "    </tr>\n",
              "    <tr>\n",
              "      <th>...</th>\n",
              "      <td>...</td>\n",
              "      <td>...</td>\n",
              "      <td>...</td>\n",
              "      <td>...</td>\n",
              "      <td>...</td>\n",
              "      <td>...</td>\n",
              "      <td>...</td>\n",
              "      <td>...</td>\n",
              "      <td>...</td>\n",
              "      <td>...</td>\n",
              "      <td>...</td>\n",
              "      <td>...</td>\n",
              "      <td>...</td>\n",
              "      <td>...</td>\n",
              "      <td>...</td>\n",
              "      <td>...</td>\n",
              "      <td>...</td>\n",
              "      <td>...</td>\n",
              "      <td>...</td>\n",
              "      <td>...</td>\n",
              "      <td>...</td>\n",
              "    </tr>\n",
              "    <tr>\n",
              "      <th>9985</th>\n",
              "      <td>0.349126</td>\n",
              "      <td>0.080515</td>\n",
              "      <td>0.050019</td>\n",
              "      <td>0.000097</td>\n",
              "      <td>1499.083005</td>\n",
              "      <td>164266.886443</td>\n",
              "      <td>1718.707215</td>\n",
              "      <td>85931.574523</td>\n",
              "      <td>3015.559458</td>\n",
              "      <td>8.479527e+05</td>\n",
              "      <td>...</td>\n",
              "      <td>42.485981</td>\n",
              "      <td>-9.094270</td>\n",
              "      <td>38.326839</td>\n",
              "      <td>-4.246976</td>\n",
              "      <td>31.049839</td>\n",
              "      <td>-5.625813</td>\n",
              "      <td>48.804092</td>\n",
              "      <td>1.818823</td>\n",
              "      <td>38.966969</td>\n",
              "      <td>9</td>\n",
              "    </tr>\n",
              "    <tr>\n",
              "      <th>9986</th>\n",
              "      <td>0.372564</td>\n",
              "      <td>0.082626</td>\n",
              "      <td>0.057897</td>\n",
              "      <td>0.000088</td>\n",
              "      <td>1847.965128</td>\n",
              "      <td>281054.935973</td>\n",
              "      <td>1906.468492</td>\n",
              "      <td>99727.037054</td>\n",
              "      <td>3746.694524</td>\n",
              "      <td>1.170890e+06</td>\n",
              "      <td>...</td>\n",
              "      <td>32.415203</td>\n",
              "      <td>-12.375726</td>\n",
              "      <td>66.418587</td>\n",
              "      <td>-3.081278</td>\n",
              "      <td>54.414265</td>\n",
              "      <td>-11.960546</td>\n",
              "      <td>63.452255</td>\n",
              "      <td>0.428857</td>\n",
              "      <td>18.697033</td>\n",
              "      <td>9</td>\n",
              "    </tr>\n",
              "    <tr>\n",
              "      <th>9987</th>\n",
              "      <td>0.347481</td>\n",
              "      <td>0.089019</td>\n",
              "      <td>0.052403</td>\n",
              "      <td>0.000701</td>\n",
              "      <td>1346.157659</td>\n",
              "      <td>662956.246325</td>\n",
              "      <td>1561.859087</td>\n",
              "      <td>138762.841945</td>\n",
              "      <td>2442.362154</td>\n",
              "      <td>2.602871e+06</td>\n",
              "      <td>...</td>\n",
              "      <td>78.228149</td>\n",
              "      <td>-2.524483</td>\n",
              "      <td>21.778994</td>\n",
              "      <td>4.809936</td>\n",
              "      <td>25.980829</td>\n",
              "      <td>1.775686</td>\n",
              "      <td>48.582378</td>\n",
              "      <td>-0.299545</td>\n",
              "      <td>41.586990</td>\n",
              "      <td>9</td>\n",
              "    </tr>\n",
              "    <tr>\n",
              "      <th>9988</th>\n",
              "      <td>0.387527</td>\n",
              "      <td>0.084815</td>\n",
              "      <td>0.066430</td>\n",
              "      <td>0.000320</td>\n",
              "      <td>2084.515327</td>\n",
              "      <td>203891.039161</td>\n",
              "      <td>2018.366254</td>\n",
              "      <td>22860.992562</td>\n",
              "      <td>4313.266226</td>\n",
              "      <td>4.968878e+05</td>\n",
              "      <td>...</td>\n",
              "      <td>28.323744</td>\n",
              "      <td>-5.363541</td>\n",
              "      <td>17.209942</td>\n",
              "      <td>6.462601</td>\n",
              "      <td>21.442928</td>\n",
              "      <td>2.354765</td>\n",
              "      <td>24.843613</td>\n",
              "      <td>0.675824</td>\n",
              "      <td>12.787750</td>\n",
              "      <td>9</td>\n",
              "    </tr>\n",
              "    <tr>\n",
              "      <th>9989</th>\n",
              "      <td>0.369293</td>\n",
              "      <td>0.086759</td>\n",
              "      <td>0.050524</td>\n",
              "      <td>0.000067</td>\n",
              "      <td>1634.330126</td>\n",
              "      <td>411429.169769</td>\n",
              "      <td>1867.422378</td>\n",
              "      <td>119722.211518</td>\n",
              "      <td>3462.042142</td>\n",
              "      <td>1.517016e+06</td>\n",
              "      <td>...</td>\n",
              "      <td>38.801735</td>\n",
              "      <td>-11.598399</td>\n",
              "      <td>58.983097</td>\n",
              "      <td>-0.178517</td>\n",
              "      <td>55.761299</td>\n",
              "      <td>-6.903252</td>\n",
              "      <td>39.485901</td>\n",
              "      <td>-3.412534</td>\n",
              "      <td>31.727489</td>\n",
              "      <td>9</td>\n",
              "    </tr>\n",
              "  </tbody>\n",
              "</table>\n",
              "<p>9990 rows × 58 columns</p>\n",
              "</div>\n",
              "      <button class=\"colab-df-convert\" onclick=\"convertToInteractive('df-f51b6f9c-8c94-4810-b3e5-f15ac42749ef')\"\n",
              "              title=\"Convert this dataframe to an interactive table.\"\n",
              "              style=\"display:none;\">\n",
              "        \n",
              "  <svg xmlns=\"http://www.w3.org/2000/svg\" height=\"24px\"viewBox=\"0 0 24 24\"\n",
              "       width=\"24px\">\n",
              "    <path d=\"M0 0h24v24H0V0z\" fill=\"none\"/>\n",
              "    <path d=\"M18.56 5.44l.94 2.06.94-2.06 2.06-.94-2.06-.94-.94-2.06-.94 2.06-2.06.94zm-11 1L8.5 8.5l.94-2.06 2.06-.94-2.06-.94L8.5 2.5l-.94 2.06-2.06.94zm10 10l.94 2.06.94-2.06 2.06-.94-2.06-.94-.94-2.06-.94 2.06-2.06.94z\"/><path d=\"M17.41 7.96l-1.37-1.37c-.4-.4-.92-.59-1.43-.59-.52 0-1.04.2-1.43.59L10.3 9.45l-7.72 7.72c-.78.78-.78 2.05 0 2.83L4 21.41c.39.39.9.59 1.41.59.51 0 1.02-.2 1.41-.59l7.78-7.78 2.81-2.81c.8-.78.8-2.07 0-2.86zM5.41 20L4 18.59l7.72-7.72 1.47 1.35L5.41 20z\"/>\n",
              "  </svg>\n",
              "      </button>\n",
              "      \n",
              "  <style>\n",
              "    .colab-df-container {\n",
              "      display:flex;\n",
              "      flex-wrap:wrap;\n",
              "      gap: 12px;\n",
              "    }\n",
              "\n",
              "    .colab-df-convert {\n",
              "      background-color: #E8F0FE;\n",
              "      border: none;\n",
              "      border-radius: 50%;\n",
              "      cursor: pointer;\n",
              "      display: none;\n",
              "      fill: #1967D2;\n",
              "      height: 32px;\n",
              "      padding: 0 0 0 0;\n",
              "      width: 32px;\n",
              "    }\n",
              "\n",
              "    .colab-df-convert:hover {\n",
              "      background-color: #E2EBFA;\n",
              "      box-shadow: 0px 1px 2px rgba(60, 64, 67, 0.3), 0px 1px 3px 1px rgba(60, 64, 67, 0.15);\n",
              "      fill: #174EA6;\n",
              "    }\n",
              "\n",
              "    [theme=dark] .colab-df-convert {\n",
              "      background-color: #3B4455;\n",
              "      fill: #D2E3FC;\n",
              "    }\n",
              "\n",
              "    [theme=dark] .colab-df-convert:hover {\n",
              "      background-color: #434B5C;\n",
              "      box-shadow: 0px 1px 3px 1px rgba(0, 0, 0, 0.15);\n",
              "      filter: drop-shadow(0px 1px 2px rgba(0, 0, 0, 0.3));\n",
              "      fill: #FFFFFF;\n",
              "    }\n",
              "  </style>\n",
              "\n",
              "      <script>\n",
              "        const buttonEl =\n",
              "          document.querySelector('#df-f51b6f9c-8c94-4810-b3e5-f15ac42749ef button.colab-df-convert');\n",
              "        buttonEl.style.display =\n",
              "          google.colab.kernel.accessAllowed ? 'block' : 'none';\n",
              "\n",
              "        async function convertToInteractive(key) {\n",
              "          const element = document.querySelector('#df-f51b6f9c-8c94-4810-b3e5-f15ac42749ef');\n",
              "          const dataTable =\n",
              "            await google.colab.kernel.invokeFunction('convertToInteractive',\n",
              "                                                     [key], {});\n",
              "          if (!dataTable) return;\n",
              "\n",
              "          const docLinkHtml = 'Like what you see? Visit the ' +\n",
              "            '<a target=\"_blank\" href=https://colab.research.google.com/notebooks/data_table.ipynb>data table notebook</a>'\n",
              "            + ' to learn more about interactive tables.';\n",
              "          element.innerHTML = '';\n",
              "          dataTable['output_type'] = 'display_data';\n",
              "          await google.colab.output.renderOutput(dataTable, element);\n",
              "          const docLink = document.createElement('div');\n",
              "          docLink.innerHTML = docLinkHtml;\n",
              "          element.appendChild(docLink);\n",
              "        }\n",
              "      </script>\n",
              "    </div>\n",
              "  </div>\n",
              "  "
            ]
          },
          "metadata": {}
        },
        {
          "output_type": "display_data",
          "data": {
            "text/plain": [
              "      labels_encoded\n",
              "0                  0\n",
              "1                  0\n",
              "2                  0\n",
              "3                  0\n",
              "4                  0\n",
              "...              ...\n",
              "9985               9\n",
              "9986               9\n",
              "9987               9\n",
              "9988               9\n",
              "9989               9\n",
              "\n",
              "[9990 rows x 1 columns]"
            ],
            "text/html": [
              "\n",
              "  <div id=\"df-3e4ba95b-3882-4dc7-8fe4-a06e16f1e08d\">\n",
              "    <div class=\"colab-df-container\">\n",
              "      <div>\n",
              "<style scoped>\n",
              "    .dataframe tbody tr th:only-of-type {\n",
              "        vertical-align: middle;\n",
              "    }\n",
              "\n",
              "    .dataframe tbody tr th {\n",
              "        vertical-align: top;\n",
              "    }\n",
              "\n",
              "    .dataframe thead th {\n",
              "        text-align: right;\n",
              "    }\n",
              "</style>\n",
              "<table border=\"1\" class=\"dataframe\">\n",
              "  <thead>\n",
              "    <tr style=\"text-align: right;\">\n",
              "      <th></th>\n",
              "      <th>labels_encoded</th>\n",
              "    </tr>\n",
              "  </thead>\n",
              "  <tbody>\n",
              "    <tr>\n",
              "      <th>0</th>\n",
              "      <td>0</td>\n",
              "    </tr>\n",
              "    <tr>\n",
              "      <th>1</th>\n",
              "      <td>0</td>\n",
              "    </tr>\n",
              "    <tr>\n",
              "      <th>2</th>\n",
              "      <td>0</td>\n",
              "    </tr>\n",
              "    <tr>\n",
              "      <th>3</th>\n",
              "      <td>0</td>\n",
              "    </tr>\n",
              "    <tr>\n",
              "      <th>4</th>\n",
              "      <td>0</td>\n",
              "    </tr>\n",
              "    <tr>\n",
              "      <th>...</th>\n",
              "      <td>...</td>\n",
              "    </tr>\n",
              "    <tr>\n",
              "      <th>9985</th>\n",
              "      <td>9</td>\n",
              "    </tr>\n",
              "    <tr>\n",
              "      <th>9986</th>\n",
              "      <td>9</td>\n",
              "    </tr>\n",
              "    <tr>\n",
              "      <th>9987</th>\n",
              "      <td>9</td>\n",
              "    </tr>\n",
              "    <tr>\n",
              "      <th>9988</th>\n",
              "      <td>9</td>\n",
              "    </tr>\n",
              "    <tr>\n",
              "      <th>9989</th>\n",
              "      <td>9</td>\n",
              "    </tr>\n",
              "  </tbody>\n",
              "</table>\n",
              "<p>9990 rows × 1 columns</p>\n",
              "</div>\n",
              "      <button class=\"colab-df-convert\" onclick=\"convertToInteractive('df-3e4ba95b-3882-4dc7-8fe4-a06e16f1e08d')\"\n",
              "              title=\"Convert this dataframe to an interactive table.\"\n",
              "              style=\"display:none;\">\n",
              "        \n",
              "  <svg xmlns=\"http://www.w3.org/2000/svg\" height=\"24px\"viewBox=\"0 0 24 24\"\n",
              "       width=\"24px\">\n",
              "    <path d=\"M0 0h24v24H0V0z\" fill=\"none\"/>\n",
              "    <path d=\"M18.56 5.44l.94 2.06.94-2.06 2.06-.94-2.06-.94-.94-2.06-.94 2.06-2.06.94zm-11 1L8.5 8.5l.94-2.06 2.06-.94-2.06-.94L8.5 2.5l-.94 2.06-2.06.94zm10 10l.94 2.06.94-2.06 2.06-.94-2.06-.94-.94-2.06-.94 2.06-2.06.94z\"/><path d=\"M17.41 7.96l-1.37-1.37c-.4-.4-.92-.59-1.43-.59-.52 0-1.04.2-1.43.59L10.3 9.45l-7.72 7.72c-.78.78-.78 2.05 0 2.83L4 21.41c.39.39.9.59 1.41.59.51 0 1.02-.2 1.41-.59l7.78-7.78 2.81-2.81c.8-.78.8-2.07 0-2.86zM5.41 20L4 18.59l7.72-7.72 1.47 1.35L5.41 20z\"/>\n",
              "  </svg>\n",
              "      </button>\n",
              "      \n",
              "  <style>\n",
              "    .colab-df-container {\n",
              "      display:flex;\n",
              "      flex-wrap:wrap;\n",
              "      gap: 12px;\n",
              "    }\n",
              "\n",
              "    .colab-df-convert {\n",
              "      background-color: #E8F0FE;\n",
              "      border: none;\n",
              "      border-radius: 50%;\n",
              "      cursor: pointer;\n",
              "      display: none;\n",
              "      fill: #1967D2;\n",
              "      height: 32px;\n",
              "      padding: 0 0 0 0;\n",
              "      width: 32px;\n",
              "    }\n",
              "\n",
              "    .colab-df-convert:hover {\n",
              "      background-color: #E2EBFA;\n",
              "      box-shadow: 0px 1px 2px rgba(60, 64, 67, 0.3), 0px 1px 3px 1px rgba(60, 64, 67, 0.15);\n",
              "      fill: #174EA6;\n",
              "    }\n",
              "\n",
              "    [theme=dark] .colab-df-convert {\n",
              "      background-color: #3B4455;\n",
              "      fill: #D2E3FC;\n",
              "    }\n",
              "\n",
              "    [theme=dark] .colab-df-convert:hover {\n",
              "      background-color: #434B5C;\n",
              "      box-shadow: 0px 1px 3px 1px rgba(0, 0, 0, 0.15);\n",
              "      filter: drop-shadow(0px 1px 2px rgba(0, 0, 0, 0.3));\n",
              "      fill: #FFFFFF;\n",
              "    }\n",
              "  </style>\n",
              "\n",
              "      <script>\n",
              "        const buttonEl =\n",
              "          document.querySelector('#df-3e4ba95b-3882-4dc7-8fe4-a06e16f1e08d button.colab-df-convert');\n",
              "        buttonEl.style.display =\n",
              "          google.colab.kernel.accessAllowed ? 'block' : 'none';\n",
              "\n",
              "        async function convertToInteractive(key) {\n",
              "          const element = document.querySelector('#df-3e4ba95b-3882-4dc7-8fe4-a06e16f1e08d');\n",
              "          const dataTable =\n",
              "            await google.colab.kernel.invokeFunction('convertToInteractive',\n",
              "                                                     [key], {});\n",
              "          if (!dataTable) return;\n",
              "\n",
              "          const docLinkHtml = 'Like what you see? Visit the ' +\n",
              "            '<a target=\"_blank\" href=https://colab.research.google.com/notebooks/data_table.ipynb>data table notebook</a>'\n",
              "            + ' to learn more about interactive tables.';\n",
              "          element.innerHTML = '';\n",
              "          dataTable['output_type'] = 'display_data';\n",
              "          await google.colab.output.renderOutput(dataTable, element);\n",
              "          const docLink = document.createElement('div');\n",
              "          docLink.innerHTML = docLinkHtml;\n",
              "          element.appendChild(docLink);\n",
              "        }\n",
              "      </script>\n",
              "    </div>\n",
              "  </div>\n",
              "  "
            ]
          },
          "metadata": {}
        }
      ],
      "source": [
        "X = df.copy()\n",
        "X.drop(['filename', 'label','length'],axis=1,inplace=True)\n",
        "display(X)\n",
        "Y=pd.DataFrame(df['labels_encoded'])\n",
        "display(Y)"
      ]
    },
    {
      "cell_type": "code",
      "execution_count": 51,
      "id": "5b370cca",
      "metadata": {
        "colab": {
          "base_uri": "https://localhost:8080/"
        },
        "id": "5b370cca",
        "outputId": "aafdba44-023a-43b9-f97d-13c11be6fe0d"
      },
      "outputs": [
        {
          "output_type": "stream",
          "name": "stdout",
          "text": [
            "(8990, 58)\n"
          ]
        }
      ],
      "source": [
        "x_train, x_test, y_train, y_test = train_test_split(X, Y, test_size=1000, random_state=1234)\n",
        "print(x_train.shape)\n"
      ]
    },
    {
      "cell_type": "code",
      "execution_count": 52,
      "id": "2ecaeb00",
      "metadata": {
        "id": "2ecaeb00"
      },
      "outputs": [],
      "source": [
        "x_zero=df[['zero_crossing_rate_mean','zero_crossing_rate_var',]]\n",
        "x_zero_train, x_zero_test, y_train_2, y_test_2 = train_test_split(x_zero, Y, test_size=1000, random_state=1234)\n",
        "x_spec_cen=df[['spectral_centroid_mean','spectral_centroid_var']]\n",
        "x_spec_cen_train, x_spec_cen_test, y_train_2, y_test_2 = train_test_split(x_spec_cen, Y, test_size=1000, random_state=1234)\n",
        "x_spec_ban=df[['spectral_bandwidth_mean','spectral_bandwidth_var']]\n",
        "x_spec_ban_train, x_spec_ban_test, y_train_2, y_test_2 = train_test_split(x_spec_ban, Y, test_size=1000, random_state=1234)\n",
        "x_mfcc=df[['mfcc1_mean','mfcc1_var','mfcc2_mean','mfcc2_var','mfcc3_mean','mfcc3_var','mfcc4_mean','mfcc4_var','mfcc5_mean','mfcc5_var','mfcc6_mean','mfcc6_var','mfcc7_mean','mfcc7_var','mfcc8_mean','mfcc8_var','mfcc9_mean','mfcc9_var','mfcc10_mean','mfcc10_var','mfcc11_mean','mfcc12_var','mfcc13_mean','mfcc13_var','mfcc14_mean','mfcc14_var','mfcc15_mean','mfcc15_var','mfcc16_mean','mfcc16_var','mfcc17_mean','mfcc17_var','mfcc18_mean','mfcc18_var','mfcc19_mean','mfcc19_var','mfcc20_mean','mfcc20_var']]\n",
        "x_mfcc_train, x_mfcc_test, y_train_2, y_test_2 = train_test_split(x_mfcc, Y, test_size=1000, random_state=1234)\n",
        "y_train_2= np.array(y_train_2).reshape(8990)\n",
        "y_test_2= np.array(y_test_2).reshape(1000)"
      ]
    },
    {
      "cell_type": "code",
      "execution_count": 53,
      "id": "749b91b9",
      "metadata": {
        "id": "749b91b9"
      },
      "outputs": [],
      "source": [
        "data_x=X\n"
      ]
    },
    {
      "cell_type": "code",
      "execution_count": 54,
      "id": "c63fa41a",
      "metadata": {
        "id": "c63fa41a"
      },
      "outputs": [],
      "source": [
        "xn_zero = data_x.copy()\n",
        "xn_zero.drop(['zero_crossing_rate_mean','zero_crossing_rate_var'],axis=1,inplace=True)\n",
        "xn_zero_train, xn_zero_test, y_train_3, y_test_3 = train_test_split(xn_zero, Y, test_size=1000, random_state=1234)\n",
        "\n",
        "xn_spec_cen=data_x.copy()\n",
        "xn_spec_cen.drop(['spectral_centroid_mean','spectral_centroid_var'],axis=1,inplace=True)\n",
        "xn_spec_cen_train, xn_spec_cen_test, y_train_3, y_test_3 = train_test_split(xn_spec_cen, Y, test_size=1000, random_state=1234)\n",
        "\n",
        "xn_spec_ban=data_x.copy()\n",
        "xn_spec_ban.drop(['spectral_bandwidth_mean','spectral_bandwidth_var'],axis=1,inplace=True)\n",
        "xn_spec_ban_train, xn_spec_ban_test, y_train_3, y_test_3 = train_test_split(xn_spec_ban, Y, test_size=1000, random_state=1234)\n",
        "\n",
        "xn_mfcc=data_x.copy()\n",
        "xn_mfcc.drop(['mfcc1_mean','mfcc1_var','mfcc2_mean','mfcc2_var','mfcc3_mean','mfcc3_var','mfcc4_mean','mfcc4_var','mfcc5_mean','mfcc5_var','mfcc6_mean','mfcc6_var','mfcc7_mean','mfcc7_var','mfcc8_mean','mfcc8_var','mfcc9_mean','mfcc9_var','mfcc10_mean','mfcc10_var','mfcc11_mean','mfcc12_var','mfcc13_mean','mfcc13_var','mfcc14_mean','mfcc14_var','mfcc15_mean','mfcc15_var','mfcc16_mean','mfcc16_var','mfcc17_mean','mfcc17_var','mfcc18_mean','mfcc18_var','mfcc19_mean','mfcc19_var','mfcc20_mean','mfcc20_var'],axis=1,inplace=True)\n",
        "xn_mfcc_train, xn_mfcc_test, yn_train_3, yn_test_3 = train_test_split(xn_mfcc, Y, test_size=1000, random_state=1234)\n",
        "\n",
        "\n",
        "y_train_3= np.array(y_train_3).reshape(8990)\n",
        "y_test_3= np.array(y_test_3).reshape(1000)"
      ]
    },
    {
      "cell_type": "code",
      "execution_count": 55,
      "id": "a65497be",
      "metadata": {
        "colab": {
          "base_uri": "https://localhost:8080/"
        },
        "id": "a65497be",
        "outputId": "172d1f60-a856-4eb5-8bb1-7480c16351e4"
      },
      "outputs": [
        {
          "output_type": "execute_result",
          "data": {
            "text/plain": [
              "(8990, 58)"
            ]
          },
          "metadata": {},
          "execution_count": 55
        }
      ],
      "source": [
        "x_train.shape"
      ]
    },
    {
      "cell_type": "code",
      "execution_count": 56,
      "id": "739e48e3",
      "metadata": {
        "id": "739e48e3"
      },
      "outputs": [],
      "source": [
        "sc = StandardScaler()\n",
        "\n",
        "x_train = x_train.iloc[:, :-1]\n",
        "x_test = x_test.iloc[:, :-1]\n",
        "\n",
        "x_train_scaled = sc.fit_transform(x_train)\n",
        "x_test_scaled = sc.transform(x_test)"
      ]
    },
    {
      "cell_type": "code",
      "execution_count": 57,
      "id": "24336267",
      "metadata": {
        "colab": {
          "base_uri": "https://localhost:8080/"
        },
        "id": "24336267",
        "outputId": "b5eaa036-aba0-4568-fbdf-fba471203d86"
      },
      "outputs": [
        {
          "output_type": "execute_result",
          "data": {
            "text/plain": [
              "(1000, 57)"
            ]
          },
          "metadata": {},
          "execution_count": 57
        }
      ],
      "source": [
        "x_test.shape"
      ]
    },
    {
      "cell_type": "code",
      "execution_count": 68,
      "id": "a72f71df",
      "metadata": {
        "id": "a72f71df"
      },
      "outputs": [],
      "source": [
        "def dtclass(criterion,splitter,max_depth):\n",
        "    clf = DecisionTreeClassifier(criterion=criterion, splitter=splitter,max_depth=max_depth)\n",
        "    clf = clf.fit(x_train,y_train)\n",
        "    y_pred1 = clf.predict(x_train)\n",
        "    print(\"training Accuracy:\",metrics.accuracy_score(y_train, y_pred1))\n",
        "    y_pred2 = clf.predict(x_test)\n",
        "    print(\"testing Accuracy:\",metrics.accuracy_score(y_test, y_pred2))\n",
        "\n",
        "    return metrics.accuracy_score(y_train, y_pred1), metrics.accuracy_score(y_test, y_pred2)\n",
        "    #print(\"precision_test\",precision_score(y_test, y_pred2,average='macro'))\n"
      ]
    },
    {
      "cell_type": "code",
      "execution_count": 59,
      "id": "14dce1ed",
      "metadata": {
        "colab": {
          "base_uri": "https://localhost:8080/"
        },
        "id": "14dce1ed",
        "outputId": "7c7ac11a-d55a-4d01-bbaf-97596e2c92af"
      },
      "outputs": [
        {
          "output_type": "stream",
          "name": "stdout",
          "text": [
            "training Accuracy: 0.31690767519466073\n",
            "testing Accuracy: 0.325\n"
          ]
        }
      ],
      "source": [
        "dtclass('gini','best',3)"
      ]
    },
    {
      "cell_type": "code",
      "execution_count": 60,
      "id": "14c67308",
      "metadata": {
        "colab": {
          "base_uri": "https://localhost:8080/"
        },
        "id": "14c67308",
        "outputId": "f5134d2f-7529-465b-c40b-aa998b62f569"
      },
      "outputs": [
        {
          "output_type": "stream",
          "name": "stdout",
          "text": [
            "training Accuracy: 0.37330367074527254\n",
            "testing Accuracy: 0.392\n"
          ]
        }
      ],
      "source": [
        "dtclass('entropy','best',3)"
      ]
    },
    {
      "cell_type": "code",
      "execution_count": 61,
      "id": "0bd3791b",
      "metadata": {
        "colab": {
          "base_uri": "https://localhost:8080/"
        },
        "id": "0bd3791b",
        "outputId": "e80df58a-7525-4bcd-decb-6d19d4a81f82"
      },
      "outputs": [
        {
          "output_type": "stream",
          "name": "stdout",
          "text": [
            "training Accuracy: 0.3407119021134594\n",
            "testing Accuracy: 0.323\n"
          ]
        }
      ],
      "source": [
        "dtclass(\"gini\",'random',3)\n"
      ]
    },
    {
      "cell_type": "code",
      "execution_count": 62,
      "id": "53e65508",
      "metadata": {
        "colab": {
          "base_uri": "https://localhost:8080/"
        },
        "id": "53e65508",
        "outputId": "8115f5a6-9d70-42dd-eccf-63ae38ef57c4"
      },
      "outputs": [
        {
          "output_type": "stream",
          "name": "stdout",
          "text": [
            "training Accuracy: 0.3703003337041157\n",
            "testing Accuracy: 0.349\n"
          ]
        }
      ],
      "source": [
        "dtclass(\"entropy\",'random',3)"
      ]
    },
    {
      "cell_type": "code",
      "execution_count": 63,
      "id": "38cfb558",
      "metadata": {
        "colab": {
          "base_uri": "https://localhost:8080/"
        },
        "id": "38cfb558",
        "outputId": "1e0eb911-316b-4e64-d350-01033c02571e"
      },
      "outputs": [
        {
          "output_type": "stream",
          "name": "stdout",
          "text": [
            "training Accuracy: 0.44449388209121243\n",
            "testing Accuracy: 0.433\n"
          ]
        }
      ],
      "source": [
        "dtclass(\"entropy\",'best',4)"
      ]
    },
    {
      "cell_type": "code",
      "execution_count": 64,
      "id": "23ec03c5",
      "metadata": {
        "colab": {
          "base_uri": "https://localhost:8080/"
        },
        "id": "23ec03c5",
        "outputId": "a416b4a1-1beb-4f98-b589-33a3fdd979df"
      },
      "outputs": [
        {
          "output_type": "stream",
          "name": "stdout",
          "text": [
            "training Accuracy: 0.317686318131257\n",
            "testing Accuracy: 0.324\n"
          ]
        }
      ],
      "source": [
        "dtclass(\"entropy\",'best',2)"
      ]
    },
    {
      "cell_type": "code",
      "source": [
        "dtclass(\"gini\", 'best', 5)"
      ],
      "metadata": {
        "colab": {
          "base_uri": "https://localhost:8080/"
        },
        "id": "9HMuPyfgUuhH",
        "outputId": "ecb37038-a2cc-4042-a0d8-4ad293ed7be8"
      },
      "id": "9HMuPyfgUuhH",
      "execution_count": 65,
      "outputs": [
        {
          "output_type": "stream",
          "name": "stdout",
          "text": [
            "training Accuracy: 0.4550611790878754\n",
            "testing Accuracy: 0.418\n"
          ]
        }
      ]
    },
    {
      "cell_type": "code",
      "source": [
        "dtclass(\"gini\", 'best', 6)"
      ],
      "metadata": {
        "colab": {
          "base_uri": "https://localhost:8080/"
        },
        "id": "Pxan4FVXUzva",
        "outputId": "528b7321-3383-464d-a2d1-9fc05c0be594"
      },
      "id": "Pxan4FVXUzva",
      "execution_count": 66,
      "outputs": [
        {
          "output_type": "stream",
          "name": "stdout",
          "text": [
            "training Accuracy: 0.5329254727474972\n",
            "testing Accuracy: 0.497\n"
          ]
        }
      ]
    },
    {
      "cell_type": "code",
      "source": [
        "dtclass(\"gini\", 'best', 7)"
      ],
      "metadata": {
        "colab": {
          "base_uri": "https://localhost:8080/"
        },
        "id": "B96-P-6vU4k3",
        "outputId": "35ca1589-6b6a-4b5a-815c-4fe662414b56"
      },
      "id": "B96-P-6vU4k3",
      "execution_count": 67,
      "outputs": [
        {
          "output_type": "stream",
          "name": "stdout",
          "text": [
            "training Accuracy: 0.5832035595105673\n",
            "testing Accuracy: 0.531\n"
          ]
        }
      ]
    },
    {
      "cell_type": "code",
      "source": [
        "a = [0]*20\n",
        "b = [0]*20\n",
        "for i in range(1, 20) :\n",
        "  print(\"depth :\", i)\n",
        "  a[i],b[i] = dtclass(\"gini\", 'best', i)\n",
        "  "
      ],
      "metadata": {
        "colab": {
          "base_uri": "https://localhost:8080/"
        },
        "id": "L3gTPBhnU8q3",
        "outputId": "2b4643b4-2726-433b-f65b-f3832de3ae0a"
      },
      "id": "L3gTPBhnU8q3",
      "execution_count": 85,
      "outputs": [
        {
          "output_type": "stream",
          "name": "stdout",
          "text": [
            "depth : 1\n",
            "training Accuracy: 0.17374860956618465\n",
            "testing Accuracy: 0.164\n",
            "depth : 2\n",
            "training Accuracy: 0.24315906562847608\n",
            "testing Accuracy: 0.259\n",
            "depth : 3\n",
            "training Accuracy: 0.31690767519466073\n",
            "testing Accuracy: 0.325\n",
            "depth : 4\n",
            "training Accuracy: 0.3968854282536151\n",
            "testing Accuracy: 0.408\n",
            "depth : 5\n",
            "training Accuracy: 0.4550611790878754\n",
            "testing Accuracy: 0.418\n",
            "depth : 6\n",
            "training Accuracy: 0.5329254727474972\n",
            "testing Accuracy: 0.498\n",
            "depth : 7\n",
            "training Accuracy: 0.5832035595105673\n",
            "testing Accuracy: 0.53\n",
            "depth : 8\n",
            "training Accuracy: 0.62146829810901\n",
            "testing Accuracy: 0.551\n",
            "depth : 9\n",
            "training Accuracy: 0.6741935483870968\n",
            "testing Accuracy: 0.597\n",
            "depth : 10\n",
            "training Accuracy: 0.7334816462736373\n",
            "testing Accuracy: 0.626\n",
            "depth : 11\n",
            "training Accuracy: 0.7863181312569522\n",
            "testing Accuracy: 0.647\n",
            "depth : 12\n",
            "training Accuracy: 0.8341490545050055\n",
            "testing Accuracy: 0.662\n",
            "depth : 13\n",
            "training Accuracy: 0.8802002224694104\n",
            "testing Accuracy: 0.68\n",
            "depth : 14\n",
            "training Accuracy: 0.9182424916573971\n",
            "testing Accuracy: 0.678\n",
            "depth : 15\n",
            "training Accuracy: 0.9450500556173527\n",
            "testing Accuracy: 0.691\n",
            "depth : 16\n",
            "training Accuracy: 0.9654060066740823\n",
            "testing Accuracy: 0.686\n",
            "depth : 17\n",
            "training Accuracy: 0.9777530589543938\n",
            "testing Accuracy: 0.685\n",
            "depth : 18\n",
            "training Accuracy: 0.98587319243604\n",
            "testing Accuracy: 0.687\n",
            "depth : 19\n",
            "training Accuracy: 0.9907675194660734\n",
            "testing Accuracy: 0.681\n"
          ]
        }
      ]
    },
    {
      "cell_type": "code",
      "source": [
        "a = [0]*20\n",
        "b = [0]*20\n",
        "for i in range(1, 20) :\n",
        "  print(\"depth :\", i)\n",
        "  a[i],b[i] = dtclass(\"entropy\", 'best', i)\n",
        "  "
      ],
      "metadata": {
        "colab": {
          "base_uri": "https://localhost:8080/"
        },
        "id": "quBE6RcwaeEa",
        "outputId": "970b576c-0c46-479e-c28b-5298a6575040"
      },
      "id": "quBE6RcwaeEa",
      "execution_count": 86,
      "outputs": [
        {
          "output_type": "stream",
          "name": "stdout",
          "text": [
            "depth : 1\n",
            "training Accuracy: 0.19488320355951055\n",
            "testing Accuracy: 0.18\n",
            "depth : 2\n",
            "training Accuracy: 0.317686318131257\n",
            "testing Accuracy: 0.324\n",
            "depth : 3\n",
            "training Accuracy: 0.37330367074527254\n",
            "testing Accuracy: 0.392\n",
            "depth : 4\n",
            "training Accuracy: 0.44449388209121243\n",
            "testing Accuracy: 0.433\n",
            "depth : 5\n",
            "training Accuracy: 0.4934371523915462\n",
            "testing Accuracy: 0.46\n",
            "depth : 6\n",
            "training Accuracy: 0.5661846496106785\n",
            "testing Accuracy: 0.521\n",
            "depth : 7\n",
            "training Accuracy: 0.632146829810901\n",
            "testing Accuracy: 0.588\n",
            "depth : 8\n",
            "training Accuracy: 0.7104560622914349\n",
            "testing Accuracy: 0.614\n",
            "depth : 9\n",
            "training Accuracy: 0.7690767519466073\n",
            "testing Accuracy: 0.619\n",
            "depth : 10\n",
            "training Accuracy: 0.839377085650723\n",
            "testing Accuracy: 0.651\n",
            "depth : 11\n",
            "training Accuracy: 0.8922135706340378\n",
            "testing Accuracy: 0.675\n",
            "depth : 12\n",
            "training Accuracy: 0.9380422691879866\n",
            "testing Accuracy: 0.675\n",
            "depth : 13\n",
            "training Accuracy: 0.9676307007786429\n",
            "testing Accuracy: 0.665\n",
            "depth : 14\n",
            "training Accuracy: 0.9826473859844271\n",
            "testing Accuracy: 0.672\n",
            "depth : 15\n",
            "training Accuracy: 0.9923248053392658\n",
            "testing Accuracy: 0.676\n",
            "depth : 16\n",
            "training Accuracy: 0.9961067853170189\n",
            "testing Accuracy: 0.684\n",
            "depth : 17\n",
            "training Accuracy: 0.9976640711902114\n",
            "testing Accuracy: 0.678\n",
            "depth : 18\n",
            "training Accuracy: 0.9985539488320356\n",
            "testing Accuracy: 0.688\n",
            "depth : 19\n",
            "training Accuracy: 0.9988876529477196\n",
            "testing Accuracy: 0.671\n"
          ]
        }
      ]
    },
    {
      "cell_type": "code",
      "source": [
        "plt.plot(a)\n",
        "plt.plot(b)\n",
        "plt.title(\"Accuracy VS tree depth\")\n",
        "plt.xlabel(\"Depth of Tree\")\n",
        "plt.ylabel(\"Accuracy\")\n",
        "plt.legend(['Train Accuracy', 'Test Accuracy'])"
      ],
      "metadata": {
        "colab": {
          "base_uri": "https://localhost:8080/",
          "height": 313
        },
        "id": "1H8YRpxLVh0r",
        "outputId": "7338fda6-7557-4b76-fb45-a0e7bb2c91d3"
      },
      "id": "1H8YRpxLVh0r",
      "execution_count": 82,
      "outputs": [
        {
          "output_type": "execute_result",
          "data": {
            "text/plain": [
              "<matplotlib.legend.Legend at 0x7f5623b30bd0>"
            ]
          },
          "metadata": {},
          "execution_count": 82
        },
        {
          "output_type": "display_data",
          "data": {
            "text/plain": [
              "<Figure size 432x288 with 1 Axes>"
            ],
            "image/png": "[encoded data removed]"
          },
          "metadata": {
            "needs_background": "light"
          }
        }
      ]
    },
    {
      "cell_type": "code",
      "execution_count": 87,
      "id": "4e235f6d",
      "metadata": {
        "id": "4e235f6d"
      },
      "outputs": [],
      "source": [
        "#random forest\n",
        "from sklearn.ensemble import RandomForestClassifier\n"
      ]
    },
    {
      "cell_type": "code",
      "execution_count": 88,
      "id": "38c350d8",
      "metadata": {
        "id": "38c350d8"
      },
      "outputs": [],
      "source": [
        "x_train, x_test, y_train, y_test = train_test_split(X, Y, test_size=1000, random_state=1234)\n",
        "y_train2= np.array(y_train).reshape(8990)\n",
        "y_test2= np.array(y_test).reshape(1000)"
      ]
    },
    {
      "cell_type": "code",
      "source": [
        "x_train.shape"
      ],
      "metadata": {
        "colab": {
          "base_uri": "https://localhost:8080/"
        },
        "id": "5ikivMKRbIDW",
        "outputId": "15a7004d-6343-4560-ffab-a61afc4fa33e"
      },
      "id": "5ikivMKRbIDW",
      "execution_count": 89,
      "outputs": [
        {
          "output_type": "execute_result",
          "data": {
            "text/plain": [
              "(8990, 58)"
            ]
          },
          "metadata": {},
          "execution_count": 89
        }
      ]
    },
    {
      "cell_type": "code",
      "source": [
        "sc = StandardScaler()\n",
        "\n",
        "x_train = x_train.iloc[:, :-1]\n",
        "x_test = x_test.iloc[:, :-1]\n",
        "\n",
        "x_train_scaled = sc.fit_transform(x_train)\n",
        "x_test_scaled = sc.transform(x_test)"
      ],
      "metadata": {
        "id": "UcSd-x0kbCpS"
      },
      "id": "UcSd-x0kbCpS",
      "execution_count": 90,
      "outputs": []
    },
    {
      "cell_type": "code",
      "execution_count": 91,
      "id": "4a8b756a",
      "metadata": {
        "id": "4a8b756a"
      },
      "outputs": [],
      "source": [
        "from sklearn.model_selection import GridSearchCV\n"
      ]
    },
    {
      "cell_type": "code",
      "execution_count": 92,
      "id": "bb8e9e89",
      "metadata": {
        "id": "bb8e9e89"
      },
      "outputs": [],
      "source": [
        "def rfclass(n_estimators,criterion,max_depth):\n",
        "    clf2=RandomForestClassifier(n_estimators=n_estimators, criterion= criterion,max_depth=max_depth)\n",
        "    clf2=clf2.fit(x_train,y_train2)\n",
        "    y_pred_rf1 = clf2.predict(x_train)\n",
        "    print(\"training Accuracy:\",metrics.accuracy_score(y_train2, y_pred_rf1))\n",
        "    y_pred_rf2 = clf2.predict(x_test)\n",
        "    print(\"testing Accuracy:\",metrics.accuracy_score(y_test2, y_pred_rf2))"
      ]
    },
    {
      "cell_type": "code",
      "execution_count": null,
      "id": "114dda4d",
      "metadata": {
        "id": "114dda4d"
      },
      "outputs": [],
      "source": [
        ""
      ]
    },
    {
      "cell_type": "code",
      "execution_count": 93,
      "id": "f52fb447",
      "metadata": {
        "id": "f52fb447"
      },
      "outputs": [],
      "source": [
        "n_estimators_lt= [50, 100, 200]\n",
        "max_depth_lt=[3,6,9]\n",
        "criterion_lt=['entropy','gini']"
      ]
    },
    {
      "cell_type": "code",
      "execution_count": 94,
      "id": "55dd499b",
      "metadata": {
        "colab": {
          "base_uri": "https://localhost:8080/"
        },
        "id": "55dd499b",
        "outputId": "0f733d14-0781-424d-efce-638cd4331bb0"
      },
      "outputs": [
        {
          "output_type": "stream",
          "name": "stdout",
          "text": [
            "50 3 entropy\n",
            "training Accuracy: 0.47419354838709676\n",
            "testing Accuracy: 0.45\n",
            "50 3 gini\n",
            "training Accuracy: 0.492769744160178\n",
            "testing Accuracy: 0.451\n",
            "50 6 entropy\n",
            "training Accuracy: 0.707230255839822\n",
            "testing Accuracy: 0.627\n",
            "50 6 gini\n",
            "training Accuracy: 0.6995550611790878\n",
            "testing Accuracy: 0.644\n",
            "50 9 entropy\n",
            "training Accuracy: 0.9449388209121246\n",
            "testing Accuracy: 0.784\n",
            "50 9 gini\n",
            "training Accuracy: 0.9025583982202448\n",
            "testing Accuracy: 0.754\n",
            "100 3 entropy\n",
            "training Accuracy: 0.4924360400444939\n",
            "testing Accuracy: 0.464\n",
            "100 3 gini\n",
            "training Accuracy: 0.5162402669632925\n",
            "testing Accuracy: 0.485\n",
            "100 6 entropy\n",
            "training Accuracy: 0.7155728587319243\n",
            "testing Accuracy: 0.641\n",
            "100 6 gini\n",
            "training Accuracy: 0.7110122358175751\n",
            "testing Accuracy: 0.652\n",
            "100 9 entropy\n",
            "training Accuracy: 0.9454949944382648\n",
            "testing Accuracy: 0.786\n",
            "100 9 gini\n",
            "training Accuracy: 0.903670745272525\n",
            "testing Accuracy: 0.762\n",
            "200 3 entropy\n",
            "training Accuracy: 0.4788654060066741\n",
            "testing Accuracy: 0.451\n",
            "200 3 gini\n",
            "training Accuracy: 0.510789766407119\n",
            "testing Accuracy: 0.469\n",
            "200 6 entropy\n",
            "training Accuracy: 0.7155728587319243\n",
            "testing Accuracy: 0.637\n",
            "200 6 gini\n",
            "training Accuracy: 0.7137931034482758\n",
            "testing Accuracy: 0.634\n",
            "200 9 entropy\n",
            "training Accuracy: 0.950166852057842\n",
            "testing Accuracy: 0.798\n",
            "200 9 gini\n",
            "training Accuracy: 0.9141268075639599\n",
            "testing Accuracy: 0.768\n"
          ]
        }
      ],
      "source": [
        "for i in n_estimators_lt:\n",
        "    for j in max_depth_lt:\n",
        "        for k in criterion_lt:\n",
        "            print(i,j,k)\n",
        "            rfclass(i,k,j)\n",
        "            "
      ]
    },
    {
      "cell_type": "code",
      "execution_count": null,
      "id": "e38f54d1",
      "metadata": {
        "id": "e38f54d1"
      },
      "outputs": [],
      "source": [
        ""
      ]
    },
    {
      "cell_type": "code",
      "execution_count": null,
      "id": "fe549114",
      "metadata": {
        "id": "fe549114"
      },
      "outputs": [],
      "source": [
        ""
      ]
    },
    {
      "cell_type": "code",
      "execution_count": null,
      "id": "ef84768f",
      "metadata": {
        "id": "ef84768f"
      },
      "outputs": [],
      "source": [
        ""
      ]
    },
    {
      "cell_type": "code",
      "execution_count": null,
      "id": "3c3a6f91",
      "metadata": {
        "id": "3c3a6f91"
      },
      "outputs": [],
      "source": [
        ""
      ]
    },
    {
      "cell_type": "code",
      "execution_count": null,
      "id": "85b16869",
      "metadata": {
        "id": "85b16869"
      },
      "outputs": [],
      "source": [
        ""
      ]
    },
    {
      "cell_type": "code",
      "execution_count": 95,
      "id": "ae55699e",
      "metadata": {
        "colab": {
          "base_uri": "https://localhost:8080/"
        },
        "id": "ae55699e",
        "outputId": "6628913c-815f-4328-fa8f-3b0a0374916f"
      },
      "outputs": [
        {
          "output_type": "stream",
          "name": "stdout",
          "text": [
            "Fitting 3 folds for each of 18 candidates, totalling 54 fits\n",
            "[CV 1/3; 1/18] START criterion=entropy, max_depth=3, n_estimators=50............\n",
            "[CV 1/3; 1/18] END criterion=entropy, max_depth=3, n_estimators=50;, score=0.473 total time=   2.6s\n",
            "[CV 2/3; 1/18] START criterion=entropy, max_depth=3, n_estimators=50............\n",
            "[CV 2/3; 1/18] END criterion=entropy, max_depth=3, n_estimators=50;, score=0.468 total time=   2.6s\n",
            "[CV 3/3; 1/18] START criterion=entropy, max_depth=3, n_estimators=50............\n",
            "[CV 3/3; 1/18] END criterion=entropy, max_depth=3, n_estimators=50;, score=0.467 total time=   2.6s\n",
            "[CV 1/3; 2/18] START criterion=entropy, max_depth=3, n_estimators=100...........\n",
            "[CV 1/3; 2/18] END criterion=entropy, max_depth=3, n_estimators=100;, score=0.466 total time=   5.1s\n",
            "[CV 2/3; 2/18] START criterion=entropy, max_depth=3, n_estimators=100...........\n",
            "[CV 2/3; 2/18] END criterion=entropy, max_depth=3, n_estimators=100;, score=0.480 total time=   5.1s\n",
            "[CV 3/3; 2/18] START criterion=entropy, max_depth=3, n_estimators=100...........\n",
            "[CV 3/3; 2/18] END criterion=entropy, max_depth=3, n_estimators=100;, score=0.488 total time=   5.1s\n",
            "[CV 1/3; 3/18] START criterion=entropy, max_depth=3, n_estimators=200...........\n",
            "[CV 1/3; 3/18] END criterion=entropy, max_depth=3, n_estimators=200;, score=0.461 total time=  10.2s\n",
            "[CV 2/3; 3/18] START criterion=entropy, max_depth=3, n_estimators=200...........\n",
            "[CV 2/3; 3/18] END criterion=entropy, max_depth=3, n_estimators=200;, score=0.472 total time=  10.2s\n",
            "[CV 3/3; 3/18] START criterion=entropy, max_depth=3, n_estimators=200...........\n",
            "[CV 3/3; 3/18] END criterion=entropy, max_depth=3, n_estimators=200;, score=0.477 total time=  10.2s\n",
            "[CV 1/3; 4/18] START criterion=entropy, max_depth=6, n_estimators=50............\n",
            "[CV 1/3; 4/18] END criterion=entropy, max_depth=6, n_estimators=50;, score=0.649 total time=   4.6s\n",
            "[CV 2/3; 4/18] START criterion=entropy, max_depth=6, n_estimators=50............\n",
            "[CV 2/3; 4/18] END criterion=entropy, max_depth=6, n_estimators=50;, score=0.662 total time=   4.6s\n",
            "[CV 3/3; 4/18] START criterion=entropy, max_depth=6, n_estimators=50............\n",
            "[CV 3/3; 4/18] END criterion=entropy, max_depth=6, n_estimators=50;, score=0.660 total time=   4.6s\n",
            "[CV 1/3; 5/18] START criterion=entropy, max_depth=6, n_estimators=100...........\n",
            "[CV 1/3; 5/18] END criterion=entropy, max_depth=6, n_estimators=100;, score=0.655 total time=   9.2s\n",
            "[CV 2/3; 5/18] START criterion=entropy, max_depth=6, n_estimators=100...........\n",
            "[CV 2/3; 5/18] END criterion=entropy, max_depth=6, n_estimators=100;, score=0.670 total time=   9.2s\n",
            "[CV 3/3; 5/18] START criterion=entropy, max_depth=6, n_estimators=100...........\n",
            "[CV 3/3; 5/18] END criterion=entropy, max_depth=6, n_estimators=100;, score=0.652 total time=   9.2s\n",
            "[CV 1/3; 6/18] START criterion=entropy, max_depth=6, n_estimators=200...........\n",
            "[CV 1/3; 6/18] END criterion=entropy, max_depth=6, n_estimators=200;, score=0.654 total time=  18.4s\n",
            "[CV 2/3; 6/18] START criterion=entropy, max_depth=6, n_estimators=200...........\n",
            "[CV 2/3; 6/18] END criterion=entropy, max_depth=6, n_estimators=200;, score=0.678 total time=  18.3s\n",
            "[CV 3/3; 6/18] START criterion=entropy, max_depth=6, n_estimators=200...........\n",
            "[CV 3/3; 6/18] END criterion=entropy, max_depth=6, n_estimators=200;, score=0.655 total time=  18.5s\n",
            "[CV 1/3; 7/18] START criterion=entropy, max_depth=9, n_estimators=50............\n",
            "[CV 1/3; 7/18] END criterion=entropy, max_depth=9, n_estimators=50;, score=0.773 total time=   6.0s\n",
            "[CV 2/3; 7/18] START criterion=entropy, max_depth=9, n_estimators=50............\n",
            "[CV 2/3; 7/18] END criterion=entropy, max_depth=9, n_estimators=50;, score=0.793 total time=   6.0s\n",
            "[CV 3/3; 7/18] START criterion=entropy, max_depth=9, n_estimators=50............\n",
            "[CV 3/3; 7/18] END criterion=entropy, max_depth=9, n_estimators=50;, score=0.773 total time=   6.0s\n",
            "[CV 1/3; 8/18] START criterion=entropy, max_depth=9, n_estimators=100...........\n",
            "[CV 1/3; 8/18] END criterion=entropy, max_depth=9, n_estimators=100;, score=0.780 total time=  12.0s\n",
            "[CV 2/3; 8/18] START criterion=entropy, max_depth=9, n_estimators=100...........\n",
            "[CV 2/3; 8/18] END criterion=entropy, max_depth=9, n_estimators=100;, score=0.810 total time=  11.9s\n",
            "[CV 3/3; 8/18] START criterion=entropy, max_depth=9, n_estimators=100...........\n",
            "[CV 3/3; 8/18] END criterion=entropy, max_depth=9, n_estimators=100;, score=0.783 total time=  12.0s\n",
            "[CV 1/3; 9/18] START criterion=entropy, max_depth=9, n_estimators=200...........\n",
            "[CV 1/3; 9/18] END criterion=entropy, max_depth=9, n_estimators=200;, score=0.786 total time=  23.8s\n",
            "[CV 2/3; 9/18] START criterion=entropy, max_depth=9, n_estimators=200...........\n",
            "[CV 2/3; 9/18] END criterion=entropy, max_depth=9, n_estimators=200;, score=0.813 total time=  23.9s\n",
            "[CV 3/3; 9/18] START criterion=entropy, max_depth=9, n_estimators=200...........\n",
            "[CV 3/3; 9/18] END criterion=entropy, max_depth=9, n_estimators=200;, score=0.789 total time=  23.9s\n",
            "[CV 1/3; 10/18] START criterion=gini, max_depth=3, n_estimators=50..............\n",
            "[CV 1/3; 10/18] END criterion=gini, max_depth=3, n_estimators=50;, score=0.498 total time=   0.7s\n",
            "[CV 2/3; 10/18] START criterion=gini, max_depth=3, n_estimators=50..............\n",
            "[CV 2/3; 10/18] END criterion=gini, max_depth=3, n_estimators=50;, score=0.505 total time=   0.7s\n",
            "[CV 3/3; 10/18] START criterion=gini, max_depth=3, n_estimators=50..............\n",
            "[CV 3/3; 10/18] END criterion=gini, max_depth=3, n_estimators=50;, score=0.503 total time=   0.7s\n",
            "[CV 1/3; 11/18] START criterion=gini, max_depth=3, n_estimators=100.............\n",
            "[CV 1/3; 11/18] END criterion=gini, max_depth=3, n_estimators=100;, score=0.500 total time=   1.4s\n",
            "[CV 2/3; 11/18] START criterion=gini, max_depth=3, n_estimators=100.............\n",
            "[CV 2/3; 11/18] END criterion=gini, max_depth=3, n_estimators=100;, score=0.488 total time=   1.4s\n",
            "[CV 3/3; 11/18] START criterion=gini, max_depth=3, n_estimators=100.............\n",
            "[CV 3/3; 11/18] END criterion=gini, max_depth=3, n_estimators=100;, score=0.513 total time=   1.3s\n",
            "[CV 1/3; 12/18] START criterion=gini, max_depth=3, n_estimators=200.............\n",
            "[CV 1/3; 12/18] END criterion=gini, max_depth=3, n_estimators=200;, score=0.496 total time=   2.7s\n",
            "[CV 2/3; 12/18] START criterion=gini, max_depth=3, n_estimators=200.............\n",
            "[CV 2/3; 12/18] END criterion=gini, max_depth=3, n_estimators=200;, score=0.504 total time=   2.7s\n",
            "[CV 3/3; 12/18] START criterion=gini, max_depth=3, n_estimators=200.............\n",
            "[CV 3/3; 12/18] END criterion=gini, max_depth=3, n_estimators=200;, score=0.515 total time=   2.7s\n",
            "[CV 1/3; 13/18] START criterion=gini, max_depth=6, n_estimators=50..............\n",
            "[CV 1/3; 13/18] END criterion=gini, max_depth=6, n_estimators=50;, score=0.644 total time=   1.2s\n",
            "[CV 2/3; 13/18] START criterion=gini, max_depth=6, n_estimators=50..............\n",
            "[CV 2/3; 13/18] END criterion=gini, max_depth=6, n_estimators=50;, score=0.658 total time=   1.2s\n",
            "[CV 3/3; 13/18] START criterion=gini, max_depth=6, n_estimators=50..............\n",
            "[CV 3/3; 13/18] END criterion=gini, max_depth=6, n_estimators=50;, score=0.647 total time=   1.2s\n",
            "[CV 1/3; 14/18] START criterion=gini, max_depth=6, n_estimators=100.............\n",
            "[CV 1/3; 14/18] END criterion=gini, max_depth=6, n_estimators=100;, score=0.649 total time=   2.3s\n",
            "[CV 2/3; 14/18] START criterion=gini, max_depth=6, n_estimators=100.............\n",
            "[CV 2/3; 14/18] END criterion=gini, max_depth=6, n_estimators=100;, score=0.657 total time=   2.3s\n",
            "[CV 3/3; 14/18] START criterion=gini, max_depth=6, n_estimators=100.............\n",
            "[CV 3/3; 14/18] END criterion=gini, max_depth=6, n_estimators=100;, score=0.645 total time=   2.3s\n",
            "[CV 1/3; 15/18] START criterion=gini, max_depth=6, n_estimators=200.............\n",
            "[CV 1/3; 15/18] END criterion=gini, max_depth=6, n_estimators=200;, score=0.665 total time=   4.6s\n",
            "[CV 2/3; 15/18] START criterion=gini, max_depth=6, n_estimators=200.............\n",
            "[CV 2/3; 15/18] END criterion=gini, max_depth=6, n_estimators=200;, score=0.669 total time=   4.7s\n",
            "[CV 3/3; 15/18] START criterion=gini, max_depth=6, n_estimators=200.............\n",
            "[CV 3/3; 15/18] END criterion=gini, max_depth=6, n_estimators=200;, score=0.657 total time=   4.7s\n",
            "[CV 1/3; 16/18] START criterion=gini, max_depth=9, n_estimators=50..............\n",
            "[CV 1/3; 16/18] END criterion=gini, max_depth=9, n_estimators=50;, score=0.756 total time=   1.6s\n",
            "[CV 2/3; 16/18] START criterion=gini, max_depth=9, n_estimators=50..............\n",
            "[CV 2/3; 16/18] END criterion=gini, max_depth=9, n_estimators=50;, score=0.773 total time=   1.6s\n",
            "[CV 3/3; 16/18] START criterion=gini, max_depth=9, n_estimators=50..............\n",
            "[CV 3/3; 16/18] END criterion=gini, max_depth=9, n_estimators=50;, score=0.749 total time=   1.6s\n",
            "[CV 1/3; 17/18] START criterion=gini, max_depth=9, n_estimators=100.............\n",
            "[CV 1/3; 17/18] END criterion=gini, max_depth=9, n_estimators=100;, score=0.768 total time=   3.2s\n",
            "[CV 2/3; 17/18] START criterion=gini, max_depth=9, n_estimators=100.............\n",
            "[CV 2/3; 17/18] END criterion=gini, max_depth=9, n_estimators=100;, score=0.780 total time=   3.1s\n",
            "[CV 3/3; 17/18] START criterion=gini, max_depth=9, n_estimators=100.............\n",
            "[CV 3/3; 17/18] END criterion=gini, max_depth=9, n_estimators=100;, score=0.754 total time=   3.2s\n",
            "[CV 1/3; 18/18] START criterion=gini, max_depth=9, n_estimators=200.............\n",
            "[CV 1/3; 18/18] END criterion=gini, max_depth=9, n_estimators=200;, score=0.765 total time=   6.2s\n",
            "[CV 2/3; 18/18] START criterion=gini, max_depth=9, n_estimators=200.............\n",
            "[CV 2/3; 18/18] END criterion=gini, max_depth=9, n_estimators=200;, score=0.788 total time=   6.3s\n",
            "[CV 3/3; 18/18] START criterion=gini, max_depth=9, n_estimators=200.............\n",
            "[CV 3/3; 18/18] END criterion=gini, max_depth=9, n_estimators=200;, score=0.763 total time=   6.3s\n"
          ]
        },
        {
          "output_type": "execute_result",
          "data": {
            "text/plain": [
              "GridSearchCV(cv=3, estimator=RandomForestClassifier(), n_jobs=1,\n",
              "             param_grid={'criterion': ['entropy', 'gini'],\n",
              "                         'max_depth': [3, 6, 9],\n",
              "                         'n_estimators': [50, 100, 200]},\n",
              "             scoring='accuracy', verbose=10)"
            ]
          },
          "metadata": {},
          "execution_count": 95
        }
      ],
      "source": [
        "rfModel=RandomForestClassifier()\n",
        "param_grid = {'n_estimators': [50, 100, 200],'max_depth': [3,6,9],'criterion':['entropy','gini']}\n",
        "model_gridsearch = GridSearchCV(estimator=rfModel,param_grid=param_grid,verbose=10,scoring='accuracy',n_jobs=1,cv=3)\n",
        "model_gridsearch.fit(x_train, y_train2)\n"
      ]
    },
    {
      "cell_type": "code",
      "execution_count": 96,
      "id": "cdd81fe7",
      "metadata": {
        "colab": {
          "base_uri": "https://localhost:8080/"
        },
        "id": "cdd81fe7",
        "outputId": "d06054d7-efc5-4886-9072-9d0166dfc767"
      },
      "outputs": [
        {
          "output_type": "stream",
          "name": "stdout",
          "text": [
            "{'criterion': 'entropy', 'max_depth': 9, 'n_estimators': 200}\n",
            "RandomForestClassifier(criterion='entropy', max_depth=9, n_estimators=200)\n",
            "0.9492769744160178\n",
            "{'criterion': 'entropy', 'max_depth': 9, 'n_estimators': 200}\n",
            "RandomForestClassifier(criterion='entropy', max_depth=9, n_estimators=200)\n",
            "0.789\n"
          ]
        }
      ],
      "source": [
        "y_pred_grid = model_gridsearch.predict(x_train)\n",
        "accuracy_grid = metrics.accuracy_score(y_train2, y_pred_grid)\n",
        "print(model_gridsearch.best_params_)\n",
        "print(model_gridsearch.best_estimator_)\n",
        "print(accuracy_grid)\n",
        "\n",
        "y_pred_grid = model_gridsearch.predict(x_test)\n",
        "accuracy_grid = metrics.accuracy_score(y_test2, y_pred_grid)\n",
        "print(model_gridsearch.best_params_)\n",
        "print(model_gridsearch.best_estimator_)\n",
        "print(accuracy_grid)\n"
      ]
    },
    {
      "cell_type": "code",
      "execution_count": null,
      "id": "da6415c7",
      "metadata": {
        "id": "da6415c7"
      },
      "outputs": [],
      "source": [
        ""
      ]
    },
    {
      "cell_type": "code",
      "execution_count": null,
      "id": "fb9e0d3f",
      "metadata": {
        "id": "fb9e0d3f"
      },
      "outputs": [],
      "source": [
        ""
      ]
    },
    {
      "cell_type": "code",
      "execution_count": null,
      "id": "d7d86800",
      "metadata": {
        "id": "d7d86800"
      },
      "outputs": [],
      "source": [
        ""
      ]
    },
    {
      "cell_type": "code",
      "execution_count": 97,
      "id": "0036673f",
      "metadata": {
        "colab": {
          "base_uri": "https://localhost:8080/"
        },
        "id": "0036673f",
        "outputId": "5491bc3f-5ee8-4035-8b5c-0352ff4f8f49"
      },
      "outputs": [
        {
          "output_type": "stream",
          "name": "stdout",
          "text": [
            "Fitting 3 folds for each of 18 candidates, totalling 54 fits\n",
            "[CV 1/3; 1/18] START criterion=entropy, max_depth=3, n_estimators=50............\n",
            "[CV 1/3; 1/18] END criterion=entropy, max_depth=3, n_estimators=50;, score=0.302 total time=   0.5s\n",
            "[CV 2/3; 1/18] START criterion=entropy, max_depth=3, n_estimators=50............\n",
            "[CV 2/3; 1/18] END criterion=entropy, max_depth=3, n_estimators=50;, score=0.303 total time=   0.5s\n",
            "[CV 3/3; 1/18] START criterion=entropy, max_depth=3, n_estimators=50............\n",
            "[CV 3/3; 1/18] END criterion=entropy, max_depth=3, n_estimators=50;, score=0.300 total time=   0.5s\n",
            "[CV 1/3; 2/18] START criterion=entropy, max_depth=3, n_estimators=100...........\n",
            "[CV 1/3; 2/18] END criterion=entropy, max_depth=3, n_estimators=100;, score=0.306 total time=   1.0s\n",
            "[CV 2/3; 2/18] START criterion=entropy, max_depth=3, n_estimators=100...........\n",
            "[CV 2/3; 2/18] END criterion=entropy, max_depth=3, n_estimators=100;, score=0.297 total time=   1.0s\n",
            "[CV 3/3; 2/18] START criterion=entropy, max_depth=3, n_estimators=100...........\n",
            "[CV 3/3; 2/18] END criterion=entropy, max_depth=3, n_estimators=100;, score=0.294 total time=   1.0s\n",
            "[CV 1/3; 3/18] START criterion=entropy, max_depth=3, n_estimators=200...........\n",
            "[CV 1/3; 3/18] END criterion=entropy, max_depth=3, n_estimators=200;, score=0.302 total time=   1.9s\n",
            "[CV 2/3; 3/18] START criterion=entropy, max_depth=3, n_estimators=200...........\n",
            "[CV 2/3; 3/18] END criterion=entropy, max_depth=3, n_estimators=200;, score=0.298 total time=   1.9s\n",
            "[CV 3/3; 3/18] START criterion=entropy, max_depth=3, n_estimators=200...........\n",
            "[CV 3/3; 3/18] END criterion=entropy, max_depth=3, n_estimators=200;, score=0.296 total time=   2.0s\n",
            "[CV 1/3; 4/18] START criterion=entropy, max_depth=6, n_estimators=50............\n",
            "[CV 1/3; 4/18] END criterion=entropy, max_depth=6, n_estimators=50;, score=0.327 total time=   0.8s\n",
            "[CV 2/3; 4/18] START criterion=entropy, max_depth=6, n_estimators=50............\n",
            "[CV 2/3; 4/18] END criterion=entropy, max_depth=6, n_estimators=50;, score=0.313 total time=   0.9s\n",
            "[CV 3/3; 4/18] START criterion=entropy, max_depth=6, n_estimators=50............\n",
            "[CV 3/3; 4/18] END criterion=entropy, max_depth=6, n_estimators=50;, score=0.317 total time=   0.8s\n",
            "[CV 1/3; 5/18] START criterion=entropy, max_depth=6, n_estimators=100...........\n",
            "[CV 1/3; 5/18] END criterion=entropy, max_depth=6, n_estimators=100;, score=0.327 total time=   1.7s\n",
            "[CV 2/3; 5/18] START criterion=entropy, max_depth=6, n_estimators=100...........\n",
            "[CV 2/3; 5/18] END criterion=entropy, max_depth=6, n_estimators=100;, score=0.313 total time=   1.6s\n",
            "[CV 3/3; 5/18] START criterion=entropy, max_depth=6, n_estimators=100...........\n",
            "[CV 3/3; 5/18] END criterion=entropy, max_depth=6, n_estimators=100;, score=0.315 total time=   1.7s\n",
            "[CV 1/3; 6/18] START criterion=entropy, max_depth=6, n_estimators=200...........\n",
            "[CV 1/3; 6/18] END criterion=entropy, max_depth=6, n_estimators=200;, score=0.327 total time=   3.3s\n",
            "[CV 2/3; 6/18] START criterion=entropy, max_depth=6, n_estimators=200...........\n",
            "[CV 2/3; 6/18] END criterion=entropy, max_depth=6, n_estimators=200;, score=0.314 total time=   3.3s\n",
            "[CV 3/3; 6/18] START criterion=entropy, max_depth=6, n_estimators=200...........\n",
            "[CV 3/3; 6/18] END criterion=entropy, max_depth=6, n_estimators=200;, score=0.316 total time=   3.3s\n",
            "[CV 1/3; 7/18] START criterion=entropy, max_depth=9, n_estimators=50............\n",
            "[CV 1/3; 7/18] END criterion=entropy, max_depth=9, n_estimators=50;, score=0.327 total time=   1.1s\n",
            "[CV 2/3; 7/18] START criterion=entropy, max_depth=9, n_estimators=50............\n",
            "[CV 2/3; 7/18] END criterion=entropy, max_depth=9, n_estimators=50;, score=0.302 total time=   1.1s\n",
            "[CV 3/3; 7/18] START criterion=entropy, max_depth=9, n_estimators=50............\n",
            "[CV 3/3; 7/18] END criterion=entropy, max_depth=9, n_estimators=50;, score=0.312 total time=   1.1s\n",
            "[CV 1/3; 8/18] START criterion=entropy, max_depth=9, n_estimators=100...........\n",
            "[CV 1/3; 8/18] END criterion=entropy, max_depth=9, n_estimators=100;, score=0.330 total time=   2.3s\n",
            "[CV 2/3; 8/18] START criterion=entropy, max_depth=9, n_estimators=100...........\n",
            "[CV 2/3; 8/18] END criterion=entropy, max_depth=9, n_estimators=100;, score=0.312 total time=   2.3s\n",
            "[CV 3/3; 8/18] START criterion=entropy, max_depth=9, n_estimators=100...........\n",
            "[CV 3/3; 8/18] END criterion=entropy, max_depth=9, n_estimators=100;, score=0.309 total time=   2.3s\n",
            "[CV 1/3; 9/18] START criterion=entropy, max_depth=9, n_estimators=200...........\n",
            "[CV 1/3; 9/18] END criterion=entropy, max_depth=9, n_estimators=200;, score=0.330 total time=   4.5s\n",
            "[CV 2/3; 9/18] START criterion=entropy, max_depth=9, n_estimators=200...........\n",
            "[CV 2/3; 9/18] END criterion=entropy, max_depth=9, n_estimators=200;, score=0.311 total time=   4.5s\n",
            "[CV 3/3; 9/18] START criterion=entropy, max_depth=9, n_estimators=200...........\n",
            "[CV 3/3; 9/18] END criterion=entropy, max_depth=9, n_estimators=200;, score=0.308 total time=   4.5s\n",
            "[CV 1/3; 10/18] START criterion=random, max_depth=3, n_estimators=50............\n",
            "[CV 1/3; 10/18] END criterion=random, max_depth=3, n_estimators=50;, score=nan total time=   0.0s\n",
            "[CV 2/3; 10/18] START criterion=random, max_depth=3, n_estimators=50............\n",
            "[CV 2/3; 10/18] END criterion=random, max_depth=3, n_estimators=50;, score=nan total time=   0.0s\n",
            "[CV 3/3; 10/18] START criterion=random, max_depth=3, n_estimators=50............\n",
            "[CV 3/3; 10/18] END criterion=random, max_depth=3, n_estimators=50;, score=nan total time=   0.0s\n",
            "[CV 1/3; 11/18] START criterion=random, max_depth=3, n_estimators=100...........\n",
            "[CV 1/3; 11/18] END criterion=random, max_depth=3, n_estimators=100;, score=nan total time=   0.0s\n",
            "[CV 2/3; 11/18] START criterion=random, max_depth=3, n_estimators=100...........\n",
            "[CV 2/3; 11/18] END criterion=random, max_depth=3, n_estimators=100;, score=nan total time=   0.0s\n",
            "[CV 3/3; 11/18] START criterion=random, max_depth=3, n_estimators=100...........\n",
            "[CV 3/3; 11/18] END criterion=random, max_depth=3, n_estimators=100;, score=nan total time=   0.0s\n",
            "[CV 1/3; 12/18] START criterion=random, max_depth=3, n_estimators=200...........\n",
            "[CV 1/3; 12/18] END criterion=random, max_depth=3, n_estimators=200;, score=nan total time=   0.1s\n",
            "[CV 2/3; 12/18] START criterion=random, max_depth=3, n_estimators=200...........\n",
            "[CV 2/3; 12/18] END criterion=random, max_depth=3, n_estimators=200;, score=nan total time=   0.1s\n",
            "[CV 3/3; 12/18] START criterion=random, max_depth=3, n_estimators=200...........\n",
            "[CV 3/3; 12/18] END criterion=random, max_depth=3, n_estimators=200;, score=nan total time=   0.1s\n",
            "[CV 1/3; 13/18] START criterion=random, max_depth=6, n_estimators=50............\n",
            "[CV 1/3; 13/18] END criterion=random, max_depth=6, n_estimators=50;, score=nan total time=   0.0s\n",
            "[CV 2/3; 13/18] START criterion=random, max_depth=6, n_estimators=50............\n",
            "[CV 2/3; 13/18] END criterion=random, max_depth=6, n_estimators=50;, score=nan total time=   0.0s\n",
            "[CV 3/3; 13/18] START criterion=random, max_depth=6, n_estimators=50............\n",
            "[CV 3/3; 13/18] END criterion=random, max_depth=6, n_estimators=50;, score=nan total time=   0.0s\n",
            "[CV 1/3; 14/18] START criterion=random, max_depth=6, n_estimators=100...........\n",
            "[CV 1/3; 14/18] END criterion=random, max_depth=6, n_estimators=100;, score=nan total time=   0.0s\n",
            "[CV 2/3; 14/18] START criterion=random, max_depth=6, n_estimators=100...........\n",
            "[CV 2/3; 14/18] END criterion=random, max_depth=6, n_estimators=100;, score=nan total time=   0.0s\n",
            "[CV 3/3; 14/18] START criterion=random, max_depth=6, n_estimators=100...........\n",
            "[CV 3/3; 14/18] END criterion=random, max_depth=6, n_estimators=100;, score=nan total time=   0.0s\n",
            "[CV 1/3; 15/18] START criterion=random, max_depth=6, n_estimators=200...........\n",
            "[CV 1/3; 15/18] END criterion=random, max_depth=6, n_estimators=200;, score=nan total time=   0.1s\n",
            "[CV 2/3; 15/18] START criterion=random, max_depth=6, n_estimators=200...........\n",
            "[CV 2/3; 15/18] END criterion=random, max_depth=6, n_estimators=200;, score=nan total time=   0.1s\n",
            "[CV 3/3; 15/18] START criterion=random, max_depth=6, n_estimators=200...........\n",
            "[CV 3/3; 15/18] END criterion=random, max_depth=6, n_estimators=200;, score=nan total time=   0.1s\n",
            "[CV 1/3; 16/18] START criterion=random, max_depth=9, n_estimators=50............\n",
            "[CV 1/3; 16/18] END criterion=random, max_depth=9, n_estimators=50;, score=nan total time=   0.0s\n",
            "[CV 2/3; 16/18] START criterion=random, max_depth=9, n_estimators=50............\n",
            "[CV 2/3; 16/18] END criterion=random, max_depth=9, n_estimators=50;, score=nan total time=   0.0s\n",
            "[CV 3/3; 16/18] START criterion=random, max_depth=9, n_estimators=50............\n",
            "[CV 3/3; 16/18] END criterion=random, max_depth=9, n_estimators=50;, score=nan total time=   0.0s\n",
            "[CV 1/3; 17/18] START criterion=random, max_depth=9, n_estimators=100...........\n",
            "[CV 1/3; 17/18] END criterion=random, max_depth=9, n_estimators=100;, score=nan total time=   0.0s\n",
            "[CV 2/3; 17/18] START criterion=random, max_depth=9, n_estimators=100...........\n",
            "[CV 2/3; 17/18] END criterion=random, max_depth=9, n_estimators=100;, score=nan total time=   0.0s\n",
            "[CV 3/3; 17/18] START criterion=random, max_depth=9, n_estimators=100...........\n",
            "[CV 3/3; 17/18] END criterion=random, max_depth=9, n_estimators=100;, score=nan total time=   0.0s\n",
            "[CV 1/3; 18/18] START criterion=random, max_depth=9, n_estimators=200...........\n",
            "[CV 1/3; 18/18] END criterion=random, max_depth=9, n_estimators=200;, score=nan total time=   0.1s\n",
            "[CV 2/3; 18/18] START criterion=random, max_depth=9, n_estimators=200...........\n",
            "[CV 2/3; 18/18] END criterion=random, max_depth=9, n_estimators=200;, score=nan total time=   0.1s\n",
            "[CV 3/3; 18/18] START criterion=random, max_depth=9, n_estimators=200...........\n",
            "[CV 3/3; 18/18] END criterion=random, max_depth=9, n_estimators=200;, score=nan total time=   0.1s\n"
          ]
        },
        {
          "output_type": "stream",
          "name": "stderr",
          "text": [
            "/usr/local/lib/python3.7/dist-packages/sklearn/model_selection/_validation.py:372: FitFailedWarning: \n",
            "27 fits failed out of a total of 54.\n",
            "The score on these train-test partitions for these parameters will be set to nan.\n",
            "If these failures are not expected, you can try to debug them by setting error_score='raise'.\n",
            "\n",
            "Below are more details about the failures:\n",
            "--------------------------------------------------------------------------------\n",
            "27 fits failed with the following error:\n",
            "Traceback (most recent call last):\n",
            "  File \"/usr/local/lib/python3.7/dist-packages/sklearn/model_selection/_validation.py\", line 680, in _fit_and_score\n",
            "    estimator.fit(X_train, y_train, **fit_params)\n",
            "  File \"/usr/local/lib/python3.7/dist-packages/sklearn/ensemble/_forest.py\", line 467, in fit\n",
            "    for i, t in enumerate(trees)\n",
            "  File \"/usr/local/lib/python3.7/dist-packages/joblib/parallel.py\", line 1043, in __call__\n",
            "    if self.dispatch_one_batch(iterator):\n",
            "  File \"/usr/local/lib/python3.7/dist-packages/joblib/parallel.py\", line 861, in dispatch_one_batch\n",
            "    self._dispatch(tasks)\n",
            "  File \"/usr/local/lib/python3.7/dist-packages/joblib/parallel.py\", line 779, in _dispatch\n",
            "    job = self._backend.apply_async(batch, callback=cb)\n",
            "  File \"/usr/local/lib/python3.7/dist-packages/joblib/_parallel_backends.py\", line 208, in apply_async\n",
            "    result = ImmediateResult(func)\n",
            "  File \"/usr/local/lib/python3.7/dist-packages/joblib/_parallel_backends.py\", line 572, in __init__\n",
            "    self.results = batch()\n",
            "  File \"/usr/local/lib/python3.7/dist-packages/joblib/parallel.py\", line 263, in __call__\n",
            "    for func, args, kwargs in self.items]\n",
            "  File \"/usr/local/lib/python3.7/dist-packages/joblib/parallel.py\", line 263, in <listcomp>\n",
            "    for func, args, kwargs in self.items]\n",
            "  File \"/usr/local/lib/python3.7/dist-packages/sklearn/utils/fixes.py\", line 216, in __call__\n",
            "    return self.function(*args, **kwargs)\n",
            "  File \"/usr/local/lib/python3.7/dist-packages/sklearn/ensemble/_forest.py\", line 185, in _parallel_build_trees\n",
            "    tree.fit(X, y, sample_weight=curr_sample_weight, check_input=False)\n",
            "  File \"/usr/local/lib/python3.7/dist-packages/sklearn/tree/_classes.py\", line 942, in fit\n",
            "    X_idx_sorted=X_idx_sorted,\n",
            "  File \"/usr/local/lib/python3.7/dist-packages/sklearn/tree/_classes.py\", line 352, in fit\n",
            "    criterion = CRITERIA_CLF[self.criterion](\n",
            "KeyError: 'random'\n",
            "\n",
            "  warnings.warn(some_fits_failed_message, FitFailedWarning)\n",
            "/usr/local/lib/python3.7/dist-packages/sklearn/model_selection/_search.py:972: UserWarning: One or more of the test scores are non-finite: [0.30155716 0.2991096  0.29877608 0.31902092 0.31824218 0.31902081\n",
            " 0.31379295 0.31712921 0.3161281         nan        nan        nan\n",
            "        nan        nan        nan        nan        nan        nan]\n",
            "  category=UserWarning,\n"
          ]
        },
        {
          "output_type": "execute_result",
          "data": {
            "text/plain": [
              "GridSearchCV(cv=3, estimator=RandomForestClassifier(), n_jobs=1,\n",
              "             param_grid={'criterion': ['entropy', 'random'],\n",
              "                         'max_depth': [3, 6, 9],\n",
              "                         'n_estimators': [50, 100, 200]},\n",
              "             scoring='accuracy', verbose=10)"
            ]
          },
          "metadata": {},
          "execution_count": 97
        }
      ],
      "source": [
        "rfModel=RandomForestClassifier()\n",
        "param_grid = {'n_estimators': [50, 100, 200],'max_depth': [3,6,9],'criterion':['entropy','random']}\n",
        "model_gridsearch = GridSearchCV(estimator=rfModel,param_grid=param_grid,verbose=10,scoring='accuracy',n_jobs=1,cv=3)\n",
        "model_gridsearch.fit(x_zero_train, y_train_2)\n"
      ]
    },
    {
      "cell_type": "code",
      "execution_count": 98,
      "id": "b270aeb9",
      "metadata": {
        "colab": {
          "base_uri": "https://localhost:8080/"
        },
        "id": "b270aeb9",
        "outputId": "ec3e4d26-e6c0-4afb-ec5f-724a8b54b3de"
      },
      "outputs": [
        {
          "output_type": "stream",
          "name": "stdout",
          "text": [
            "{'criterion': 'entropy', 'max_depth': 6, 'n_estimators': 50}\n",
            "RandomForestClassifier(criterion='entropy', max_depth=6, n_estimators=50)\n",
            "0.3507230255839822\n",
            "{'criterion': 'entropy', 'max_depth': 6, 'n_estimators': 50}\n",
            "RandomForestClassifier(criterion='entropy', max_depth=6, n_estimators=50)\n",
            "0.326\n"
          ]
        }
      ],
      "source": [
        "y_pred_grid = model_gridsearch.predict(x_zero_train)\n",
        "accuracy_grid = metrics.accuracy_score(y_train_2, y_pred_grid)\n",
        "print(model_gridsearch.best_params_)\n",
        "print(model_gridsearch.best_estimator_)\n",
        "print(accuracy_grid)\n",
        "\n",
        "y_pred_grid = model_gridsearch.predict(x_zero_test)\n",
        "accuracy_grid = metrics.accuracy_score(y_test_2, y_pred_grid)\n",
        "print(model_gridsearch.best_params_)\n",
        "print(model_gridsearch.best_estimator_)\n",
        "print(accuracy_grid)"
      ]
    },
    {
      "cell_type": "code",
      "execution_count": 99,
      "id": "6b8e0af4",
      "metadata": {
        "colab": {
          "base_uri": "https://localhost:8080/"
        },
        "id": "6b8e0af4",
        "outputId": "aa1289c3-a75c-470a-cc60-adc79fb1f5be"
      },
      "outputs": [
        {
          "output_type": "stream",
          "name": "stdout",
          "text": [
            "Fitting 3 folds for each of 18 candidates, totalling 54 fits\n",
            "[CV 1/3; 1/18] START criterion=entropy, max_depth=3, n_estimators=50............\n",
            "[CV 1/3; 1/18] END criterion=entropy, max_depth=3, n_estimators=50;, score=0.349 total time=   0.5s\n",
            "[CV 2/3; 1/18] START criterion=entropy, max_depth=3, n_estimators=50............\n",
            "[CV 2/3; 1/18] END criterion=entropy, max_depth=3, n_estimators=50;, score=0.347 total time=   0.5s\n",
            "[CV 3/3; 1/18] START criterion=entropy, max_depth=3, n_estimators=50............\n",
            "[CV 3/3; 1/18] END criterion=entropy, max_depth=3, n_estimators=50;, score=0.352 total time=   0.5s\n",
            "[CV 1/3; 2/18] START criterion=entropy, max_depth=3, n_estimators=100...........\n",
            "[CV 1/3; 2/18] END criterion=entropy, max_depth=3, n_estimators=100;, score=0.345 total time=   1.0s\n",
            "[CV 2/3; 2/18] START criterion=entropy, max_depth=3, n_estimators=100...........\n",
            "[CV 2/3; 2/18] END criterion=entropy, max_depth=3, n_estimators=100;, score=0.344 total time=   1.0s\n",
            "[CV 3/3; 2/18] START criterion=entropy, max_depth=3, n_estimators=100...........\n",
            "[CV 3/3; 2/18] END criterion=entropy, max_depth=3, n_estimators=100;, score=0.357 total time=   1.0s\n",
            "[CV 1/3; 3/18] START criterion=entropy, max_depth=3, n_estimators=200...........\n",
            "[CV 1/3; 3/18] END criterion=entropy, max_depth=3, n_estimators=200;, score=0.356 total time=   1.9s\n",
            "[CV 2/3; 3/18] START criterion=entropy, max_depth=3, n_estimators=200...........\n",
            "[CV 2/3; 3/18] END criterion=entropy, max_depth=3, n_estimators=200;, score=0.351 total time=   1.9s\n",
            "[CV 3/3; 3/18] START criterion=entropy, max_depth=3, n_estimators=200...........\n",
            "[CV 3/3; 3/18] END criterion=entropy, max_depth=3, n_estimators=200;, score=0.353 total time=   2.0s\n",
            "[CV 1/3; 4/18] START criterion=entropy, max_depth=6, n_estimators=50............\n",
            "[CV 1/3; 4/18] END criterion=entropy, max_depth=6, n_estimators=50;, score=0.368 total time=   0.8s\n",
            "[CV 2/3; 4/18] START criterion=entropy, max_depth=6, n_estimators=50............\n",
            "[CV 2/3; 4/18] END criterion=entropy, max_depth=6, n_estimators=50;, score=0.349 total time=   0.8s\n",
            "[CV 3/3; 4/18] START criterion=entropy, max_depth=6, n_estimators=50............\n",
            "[CV 3/3; 4/18] END criterion=entropy, max_depth=6, n_estimators=50;, score=0.365 total time=   0.8s\n",
            "[CV 1/3; 5/18] START criterion=entropy, max_depth=6, n_estimators=100...........\n",
            "[CV 1/3; 5/18] END criterion=entropy, max_depth=6, n_estimators=100;, score=0.365 total time=   1.6s\n",
            "[CV 2/3; 5/18] START criterion=entropy, max_depth=6, n_estimators=100...........\n",
            "[CV 2/3; 5/18] END criterion=entropy, max_depth=6, n_estimators=100;, score=0.356 total time=   1.7s\n",
            "[CV 3/3; 5/18] START criterion=entropy, max_depth=6, n_estimators=100...........\n",
            "[CV 3/3; 5/18] END criterion=entropy, max_depth=6, n_estimators=100;, score=0.363 total time=   1.7s\n",
            "[CV 1/3; 6/18] START criterion=entropy, max_depth=6, n_estimators=200...........\n",
            "[CV 1/3; 6/18] END criterion=entropy, max_depth=6, n_estimators=200;, score=0.367 total time=   3.4s\n",
            "[CV 2/3; 6/18] START criterion=entropy, max_depth=6, n_estimators=200...........\n",
            "[CV 2/3; 6/18] END criterion=entropy, max_depth=6, n_estimators=200;, score=0.355 total time=   3.3s\n",
            "[CV 3/3; 6/18] START criterion=entropy, max_depth=6, n_estimators=200...........\n",
            "[CV 3/3; 6/18] END criterion=entropy, max_depth=6, n_estimators=200;, score=0.365 total time=   3.3s\n",
            "[CV 1/3; 7/18] START criterion=entropy, max_depth=9, n_estimators=50............\n",
            "[CV 1/3; 7/18] END criterion=entropy, max_depth=9, n_estimators=50;, score=0.355 total time=   1.1s\n",
            "[CV 2/3; 7/18] START criterion=entropy, max_depth=9, n_estimators=50............\n",
            "[CV 2/3; 7/18] END criterion=entropy, max_depth=9, n_estimators=50;, score=0.343 total time=   1.1s\n",
            "[CV 3/3; 7/18] START criterion=entropy, max_depth=9, n_estimators=50............\n",
            "[CV 3/3; 7/18] END criterion=entropy, max_depth=9, n_estimators=50;, score=0.350 total time=   1.1s\n",
            "[CV 1/3; 8/18] START criterion=entropy, max_depth=9, n_estimators=100...........\n",
            "[CV 1/3; 8/18] END criterion=entropy, max_depth=9, n_estimators=100;, score=0.359 total time=   2.2s\n",
            "[CV 2/3; 8/18] START criterion=entropy, max_depth=9, n_estimators=100...........\n",
            "[CV 2/3; 8/18] END criterion=entropy, max_depth=9, n_estimators=100;, score=0.346 total time=   2.2s\n",
            "[CV 3/3; 8/18] START criterion=entropy, max_depth=9, n_estimators=100...........\n",
            "[CV 3/3; 8/18] END criterion=entropy, max_depth=9, n_estimators=100;, score=0.345 total time=   2.2s\n",
            "[CV 1/3; 9/18] START criterion=entropy, max_depth=9, n_estimators=200...........\n",
            "[CV 1/3; 9/18] END criterion=entropy, max_depth=9, n_estimators=200;, score=0.365 total time=   4.4s\n",
            "[CV 2/3; 9/18] START criterion=entropy, max_depth=9, n_estimators=200...........\n",
            "[CV 2/3; 9/18] END criterion=entropy, max_depth=9, n_estimators=200;, score=0.346 total time=   4.4s\n",
            "[CV 3/3; 9/18] START criterion=entropy, max_depth=9, n_estimators=200...........\n",
            "[CV 3/3; 9/18] END criterion=entropy, max_depth=9, n_estimators=200;, score=0.349 total time=   4.4s\n",
            "[CV 1/3; 10/18] START criterion=gini, max_depth=3, n_estimators=50..............\n",
            "[CV 1/3; 10/18] END criterion=gini, max_depth=3, n_estimators=50;, score=0.362 total time=   0.2s\n",
            "[CV 2/3; 10/18] START criterion=gini, max_depth=3, n_estimators=50..............\n",
            "[CV 2/3; 10/18] END criterion=gini, max_depth=3, n_estimators=50;, score=0.343 total time=   0.2s\n",
            "[CV 3/3; 10/18] START criterion=gini, max_depth=3, n_estimators=50..............\n",
            "[CV 3/3; 10/18] END criterion=gini, max_depth=3, n_estimators=50;, score=0.350 total time=   0.2s\n",
            "[CV 1/3; 11/18] START criterion=gini, max_depth=3, n_estimators=100.............\n",
            "[CV 1/3; 11/18] END criterion=gini, max_depth=3, n_estimators=100;, score=0.362 total time=   0.4s\n",
            "[CV 2/3; 11/18] START criterion=gini, max_depth=3, n_estimators=100.............\n",
            "[CV 2/3; 11/18] END criterion=gini, max_depth=3, n_estimators=100;, score=0.341 total time=   0.4s\n",
            "[CV 3/3; 11/18] START criterion=gini, max_depth=3, n_estimators=100.............\n",
            "[CV 3/3; 11/18] END criterion=gini, max_depth=3, n_estimators=100;, score=0.349 total time=   0.4s\n",
            "[CV 1/3; 12/18] START criterion=gini, max_depth=3, n_estimators=200.............\n",
            "[CV 1/3; 12/18] END criterion=gini, max_depth=3, n_estimators=200;, score=0.361 total time=   0.8s\n",
            "[CV 2/3; 12/18] START criterion=gini, max_depth=3, n_estimators=200.............\n",
            "[CV 2/3; 12/18] END criterion=gini, max_depth=3, n_estimators=200;, score=0.345 total time=   0.8s\n",
            "[CV 3/3; 12/18] START criterion=gini, max_depth=3, n_estimators=200.............\n",
            "[CV 3/3; 12/18] END criterion=gini, max_depth=3, n_estimators=200;, score=0.347 total time=   0.8s\n",
            "[CV 1/3; 13/18] START criterion=gini, max_depth=6, n_estimators=50..............\n",
            "[CV 1/3; 13/18] END criterion=gini, max_depth=6, n_estimators=50;, score=0.367 total time=   0.3s\n",
            "[CV 2/3; 13/18] START criterion=gini, max_depth=6, n_estimators=50..............\n",
            "[CV 2/3; 13/18] END criterion=gini, max_depth=6, n_estimators=50;, score=0.353 total time=   0.3s\n",
            "[CV 3/3; 13/18] START criterion=gini, max_depth=6, n_estimators=50..............\n",
            "[CV 3/3; 13/18] END criterion=gini, max_depth=6, n_estimators=50;, score=0.367 total time=   0.3s\n",
            "[CV 1/3; 14/18] START criterion=gini, max_depth=6, n_estimators=100.............\n",
            "[CV 1/3; 14/18] END criterion=gini, max_depth=6, n_estimators=100;, score=0.374 total time=   0.6s\n",
            "[CV 2/3; 14/18] START criterion=gini, max_depth=6, n_estimators=100.............\n",
            "[CV 2/3; 14/18] END criterion=gini, max_depth=6, n_estimators=100;, score=0.357 total time=   0.6s\n",
            "[CV 3/3; 14/18] START criterion=gini, max_depth=6, n_estimators=100.............\n",
            "[CV 3/3; 14/18] END criterion=gini, max_depth=6, n_estimators=100;, score=0.365 total time=   0.6s\n",
            "[CV 1/3; 15/18] START criterion=gini, max_depth=6, n_estimators=200.............\n",
            "[CV 1/3; 15/18] END criterion=gini, max_depth=6, n_estimators=200;, score=0.367 total time=   1.1s\n",
            "[CV 2/3; 15/18] START criterion=gini, max_depth=6, n_estimators=200.............\n",
            "[CV 2/3; 15/18] END criterion=gini, max_depth=6, n_estimators=200;, score=0.355 total time=   1.1s\n",
            "[CV 3/3; 15/18] START criterion=gini, max_depth=6, n_estimators=200.............\n",
            "[CV 3/3; 15/18] END criterion=gini, max_depth=6, n_estimators=200;, score=0.362 total time=   1.1s\n",
            "[CV 1/3; 16/18] START criterion=gini, max_depth=9, n_estimators=50..............\n",
            "[CV 1/3; 16/18] END criterion=gini, max_depth=9, n_estimators=50;, score=0.359 total time=   0.4s\n",
            "[CV 2/3; 16/18] START criterion=gini, max_depth=9, n_estimators=50..............\n",
            "[CV 2/3; 16/18] END criterion=gini, max_depth=9, n_estimators=50;, score=0.358 total time=   0.4s\n",
            "[CV 3/3; 16/18] START criterion=gini, max_depth=9, n_estimators=50..............\n",
            "[CV 3/3; 16/18] END criterion=gini, max_depth=9, n_estimators=50;, score=0.357 total time=   0.4s\n",
            "[CV 1/3; 17/18] START criterion=gini, max_depth=9, n_estimators=100.............\n",
            "[CV 1/3; 17/18] END criterion=gini, max_depth=9, n_estimators=100;, score=0.359 total time=   0.7s\n",
            "[CV 2/3; 17/18] START criterion=gini, max_depth=9, n_estimators=100.............\n",
            "[CV 2/3; 17/18] END criterion=gini, max_depth=9, n_estimators=100;, score=0.350 total time=   0.7s\n",
            "[CV 3/3; 17/18] START criterion=gini, max_depth=9, n_estimators=100.............\n",
            "[CV 3/3; 17/18] END criterion=gini, max_depth=9, n_estimators=100;, score=0.355 total time=   0.7s\n",
            "[CV 1/3; 18/18] START criterion=gini, max_depth=9, n_estimators=200.............\n",
            "[CV 1/3; 18/18] END criterion=gini, max_depth=9, n_estimators=200;, score=0.367 total time=   1.4s\n",
            "[CV 2/3; 18/18] START criterion=gini, max_depth=9, n_estimators=200.............\n",
            "[CV 2/3; 18/18] END criterion=gini, max_depth=9, n_estimators=200;, score=0.355 total time=   1.4s\n",
            "[CV 3/3; 18/18] START criterion=gini, max_depth=9, n_estimators=200.............\n",
            "[CV 3/3; 18/18] END criterion=gini, max_depth=9, n_estimators=200;, score=0.350 total time=   1.4s\n"
          ]
        },
        {
          "output_type": "execute_result",
          "data": {
            "text/plain": [
              "GridSearchCV(cv=3, estimator=RandomForestClassifier(), n_jobs=1,\n",
              "             param_grid={'criterion': ['entropy', 'gini'],\n",
              "                         'max_depth': [3, 6, 9],\n",
              "                         'n_estimators': [50, 100, 200]},\n",
              "             scoring='accuracy', verbose=10)"
            ]
          },
          "metadata": {},
          "execution_count": 99
        }
      ],
      "source": [
        "rfModel=RandomForestClassifier()\n",
        "param_grid = {'n_estimators': [50, 100, 200],'max_depth': [3,6,9],'criterion':['entropy','gini']}\n",
        "model_gridsearch = GridSearchCV(estimator=rfModel,param_grid=param_grid,verbose=10,scoring='accuracy',n_jobs=1,cv=3)\n",
        "model_gridsearch.fit(x_spec_cen_train, y_train_2)\n"
      ]
    },
    {
      "cell_type": "code",
      "execution_count": 100,
      "id": "ac286004",
      "metadata": {
        "colab": {
          "base_uri": "https://localhost:8080/"
        },
        "id": "ac286004",
        "outputId": "514a1ec8-f21b-4ffc-cf55-b4330967b473"
      },
      "outputs": [
        {
          "output_type": "stream",
          "name": "stdout",
          "text": [
            "{'criterion': 'gini', 'max_depth': 6, 'n_estimators': 100}\n",
            "RandomForestClassifier(max_depth=6)\n",
            "0.3913236929922136\n",
            "{'criterion': 'gini', 'max_depth': 6, 'n_estimators': 100}\n",
            "RandomForestClassifier(max_depth=6)\n",
            "0.364\n"
          ]
        }
      ],
      "source": [
        "y_pred_grid = model_gridsearch.predict(x_spec_cen_train)\n",
        "accuracy_grid = metrics.accuracy_score(y_train_2, y_pred_grid)\n",
        "print(model_gridsearch.best_params_)\n",
        "print(model_gridsearch.best_estimator_)\n",
        "print(accuracy_grid)\n",
        "\n",
        "y_pred_grid = model_gridsearch.predict(x_spec_cen_test)\n",
        "accuracy_grid = metrics.accuracy_score(y_test_2, y_pred_grid)\n",
        "print(model_gridsearch.best_params_)\n",
        "print(model_gridsearch.best_estimator_)\n",
        "print(accuracy_grid)"
      ]
    },
    {
      "cell_type": "code",
      "execution_count": 101,
      "id": "808bb56f",
      "metadata": {
        "colab": {
          "base_uri": "https://localhost:8080/"
        },
        "id": "808bb56f",
        "outputId": "c068e18c-e634-467e-bb5b-a8ce3ff7b841"
      },
      "outputs": [
        {
          "output_type": "stream",
          "name": "stdout",
          "text": [
            "Fitting 3 folds for each of 18 candidates, totalling 54 fits\n",
            "[CV 1/3; 1/18] START criterion=entropy, max_depth=3, n_estimators=50............\n",
            "[CV 1/3; 1/18] END criterion=entropy, max_depth=3, n_estimators=50;, score=0.336 total time=   0.5s\n",
            "[CV 2/3; 1/18] START criterion=entropy, max_depth=3, n_estimators=50............\n",
            "[CV 2/3; 1/18] END criterion=entropy, max_depth=3, n_estimators=50;, score=0.339 total time=   0.5s\n",
            "[CV 3/3; 1/18] START criterion=entropy, max_depth=3, n_estimators=50............\n",
            "[CV 3/3; 1/18] END criterion=entropy, max_depth=3, n_estimators=50;, score=0.340 total time=   0.5s\n",
            "[CV 1/3; 2/18] START criterion=entropy, max_depth=3, n_estimators=100...........\n",
            "[CV 1/3; 2/18] END criterion=entropy, max_depth=3, n_estimators=100;, score=0.337 total time=   1.0s\n",
            "[CV 2/3; 2/18] START criterion=entropy, max_depth=3, n_estimators=100...........\n",
            "[CV 2/3; 2/18] END criterion=entropy, max_depth=3, n_estimators=100;, score=0.345 total time=   1.0s\n",
            "[CV 3/3; 2/18] START criterion=entropy, max_depth=3, n_estimators=100...........\n",
            "[CV 3/3; 2/18] END criterion=entropy, max_depth=3, n_estimators=100;, score=0.344 total time=   1.0s\n",
            "[CV 1/3; 3/18] START criterion=entropy, max_depth=3, n_estimators=200...........\n",
            "[CV 1/3; 3/18] END criterion=entropy, max_depth=3, n_estimators=200;, score=0.334 total time=   2.0s\n",
            "[CV 2/3; 3/18] START criterion=entropy, max_depth=3, n_estimators=200...........\n",
            "[CV 2/3; 3/18] END criterion=entropy, max_depth=3, n_estimators=200;, score=0.344 total time=   1.9s\n",
            "[CV 3/3; 3/18] START criterion=entropy, max_depth=3, n_estimators=200...........\n",
            "[CV 3/3; 3/18] END criterion=entropy, max_depth=3, n_estimators=200;, score=0.345 total time=   2.0s\n",
            "[CV 1/3; 4/18] START criterion=entropy, max_depth=6, n_estimators=50............\n",
            "[CV 1/3; 4/18] END criterion=entropy, max_depth=6, n_estimators=50;, score=0.350 total time=   0.8s\n",
            "[CV 2/3; 4/18] START criterion=entropy, max_depth=6, n_estimators=50............\n",
            "[CV 2/3; 4/18] END criterion=entropy, max_depth=6, n_estimators=50;, score=0.352 total time=   0.8s\n",
            "[CV 3/3; 4/18] START criterion=entropy, max_depth=6, n_estimators=50............\n",
            "[CV 3/3; 4/18] END criterion=entropy, max_depth=6, n_estimators=50;, score=0.349 total time=   0.8s\n",
            "[CV 1/3; 5/18] START criterion=entropy, max_depth=6, n_estimators=100...........\n",
            "[CV 1/3; 5/18] END criterion=entropy, max_depth=6, n_estimators=100;, score=0.348 total time=   1.7s\n",
            "[CV 2/3; 5/18] START criterion=entropy, max_depth=6, n_estimators=100...........\n",
            "[CV 2/3; 5/18] END criterion=entropy, max_depth=6, n_estimators=100;, score=0.349 total time=   1.7s\n",
            "[CV 3/3; 5/18] START criterion=entropy, max_depth=6, n_estimators=100...........\n",
            "[CV 3/3; 5/18] END criterion=entropy, max_depth=6, n_estimators=100;, score=0.350 total time=   1.6s\n",
            "[CV 1/3; 6/18] START criterion=entropy, max_depth=6, n_estimators=200...........\n",
            "[CV 1/3; 6/18] END criterion=entropy, max_depth=6, n_estimators=200;, score=0.350 total time=   3.3s\n",
            "[CV 2/3; 6/18] START criterion=entropy, max_depth=6, n_estimators=200...........\n",
            "[CV 2/3; 6/18] END criterion=entropy, max_depth=6, n_estimators=200;, score=0.350 total time=   3.3s\n",
            "[CV 3/3; 6/18] START criterion=entropy, max_depth=6, n_estimators=200...........\n",
            "[CV 3/3; 6/18] END criterion=entropy, max_depth=6, n_estimators=200;, score=0.354 total time=   3.3s\n",
            "[CV 1/3; 7/18] START criterion=entropy, max_depth=9, n_estimators=50............\n",
            "[CV 1/3; 7/18] END criterion=entropy, max_depth=9, n_estimators=50;, score=0.337 total time=   1.1s\n",
            "[CV 2/3; 7/18] START criterion=entropy, max_depth=9, n_estimators=50............\n",
            "[CV 2/3; 7/18] END criterion=entropy, max_depth=9, n_estimators=50;, score=0.356 total time=   1.1s\n",
            "[CV 3/3; 7/18] START criterion=entropy, max_depth=9, n_estimators=50............\n",
            "[CV 3/3; 7/18] END criterion=entropy, max_depth=9, n_estimators=50;, score=0.338 total time=   1.1s\n",
            "[CV 1/3; 8/18] START criterion=entropy, max_depth=9, n_estimators=100...........\n",
            "[CV 1/3; 8/18] END criterion=entropy, max_depth=9, n_estimators=100;, score=0.345 total time=   2.2s\n",
            "[CV 2/3; 8/18] START criterion=entropy, max_depth=9, n_estimators=100...........\n",
            "[CV 2/3; 8/18] END criterion=entropy, max_depth=9, n_estimators=100;, score=0.346 total time=   2.2s\n",
            "[CV 3/3; 8/18] START criterion=entropy, max_depth=9, n_estimators=100...........\n",
            "[CV 3/3; 8/18] END criterion=entropy, max_depth=9, n_estimators=100;, score=0.345 total time=   2.2s\n",
            "[CV 1/3; 9/18] START criterion=entropy, max_depth=9, n_estimators=200...........\n",
            "[CV 1/3; 9/18] END criterion=entropy, max_depth=9, n_estimators=200;, score=0.342 total time=   4.4s\n",
            "[CV 2/3; 9/18] START criterion=entropy, max_depth=9, n_estimators=200...........\n",
            "[CV 2/3; 9/18] END criterion=entropy, max_depth=9, n_estimators=200;, score=0.349 total time=   4.4s\n",
            "[CV 3/3; 9/18] START criterion=entropy, max_depth=9, n_estimators=200...........\n",
            "[CV 3/3; 9/18] END criterion=entropy, max_depth=9, n_estimators=200;, score=0.342 total time=   4.4s\n",
            "[CV 1/3; 10/18] START criterion=gini, max_depth=3, n_estimators=50..............\n",
            "[CV 1/3; 10/18] END criterion=gini, max_depth=3, n_estimators=50;, score=0.339 total time=   0.2s\n",
            "[CV 2/3; 10/18] START criterion=gini, max_depth=3, n_estimators=50..............\n",
            "[CV 2/3; 10/18] END criterion=gini, max_depth=3, n_estimators=50;, score=0.338 total time=   0.2s\n",
            "[CV 3/3; 10/18] START criterion=gini, max_depth=3, n_estimators=50..............\n",
            "[CV 3/3; 10/18] END criterion=gini, max_depth=3, n_estimators=50;, score=0.332 total time=   0.2s\n",
            "[CV 1/3; 11/18] START criterion=gini, max_depth=3, n_estimators=100.............\n",
            "[CV 1/3; 11/18] END criterion=gini, max_depth=3, n_estimators=100;, score=0.340 total time=   0.4s\n",
            "[CV 2/3; 11/18] START criterion=gini, max_depth=3, n_estimators=100.............\n",
            "[CV 2/3; 11/18] END criterion=gini, max_depth=3, n_estimators=100;, score=0.337 total time=   0.4s\n",
            "[CV 3/3; 11/18] START criterion=gini, max_depth=3, n_estimators=100.............\n",
            "[CV 3/3; 11/18] END criterion=gini, max_depth=3, n_estimators=100;, score=0.332 total time=   0.4s\n",
            "[CV 1/3; 12/18] START criterion=gini, max_depth=3, n_estimators=200.............\n",
            "[CV 1/3; 12/18] END criterion=gini, max_depth=3, n_estimators=200;, score=0.335 total time=   0.8s\n",
            "[CV 2/3; 12/18] START criterion=gini, max_depth=3, n_estimators=200.............\n",
            "[CV 2/3; 12/18] END criterion=gini, max_depth=3, n_estimators=200;, score=0.343 total time=   0.8s\n",
            "[CV 3/3; 12/18] START criterion=gini, max_depth=3, n_estimators=200.............\n",
            "[CV 3/3; 12/18] END criterion=gini, max_depth=3, n_estimators=200;, score=0.337 total time=   0.8s\n",
            "[CV 1/3; 13/18] START criterion=gini, max_depth=6, n_estimators=50..............\n",
            "[CV 1/3; 13/18] END criterion=gini, max_depth=6, n_estimators=50;, score=0.355 total time=   0.3s\n",
            "[CV 2/3; 13/18] START criterion=gini, max_depth=6, n_estimators=50..............\n",
            "[CV 2/3; 13/18] END criterion=gini, max_depth=6, n_estimators=50;, score=0.355 total time=   0.3s\n",
            "[CV 3/3; 13/18] START criterion=gini, max_depth=6, n_estimators=50..............\n",
            "[CV 3/3; 13/18] END criterion=gini, max_depth=6, n_estimators=50;, score=0.347 total time=   0.3s\n",
            "[CV 1/3; 14/18] START criterion=gini, max_depth=6, n_estimators=100.............\n",
            "[CV 1/3; 14/18] END criterion=gini, max_depth=6, n_estimators=100;, score=0.350 total time=   0.6s\n",
            "[CV 2/3; 14/18] START criterion=gini, max_depth=6, n_estimators=100.............\n",
            "[CV 2/3; 14/18] END criterion=gini, max_depth=6, n_estimators=100;, score=0.350 total time=   0.6s\n",
            "[CV 3/3; 14/18] START criterion=gini, max_depth=6, n_estimators=100.............\n",
            "[CV 3/3; 14/18] END criterion=gini, max_depth=6, n_estimators=100;, score=0.352 total time=   0.6s\n",
            "[CV 1/3; 15/18] START criterion=gini, max_depth=6, n_estimators=200.............\n",
            "[CV 1/3; 15/18] END criterion=gini, max_depth=6, n_estimators=200;, score=0.352 total time=   1.1s\n",
            "[CV 2/3; 15/18] START criterion=gini, max_depth=6, n_estimators=200.............\n",
            "[CV 2/3; 15/18] END criterion=gini, max_depth=6, n_estimators=200;, score=0.352 total time=   1.1s\n",
            "[CV 3/3; 15/18] START criterion=gini, max_depth=6, n_estimators=200.............\n",
            "[CV 3/3; 15/18] END criterion=gini, max_depth=6, n_estimators=200;, score=0.355 total time=   1.1s\n",
            "[CV 1/3; 16/18] START criterion=gini, max_depth=9, n_estimators=50..............\n",
            "[CV 1/3; 16/18] END criterion=gini, max_depth=9, n_estimators=50;, score=0.347 total time=   0.4s\n",
            "[CV 2/3; 16/18] START criterion=gini, max_depth=9, n_estimators=50..............\n",
            "[CV 2/3; 16/18] END criterion=gini, max_depth=9, n_estimators=50;, score=0.349 total time=   0.4s\n",
            "[CV 3/3; 16/18] START criterion=gini, max_depth=9, n_estimators=50..............\n",
            "[CV 3/3; 16/18] END criterion=gini, max_depth=9, n_estimators=50;, score=0.342 total time=   0.4s\n",
            "[CV 1/3; 17/18] START criterion=gini, max_depth=9, n_estimators=100.............\n",
            "[CV 1/3; 17/18] END criterion=gini, max_depth=9, n_estimators=100;, score=0.353 total time=   0.7s\n",
            "[CV 2/3; 17/18] START criterion=gini, max_depth=9, n_estimators=100.............\n",
            "[CV 2/3; 17/18] END criterion=gini, max_depth=9, n_estimators=100;, score=0.355 total time=   0.7s\n",
            "[CV 3/3; 17/18] START criterion=gini, max_depth=9, n_estimators=100.............\n",
            "[CV 3/3; 17/18] END criterion=gini, max_depth=9, n_estimators=100;, score=0.343 total time=   0.7s\n",
            "[CV 1/3; 18/18] START criterion=gini, max_depth=9, n_estimators=200.............\n",
            "[CV 1/3; 18/18] END criterion=gini, max_depth=9, n_estimators=200;, score=0.357 total time=   1.4s\n",
            "[CV 2/3; 18/18] START criterion=gini, max_depth=9, n_estimators=200.............\n",
            "[CV 2/3; 18/18] END criterion=gini, max_depth=9, n_estimators=200;, score=0.354 total time=   1.4s\n",
            "[CV 3/3; 18/18] START criterion=gini, max_depth=9, n_estimators=200.............\n",
            "[CV 3/3; 18/18] END criterion=gini, max_depth=9, n_estimators=200;, score=0.341 total time=   1.4s\n"
          ]
        },
        {
          "output_type": "execute_result",
          "data": {
            "text/plain": [
              "GridSearchCV(cv=3, estimator=RandomForestClassifier(), n_jobs=1,\n",
              "             param_grid={'criterion': ['entropy', 'gini'],\n",
              "                         'max_depth': [3, 6, 9],\n",
              "                         'n_estimators': [50, 100, 200]},\n",
              "             scoring='accuracy', verbose=10)"
            ]
          },
          "metadata": {},
          "execution_count": 101
        }
      ],
      "source": [
        "rfModel=RandomForestClassifier()\n",
        "param_grid = {'n_estimators': [50, 100, 200],'max_depth': [3,6,9],'criterion':['entropy','gini']}\n",
        "model_gridsearch = GridSearchCV(estimator=rfModel,param_grid=param_grid,verbose=10,scoring='accuracy',n_jobs=1,cv=3)\n",
        "model_gridsearch.fit(x_spec_ban_train, y_train_2)\n"
      ]
    },
    {
      "cell_type": "code",
      "execution_count": null,
      "id": "2dccaf5b",
      "metadata": {
        "id": "2dccaf5b",
        "outputId": "5733eaf0-ee53-4bdf-8d1d-c32f5988119c"
      },
      "outputs": [
        {
          "name": "stdout",
          "output_type": "stream",
          "text": [
            "{'criterion': 'gini', 'max_depth': 6, 'n_estimators': 200}\n",
            "RandomForestClassifier(max_depth=6, n_estimators=200)\n",
            "0.37730812013348164\n",
            "{'criterion': 'gini', 'max_depth': 6, 'n_estimators': 200}\n",
            "RandomForestClassifier(max_depth=6, n_estimators=200)\n",
            "0.351\n"
          ]
        }
      ],
      "source": [
        "y_pred_grid = model_gridsearch.predict(x_spec_ban_train)\n",
        "accuracy_grid = metrics.accuracy_score(y_train_2, y_pred_grid)\n",
        "print(model_gridsearch.best_params_)\n",
        "print(model_gridsearch.best_estimator_)\n",
        "print(accuracy_grid)\n",
        "\n",
        "y_pred_grid = model_gridsearch.predict(x_spec_ban_test)\n",
        "accuracy_grid = metrics.accuracy_score(y_test_2, y_pred_grid)\n",
        "print(model_gridsearch.best_params_)\n",
        "print(model_gridsearch.best_estimator_)\n",
        "print(accuracy_grid)"
      ]
    },
    {
      "cell_type": "code",
      "execution_count": null,
      "id": "b9415b9e",
      "metadata": {
        "id": "b9415b9e"
      },
      "outputs": [],
      "source": [
        ""
      ]
    },
    {
      "cell_type": "code",
      "execution_count": null,
      "id": "cbe87d56",
      "metadata": {
        "id": "cbe87d56"
      },
      "outputs": [],
      "source": [
        ""
      ]
    },
    {
      "cell_type": "code",
      "execution_count": null,
      "id": "68404d58",
      "metadata": {
        "id": "68404d58"
      },
      "outputs": [],
      "source": [
        ""
      ]
    },
    {
      "cell_type": "code",
      "execution_count": null,
      "id": "5b8cb450",
      "metadata": {
        "id": "5b8cb450"
      },
      "outputs": [],
      "source": [
        ""
      ]
    },
    {
      "cell_type": "code",
      "execution_count": null,
      "id": "37eadb39",
      "metadata": {
        "id": "37eadb39"
      },
      "outputs": [],
      "source": [
        ""
      ]
    },
    {
      "cell_type": "code",
      "execution_count": null,
      "id": "864c2869",
      "metadata": {
        "id": "864c2869",
        "outputId": "4299bb27-0ddf-4b84-be3e-2be32c855455"
      },
      "outputs": [
        {
          "name": "stdout",
          "output_type": "stream",
          "text": [
            "Fitting 3 folds for each of 18 candidates, totalling 54 fits\n",
            "[CV 1/3; 1/18] START criterion=entropy, max_depth=3, n_estimators=50............\n",
            "[CV 1/3; 1/18] END criterion=entropy, max_depth=3, n_estimators=50; total time=   3.2s\n",
            "[CV 2/3; 1/18] START criterion=entropy, max_depth=3, n_estimators=50............\n",
            "[CV 2/3; 1/18] END criterion=entropy, max_depth=3, n_estimators=50; total time=   3.2s\n",
            "[CV 3/3; 1/18] START criterion=entropy, max_depth=3, n_estimators=50............\n",
            "[CV 3/3; 1/18] END criterion=entropy, max_depth=3, n_estimators=50; total time=   2.6s\n",
            "[CV 1/3; 2/18] START criterion=entropy, max_depth=3, n_estimators=100...........\n",
            "[CV 1/3; 2/18] END criterion=entropy, max_depth=3, n_estimators=100; total time=   6.4s\n",
            "[CV 2/3; 2/18] START criterion=entropy, max_depth=3, n_estimators=100...........\n",
            "[CV 2/3; 2/18] END criterion=entropy, max_depth=3, n_estimators=100; total time=   6.6s\n",
            "[CV 3/3; 2/18] START criterion=entropy, max_depth=3, n_estimators=100...........\n",
            "[CV 3/3; 2/18] END criterion=entropy, max_depth=3, n_estimators=100; total time=   6.0s\n",
            "[CV 1/3; 3/18] START criterion=entropy, max_depth=3, n_estimators=200...........\n",
            "[CV 1/3; 3/18] END criterion=entropy, max_depth=3, n_estimators=200; total time=  12.7s\n",
            "[CV 2/3; 3/18] START criterion=entropy, max_depth=3, n_estimators=200...........\n",
            "[CV 2/3; 3/18] END criterion=entropy, max_depth=3, n_estimators=200; total time=  13.2s\n",
            "[CV 3/3; 3/18] START criterion=entropy, max_depth=3, n_estimators=200...........\n",
            "[CV 3/3; 3/18] END criterion=entropy, max_depth=3, n_estimators=200; total time=  12.8s\n",
            "[CV 1/3; 4/18] START criterion=entropy, max_depth=6, n_estimators=50............\n",
            "[CV 1/3; 4/18] END criterion=entropy, max_depth=6, n_estimators=50; total time=   5.1s\n",
            "[CV 2/3; 4/18] START criterion=entropy, max_depth=6, n_estimators=50............\n",
            "[CV 2/3; 4/18] END criterion=entropy, max_depth=6, n_estimators=50; total time=   5.9s\n",
            "[CV 3/3; 4/18] START criterion=entropy, max_depth=6, n_estimators=50............\n",
            "[CV 3/3; 4/18] END criterion=entropy, max_depth=6, n_estimators=50; total time=   5.9s\n",
            "[CV 1/3; 5/18] START criterion=entropy, max_depth=6, n_estimators=100...........\n",
            "[CV 1/3; 5/18] END criterion=entropy, max_depth=6, n_estimators=100; total time=  11.8s\n",
            "[CV 2/3; 5/18] START criterion=entropy, max_depth=6, n_estimators=100...........\n",
            "[CV 2/3; 5/18] END criterion=entropy, max_depth=6, n_estimators=100; total time=  11.4s\n",
            "[CV 3/3; 5/18] START criterion=entropy, max_depth=6, n_estimators=100...........\n",
            "[CV 3/3; 5/18] END criterion=entropy, max_depth=6, n_estimators=100; total time=  11.5s\n",
            "[CV 1/3; 6/18] START criterion=entropy, max_depth=6, n_estimators=200...........\n",
            "[CV 1/3; 6/18] END criterion=entropy, max_depth=6, n_estimators=200; total time=  23.6s\n",
            "[CV 2/3; 6/18] START criterion=entropy, max_depth=6, n_estimators=200...........\n",
            "[CV 2/3; 6/18] END criterion=entropy, max_depth=6, n_estimators=200; total time=  23.2s\n",
            "[CV 3/3; 6/18] START criterion=entropy, max_depth=6, n_estimators=200...........\n",
            "[CV 3/3; 6/18] END criterion=entropy, max_depth=6, n_estimators=200; total time=  23.0s\n",
            "[CV 1/3; 7/18] START criterion=entropy, max_depth=9, n_estimators=50............\n",
            "[CV 1/3; 7/18] END criterion=entropy, max_depth=9, n_estimators=50; total time=   7.6s\n",
            "[CV 2/3; 7/18] START criterion=entropy, max_depth=9, n_estimators=50............\n",
            "[CV 2/3; 7/18] END criterion=entropy, max_depth=9, n_estimators=50; total time=   6.9s\n",
            "[CV 3/3; 7/18] START criterion=entropy, max_depth=9, n_estimators=50............\n",
            "[CV 3/3; 7/18] END criterion=entropy, max_depth=9, n_estimators=50; total time=   7.6s\n",
            "[CV 1/3; 8/18] START criterion=entropy, max_depth=9, n_estimators=100...........\n",
            "[CV 1/3; 8/18] END criterion=entropy, max_depth=9, n_estimators=100; total time=  14.5s\n",
            "[CV 2/3; 8/18] START criterion=entropy, max_depth=9, n_estimators=100...........\n",
            "[CV 2/3; 8/18] END criterion=entropy, max_depth=9, n_estimators=100; total time=  14.6s\n",
            "[CV 3/3; 8/18] START criterion=entropy, max_depth=9, n_estimators=100...........\n",
            "[CV 3/3; 8/18] END criterion=entropy, max_depth=9, n_estimators=100; total time=  14.5s\n",
            "[CV 1/3; 9/18] START criterion=entropy, max_depth=9, n_estimators=200...........\n",
            "[CV 1/3; 9/18] END criterion=entropy, max_depth=9, n_estimators=200; total time=  29.3s\n",
            "[CV 2/3; 9/18] START criterion=entropy, max_depth=9, n_estimators=200...........\n",
            "[CV 2/3; 9/18] END criterion=entropy, max_depth=9, n_estimators=200; total time=  29.3s\n",
            "[CV 3/3; 9/18] START criterion=entropy, max_depth=9, n_estimators=200...........\n",
            "[CV 3/3; 9/18] END criterion=entropy, max_depth=9, n_estimators=200; total time=  30.1s\n",
            "[CV 1/3; 10/18] START criterion=gini, max_depth=3, n_estimators=50..............\n",
            "[CV 1/3; 10/18] END criterion=gini, max_depth=3, n_estimators=50; total time=   1.0s\n",
            "[CV 2/3; 10/18] START criterion=gini, max_depth=3, n_estimators=50..............\n",
            "[CV 2/3; 10/18] END criterion=gini, max_depth=3, n_estimators=50; total time=   1.0s\n",
            "[CV 3/3; 10/18] START criterion=gini, max_depth=3, n_estimators=50..............\n",
            "[CV 3/3; 10/18] END criterion=gini, max_depth=3, n_estimators=50; total time=   0.9s\n",
            "[CV 1/3; 11/18] START criterion=gini, max_depth=3, n_estimators=100.............\n",
            "[CV 1/3; 11/18] END criterion=gini, max_depth=3, n_estimators=100; total time=   1.9s\n",
            "[CV 2/3; 11/18] START criterion=gini, max_depth=3, n_estimators=100.............\n",
            "[CV 2/3; 11/18] END criterion=gini, max_depth=3, n_estimators=100; total time=   2.1s\n",
            "[CV 3/3; 11/18] START criterion=gini, max_depth=3, n_estimators=100.............\n",
            "[CV 3/3; 11/18] END criterion=gini, max_depth=3, n_estimators=100; total time=   2.1s\n",
            "[CV 1/3; 12/18] START criterion=gini, max_depth=3, n_estimators=200.............\n",
            "[CV 1/3; 12/18] END criterion=gini, max_depth=3, n_estimators=200; total time=   4.3s\n",
            "[CV 2/3; 12/18] START criterion=gini, max_depth=3, n_estimators=200.............\n",
            "[CV 2/3; 12/18] END criterion=gini, max_depth=3, n_estimators=200; total time=   3.7s\n",
            "[CV 3/3; 12/18] START criterion=gini, max_depth=3, n_estimators=200.............\n",
            "[CV 3/3; 12/18] END criterion=gini, max_depth=3, n_estimators=200; total time=   4.3s\n",
            "[CV 1/3; 13/18] START criterion=gini, max_depth=6, n_estimators=50..............\n",
            "[CV 1/3; 13/18] END criterion=gini, max_depth=6, n_estimators=50; total time=   1.8s\n",
            "[CV 2/3; 13/18] START criterion=gini, max_depth=6, n_estimators=50..............\n",
            "[CV 2/3; 13/18] END criterion=gini, max_depth=6, n_estimators=50; total time=   1.7s\n",
            "[CV 3/3; 13/18] START criterion=gini, max_depth=6, n_estimators=50..............\n",
            "[CV 3/3; 13/18] END criterion=gini, max_depth=6, n_estimators=50; total time=   1.8s\n",
            "[CV 1/3; 14/18] START criterion=gini, max_depth=6, n_estimators=100.............\n",
            "[CV 1/3; 14/18] END criterion=gini, max_depth=6, n_estimators=100; total time=   3.0s\n",
            "[CV 2/3; 14/18] START criterion=gini, max_depth=6, n_estimators=100.............\n",
            "[CV 2/3; 14/18] END criterion=gini, max_depth=6, n_estimators=100; total time=   3.7s\n",
            "[CV 3/3; 14/18] START criterion=gini, max_depth=6, n_estimators=100.............\n",
            "[CV 3/3; 14/18] END criterion=gini, max_depth=6, n_estimators=100; total time=   3.6s\n",
            "[CV 1/3; 15/18] START criterion=gini, max_depth=6, n_estimators=200.............\n",
            "[CV 1/3; 15/18] END criterion=gini, max_depth=6, n_estimators=200; total time=   7.4s\n",
            "[CV 2/3; 15/18] START criterion=gini, max_depth=6, n_estimators=200.............\n",
            "[CV 2/3; 15/18] END criterion=gini, max_depth=6, n_estimators=200; total time=   6.7s\n",
            "[CV 3/3; 15/18] START criterion=gini, max_depth=6, n_estimators=200.............\n",
            "[CV 3/3; 15/18] END criterion=gini, max_depth=6, n_estimators=200; total time=   7.4s\n",
            "[CV 1/3; 16/18] START criterion=gini, max_depth=9, n_estimators=50..............\n",
            "[CV 1/3; 16/18] END criterion=gini, max_depth=9, n_estimators=50; total time=   2.0s\n",
            "[CV 2/3; 16/18] START criterion=gini, max_depth=9, n_estimators=50..............\n",
            "[CV 2/3; 16/18] END criterion=gini, max_depth=9, n_estimators=50; total time=   2.2s\n",
            "[CV 3/3; 16/18] START criterion=gini, max_depth=9, n_estimators=50..............\n",
            "[CV 3/3; 16/18] END criterion=gini, max_depth=9, n_estimators=50; total time=   2.5s\n",
            "[CV 1/3; 17/18] START criterion=gini, max_depth=9, n_estimators=100.............\n"
          ]
        },
        {
          "name": "stdout",
          "output_type": "stream",
          "text": [
            "[CV 1/3; 17/18] END criterion=gini, max_depth=9, n_estimators=100; total time=   5.0s\n",
            "[CV 2/3; 17/18] START criterion=gini, max_depth=9, n_estimators=100.............\n",
            "[CV 2/3; 17/18] END criterion=gini, max_depth=9, n_estimators=100; total time=   5.0s\n",
            "[CV 3/3; 17/18] START criterion=gini, max_depth=9, n_estimators=100.............\n",
            "[CV 3/3; 17/18] END criterion=gini, max_depth=9, n_estimators=100; total time=   4.3s\n",
            "[CV 1/3; 18/18] START criterion=gini, max_depth=9, n_estimators=200.............\n",
            "[CV 1/3; 18/18] END criterion=gini, max_depth=9, n_estimators=200; total time=  10.1s\n",
            "[CV 2/3; 18/18] START criterion=gini, max_depth=9, n_estimators=200.............\n",
            "[CV 2/3; 18/18] END criterion=gini, max_depth=9, n_estimators=200; total time=   9.4s\n",
            "[CV 3/3; 18/18] START criterion=gini, max_depth=9, n_estimators=200.............\n",
            "[CV 3/3; 18/18] END criterion=gini, max_depth=9, n_estimators=200; total time=   9.5s\n"
          ]
        },
        {
          "data": {
            "text/plain": [
              "GridSearchCV(cv=3, estimator=RandomForestClassifier(), n_jobs=1,\n",
              "             param_grid={'criterion': ['entropy', 'gini'],\n",
              "                         'max_depth': [3, 6, 9],\n",
              "                         'n_estimators': [50, 100, 200]},\n",
              "             scoring='accuracy', verbose=10)"
            ]
          },
          "execution_count": 37,
          "metadata": {},
          "output_type": "execute_result"
        }
      ],
      "source": [
        "rfModel=RandomForestClassifier()\n",
        "rfModel=rfModel.fit(x_mfcc_train,y_train2)\n",
        "#class sklearn.model_selection.GridSearchCV(estimator, param_grid, scoring=None, n_jobs=None, refit=True, cv=None, return_train_score=False)\n",
        "param_grid = {'n_estimators': [50, 100, 200],'max_depth': [3,6,9],'criterion':['entropy','gini']}\n",
        "model_gridsearch = GridSearchCV(estimator=rfModel,param_grid=param_grid,verbose=10,scoring='accuracy',n_jobs=1,cv=3)\n",
        "model_gridsearch.fit(x_mfcc_train, y_train_2)\n"
      ]
    },
    {
      "cell_type": "code",
      "execution_count": null,
      "id": "ee9c043d",
      "metadata": {
        "id": "ee9c043d",
        "outputId": "e0d2a0db-c2f7-4559-af67-c7c826ed89dd"
      },
      "outputs": [
        {
          "name": "stdout",
          "output_type": "stream",
          "text": [
            "{'criterion': 'entropy', 'max_depth': 9, 'n_estimators': 200}\n",
            "RandomForestClassifier(criterion='entropy', max_depth=9, n_estimators=200)\n",
            "0.928587319243604\n",
            "{'criterion': 'entropy', 'max_depth': 9, 'n_estimators': 200}\n",
            "RandomForestClassifier(criterion='entropy', max_depth=9, n_estimators=200)\n",
            "0.711\n"
          ]
        }
      ],
      "source": [
        "y_pred_grid = model_gridsearch.predict(x_mfcc_train)\n",
        "accuracy_grid = metrics.accuracy_score(y_train_2, y_pred_grid)\n",
        "print(model_gridsearch.best_params_)\n",
        "print(model_gridsearch.best_estimator_)\n",
        "print(accuracy_grid)\n",
        "\n",
        "y_pred_grid = model_gridsearch.predict(x_mfcc_test)\n",
        "accuracy_grid = metrics.accuracy_score(y_test_2, y_pred_grid)\n",
        "print(model_gridsearch.best_params_)\n",
        "print(model_gridsearch.best_estimator_)\n",
        "print(accuracy_grid)"
      ]
    },
    {
      "cell_type": "code",
      "execution_count": null,
      "id": "f50c8d42",
      "metadata": {
        "id": "f50c8d42"
      },
      "outputs": [],
      "source": [
        ""
      ]
    },
    {
      "cell_type": "code",
      "execution_count": null,
      "id": "95d5647b",
      "metadata": {
        "id": "95d5647b"
      },
      "outputs": [],
      "source": [
        ""
      ]
    },
    {
      "cell_type": "code",
      "execution_count": null,
      "id": "6f2c0e08",
      "metadata": {
        "id": "6f2c0e08"
      },
      "outputs": [],
      "source": [
        ""
      ]
    },
    {
      "cell_type": "code",
      "execution_count": null,
      "id": "cc1c7bb5",
      "metadata": {
        "id": "cc1c7bb5",
        "outputId": "046d18f6-5e26-4749-ec31-45b44c59c70d"
      },
      "outputs": [
        {
          "name": "stdout",
          "output_type": "stream",
          "text": [
            "Fitting 3 folds for each of 18 candidates, totalling 54 fits\n",
            "[CV 1/3; 1/18] START criterion=entropy, max_depth=3, n_estimators=50............\n",
            "[CV 1/3; 1/18] END criterion=entropy, max_depth=3, n_estimators=50; total time=   3.4s\n",
            "[CV 2/3; 1/18] START criterion=entropy, max_depth=3, n_estimators=50............\n",
            "[CV 2/3; 1/18] END criterion=entropy, max_depth=3, n_estimators=50; total time=   3.5s\n",
            "[CV 3/3; 1/18] START criterion=entropy, max_depth=3, n_estimators=50............\n",
            "[CV 3/3; 1/18] END criterion=entropy, max_depth=3, n_estimators=50; total time=   3.5s\n",
            "[CV 1/3; 2/18] START criterion=entropy, max_depth=3, n_estimators=100...........\n",
            "[CV 1/3; 2/18] END criterion=entropy, max_depth=3, n_estimators=100; total time=   6.4s\n",
            "[CV 2/3; 2/18] START criterion=entropy, max_depth=3, n_estimators=100...........\n",
            "[CV 2/3; 2/18] END criterion=entropy, max_depth=3, n_estimators=100; total time=   7.0s\n",
            "[CV 3/3; 2/18] START criterion=entropy, max_depth=3, n_estimators=100...........\n",
            "[CV 3/3; 2/18] END criterion=entropy, max_depth=3, n_estimators=100; total time=   6.9s\n",
            "[CV 1/3; 3/18] START criterion=entropy, max_depth=3, n_estimators=200...........\n",
            "[CV 1/3; 3/18] END criterion=entropy, max_depth=3, n_estimators=200; total time=  13.7s\n",
            "[CV 2/3; 3/18] START criterion=entropy, max_depth=3, n_estimators=200...........\n",
            "[CV 2/3; 3/18] END criterion=entropy, max_depth=3, n_estimators=200; total time=  13.2s\n",
            "[CV 3/3; 3/18] START criterion=entropy, max_depth=3, n_estimators=200...........\n",
            "[CV 3/3; 3/18] END criterion=entropy, max_depth=3, n_estimators=200; total time=  13.5s\n",
            "[CV 1/3; 4/18] START criterion=entropy, max_depth=6, n_estimators=50............\n",
            "[CV 1/3; 4/18] END criterion=entropy, max_depth=6, n_estimators=50; total time=   6.0s\n",
            "[CV 2/3; 4/18] START criterion=entropy, max_depth=6, n_estimators=50............\n",
            "[CV 2/3; 4/18] END criterion=entropy, max_depth=6, n_estimators=50; total time=   5.1s\n",
            "[CV 3/3; 4/18] START criterion=entropy, max_depth=6, n_estimators=50............\n",
            "[CV 3/3; 4/18] END criterion=entropy, max_depth=6, n_estimators=50; total time=   5.7s\n",
            "[CV 1/3; 5/18] START criterion=entropy, max_depth=6, n_estimators=100...........\n",
            "[CV 1/3; 5/18] END criterion=entropy, max_depth=6, n_estimators=100; total time=  11.0s\n",
            "[CV 2/3; 5/18] START criterion=entropy, max_depth=6, n_estimators=100...........\n",
            "[CV 2/3; 5/18] END criterion=entropy, max_depth=6, n_estimators=100; total time=  11.3s\n",
            "[CV 3/3; 5/18] START criterion=entropy, max_depth=6, n_estimators=100...........\n",
            "[CV 3/3; 5/18] END criterion=entropy, max_depth=6, n_estimators=100; total time=   5.8s\n",
            "[CV 1/3; 6/18] START criterion=entropy, max_depth=6, n_estimators=200...........\n",
            "[CV 1/3; 6/18] END criterion=entropy, max_depth=6, n_estimators=200; total time=  21.6s\n",
            "[CV 2/3; 6/18] START criterion=entropy, max_depth=6, n_estimators=200...........\n",
            "[CV 2/3; 6/18] END criterion=entropy, max_depth=6, n_estimators=200; total time=  22.3s\n",
            "[CV 3/3; 6/18] START criterion=entropy, max_depth=6, n_estimators=200...........\n",
            "[CV 3/3; 6/18] END criterion=entropy, max_depth=6, n_estimators=200; total time=  22.7s\n",
            "[CV 1/3; 7/18] START criterion=entropy, max_depth=9, n_estimators=50............\n",
            "[CV 1/3; 7/18] END criterion=entropy, max_depth=9, n_estimators=50; total time=   7.0s\n",
            "[CV 2/3; 7/18] START criterion=entropy, max_depth=9, n_estimators=50............\n",
            "[CV 2/3; 7/18] END criterion=entropy, max_depth=9, n_estimators=50; total time=   6.8s\n",
            "[CV 3/3; 7/18] START criterion=entropy, max_depth=9, n_estimators=50............\n",
            "[CV 3/3; 7/18] END criterion=entropy, max_depth=9, n_estimators=50; total time=   7.2s\n",
            "[CV 1/3; 8/18] START criterion=entropy, max_depth=9, n_estimators=100...........\n",
            "[CV 1/3; 8/18] END criterion=entropy, max_depth=9, n_estimators=100; total time=  13.7s\n",
            "[CV 2/3; 8/18] START criterion=entropy, max_depth=9, n_estimators=100...........\n",
            "[CV 2/3; 8/18] END criterion=entropy, max_depth=9, n_estimators=100; total time=  14.1s\n",
            "[CV 3/3; 8/18] START criterion=entropy, max_depth=9, n_estimators=100...........\n",
            "[CV 3/3; 8/18] END criterion=entropy, max_depth=9, n_estimators=100; total time=  14.0s\n",
            "[CV 1/3; 9/18] START criterion=entropy, max_depth=9, n_estimators=200...........\n",
            "[CV 1/3; 9/18] END criterion=entropy, max_depth=9, n_estimators=200; total time=  29.3s\n",
            "[CV 2/3; 9/18] START criterion=entropy, max_depth=9, n_estimators=200...........\n",
            "[CV 2/3; 9/18] END criterion=entropy, max_depth=9, n_estimators=200; total time=  25.2s\n",
            "[CV 3/3; 9/18] START criterion=entropy, max_depth=9, n_estimators=200...........\n",
            "[CV 3/3; 9/18] END criterion=entropy, max_depth=9, n_estimators=200; total time=  30.8s\n",
            "[CV 1/3; 10/18] START criterion=gini, max_depth=3, n_estimators=50..............\n",
            "[CV 1/3; 10/18] END criterion=gini, max_depth=3, n_estimators=50; total time=   1.2s\n",
            "[CV 2/3; 10/18] START criterion=gini, max_depth=3, n_estimators=50..............\n",
            "[CV 2/3; 10/18] END criterion=gini, max_depth=3, n_estimators=50; total time=   0.7s\n",
            "[CV 3/3; 10/18] START criterion=gini, max_depth=3, n_estimators=50..............\n",
            "[CV 3/3; 10/18] END criterion=gini, max_depth=3, n_estimators=50; total time=   1.0s\n",
            "[CV 1/3; 11/18] START criterion=gini, max_depth=3, n_estimators=100.............\n",
            "[CV 1/3; 11/18] END criterion=gini, max_depth=3, n_estimators=100; total time=   3.2s\n",
            "[CV 2/3; 11/18] START criterion=gini, max_depth=3, n_estimators=100.............\n",
            "[CV 2/3; 11/18] END criterion=gini, max_depth=3, n_estimators=100; total time=   2.5s\n",
            "[CV 3/3; 11/18] START criterion=gini, max_depth=3, n_estimators=100.............\n",
            "[CV 3/3; 11/18] END criterion=gini, max_depth=3, n_estimators=100; total time=   2.3s\n",
            "[CV 1/3; 12/18] START criterion=gini, max_depth=3, n_estimators=200.............\n",
            "[CV 1/3; 12/18] END criterion=gini, max_depth=3, n_estimators=200; total time=   4.7s\n",
            "[CV 2/3; 12/18] START criterion=gini, max_depth=3, n_estimators=200.............\n",
            "[CV 2/3; 12/18] END criterion=gini, max_depth=3, n_estimators=200; total time=   4.1s\n",
            "[CV 3/3; 12/18] START criterion=gini, max_depth=3, n_estimators=200.............\n",
            "[CV 3/3; 12/18] END criterion=gini, max_depth=3, n_estimators=200; total time=   4.9s\n",
            "[CV 1/3; 13/18] START criterion=gini, max_depth=6, n_estimators=50..............\n",
            "[CV 1/3; 13/18] END criterion=gini, max_depth=6, n_estimators=50; total time=   1.9s\n",
            "[CV 2/3; 13/18] START criterion=gini, max_depth=6, n_estimators=50..............\n",
            "[CV 2/3; 13/18] END criterion=gini, max_depth=6, n_estimators=50; total time=   2.0s\n",
            "[CV 3/3; 13/18] START criterion=gini, max_depth=6, n_estimators=50..............\n",
            "[CV 3/3; 13/18] END criterion=gini, max_depth=6, n_estimators=50; total time=   2.0s\n",
            "[CV 1/3; 14/18] START criterion=gini, max_depth=6, n_estimators=100.............\n",
            "[CV 1/3; 14/18] END criterion=gini, max_depth=6, n_estimators=100; total time=   3.3s\n",
            "[CV 2/3; 14/18] START criterion=gini, max_depth=6, n_estimators=100.............\n",
            "[CV 2/3; 14/18] END criterion=gini, max_depth=6, n_estimators=100; total time=   4.0s\n",
            "[CV 3/3; 14/18] START criterion=gini, max_depth=6, n_estimators=100.............\n",
            "[CV 3/3; 14/18] END criterion=gini, max_depth=6, n_estimators=100; total time=   4.0s\n",
            "[CV 1/3; 15/18] START criterion=gini, max_depth=6, n_estimators=200.............\n",
            "[CV 1/3; 15/18] END criterion=gini, max_depth=6, n_estimators=200; total time=   7.6s\n",
            "[CV 2/3; 15/18] START criterion=gini, max_depth=6, n_estimators=200.............\n",
            "[CV 2/3; 15/18] END criterion=gini, max_depth=6, n_estimators=200; total time=   8.1s\n",
            "[CV 3/3; 15/18] START criterion=gini, max_depth=6, n_estimators=200.............\n",
            "[CV 3/3; 15/18] END criterion=gini, max_depth=6, n_estimators=200; total time=   7.5s\n",
            "[CV 1/3; 16/18] START criterion=gini, max_depth=9, n_estimators=50..............\n",
            "[CV 1/3; 16/18] END criterion=gini, max_depth=9, n_estimators=50; total time=   2.6s\n",
            "[CV 2/3; 16/18] START criterion=gini, max_depth=9, n_estimators=50..............\n",
            "[CV 2/3; 16/18] END criterion=gini, max_depth=9, n_estimators=50; total time=   2.6s\n",
            "[CV 3/3; 16/18] START criterion=gini, max_depth=9, n_estimators=50..............\n",
            "[CV 3/3; 16/18] END criterion=gini, max_depth=9, n_estimators=50; total time=   2.5s\n",
            "[CV 1/3; 17/18] START criterion=gini, max_depth=9, n_estimators=100.............\n"
          ]
        },
        {
          "name": "stdout",
          "output_type": "stream",
          "text": [
            "[CV 1/3; 17/18] END criterion=gini, max_depth=9, n_estimators=100; total time=   5.3s\n",
            "[CV 2/3; 17/18] START criterion=gini, max_depth=9, n_estimators=100.............\n",
            "[CV 2/3; 17/18] END criterion=gini, max_depth=9, n_estimators=100; total time=   4.7s\n",
            "[CV 3/3; 17/18] START criterion=gini, max_depth=9, n_estimators=100.............\n",
            "[CV 3/3; 17/18] END criterion=gini, max_depth=9, n_estimators=100; total time=   5.4s\n",
            "[CV 1/3; 18/18] START criterion=gini, max_depth=9, n_estimators=200.............\n",
            "[CV 1/3; 18/18] END criterion=gini, max_depth=9, n_estimators=200; total time=  10.1s\n",
            "[CV 2/3; 18/18] START criterion=gini, max_depth=9, n_estimators=200.............\n",
            "[CV 2/3; 18/18] END criterion=gini, max_depth=9, n_estimators=200; total time=  10.5s\n",
            "[CV 3/3; 18/18] START criterion=gini, max_depth=9, n_estimators=200.............\n",
            "[CV 3/3; 18/18] END criterion=gini, max_depth=9, n_estimators=200; total time=   9.9s\n"
          ]
        },
        {
          "data": {
            "text/plain": [
              "GridSearchCV(cv=3, estimator=RandomForestClassifier(), n_jobs=1,\n",
              "             param_grid={'criterion': ['entropy', 'gini'],\n",
              "                         'max_depth': [3, 6, 9],\n",
              "                         'n_estimators': [50, 100, 200]},\n",
              "             scoring='accuracy', verbose=10)"
            ]
          },
          "execution_count": 39,
          "metadata": {},
          "output_type": "execute_result"
        }
      ],
      "source": [
        "rfModel=RandomForestClassifier()\n",
        "param_grid = {'n_estimators': [50, 100, 200],'max_depth': [3,6,9],'criterion':['entropy','gini']}\n",
        "model_gridsearch = GridSearchCV(estimator=rfModel,param_grid=param_grid,verbose=10,scoring='accuracy',n_jobs=1,cv=3)\n",
        "model_gridsearch.fit(xn_zero_train, y_train_3)\n"
      ]
    },
    {
      "cell_type": "code",
      "execution_count": null,
      "id": "db09214b",
      "metadata": {
        "id": "db09214b",
        "outputId": "f3b57011-7e21-41d4-f041-e83c8c4e803d"
      },
      "outputs": [
        {
          "name": "stdout",
          "output_type": "stream",
          "text": [
            "{'criterion': 'entropy', 'max_depth': 9, 'n_estimators': 100}\n",
            "RandomForestClassifier(criterion='entropy', max_depth=9)\n",
            "0.9996662958843159\n",
            "{'criterion': 'entropy', 'max_depth': 9, 'n_estimators': 100}\n",
            "RandomForestClassifier(criterion='entropy', max_depth=9)\n",
            "0.984\n"
          ]
        }
      ],
      "source": [
        "y_pred_grid = model_gridsearch.predict(xn_zero_train)\n",
        "accuracy_grid = metrics.accuracy_score(y_train_3, y_pred_grid)\n",
        "print(model_gridsearch.best_params_)\n",
        "print(model_gridsearch.best_estimator_)\n",
        "print(accuracy_grid)\n",
        "\n",
        "y_pred_grid = model_gridsearch.predict(xn_zero_test)\n",
        "accuracy_grid = metrics.accuracy_score(y_test_3, y_pred_grid)\n",
        "print(model_gridsearch.best_params_)\n",
        "print(model_gridsearch.best_estimator_)\n",
        "print(accuracy_grid)"
      ]
    },
    {
      "cell_type": "code",
      "execution_count": null,
      "id": "bbafd9f0",
      "metadata": {
        "id": "bbafd9f0"
      },
      "outputs": [],
      "source": [
        ""
      ]
    },
    {
      "cell_type": "code",
      "execution_count": null,
      "id": "310bfec9",
      "metadata": {
        "scrolled": false,
        "id": "310bfec9",
        "outputId": "1153791e-bd57-4298-f33e-2f868658791c"
      },
      "outputs": [
        {
          "name": "stdout",
          "output_type": "stream",
          "text": [
            "Fitting 3 folds for each of 18 candidates, totalling 54 fits\n",
            "[CV 1/3; 1/18] START criterion=entropy, max_depth=3, n_estimators=50............\n",
            "[CV 1/3; 1/18] END criterion=entropy, max_depth=3, n_estimators=50; total time=   2.9s\n",
            "[CV 2/3; 1/18] START criterion=entropy, max_depth=3, n_estimators=50............\n",
            "[CV 2/3; 1/18] END criterion=entropy, max_depth=3, n_estimators=50; total time=   3.4s\n",
            "[CV 3/3; 1/18] START criterion=entropy, max_depth=3, n_estimators=50............\n",
            "[CV 3/3; 1/18] END criterion=entropy, max_depth=3, n_estimators=50; total time=   3.5s\n",
            "[CV 1/3; 2/18] START criterion=entropy, max_depth=3, n_estimators=100...........\n",
            "[CV 1/3; 2/18] END criterion=entropy, max_depth=3, n_estimators=100; total time=   7.0s\n",
            "[CV 2/3; 2/18] START criterion=entropy, max_depth=3, n_estimators=100...........\n",
            "[CV 2/3; 2/18] END criterion=entropy, max_depth=3, n_estimators=100; total time=   6.2s\n",
            "[CV 3/3; 2/18] START criterion=entropy, max_depth=3, n_estimators=100...........\n",
            "[CV 3/3; 2/18] END criterion=entropy, max_depth=3, n_estimators=100; total time=   7.0s\n",
            "[CV 1/3; 3/18] START criterion=entropy, max_depth=3, n_estimators=200...........\n",
            "[CV 1/3; 3/18] END criterion=entropy, max_depth=3, n_estimators=200; total time=  13.5s\n",
            "[CV 2/3; 3/18] START criterion=entropy, max_depth=3, n_estimators=200...........\n",
            "[CV 2/3; 3/18] END criterion=entropy, max_depth=3, n_estimators=200; total time=  13.3s\n",
            "[CV 3/3; 3/18] START criterion=entropy, max_depth=3, n_estimators=200...........\n",
            "[CV 3/3; 3/18] END criterion=entropy, max_depth=3, n_estimators=200; total time=  13.4s\n",
            "[CV 1/3; 4/18] START criterion=entropy, max_depth=6, n_estimators=50............\n",
            "[CV 1/3; 4/18] END criterion=entropy, max_depth=6, n_estimators=50; total time=   5.9s\n",
            "[CV 2/3; 4/18] START criterion=entropy, max_depth=6, n_estimators=50............\n",
            "[CV 2/3; 4/18] END criterion=entropy, max_depth=6, n_estimators=50; total time=   5.5s\n",
            "[CV 3/3; 4/18] START criterion=entropy, max_depth=6, n_estimators=50............\n",
            "[CV 3/3; 4/18] END criterion=entropy, max_depth=6, n_estimators=50; total time=   5.4s\n",
            "[CV 1/3; 5/18] START criterion=entropy, max_depth=6, n_estimators=100...........\n",
            "[CV 1/3; 5/18] END criterion=entropy, max_depth=6, n_estimators=100; total time=  11.1s\n",
            "[CV 2/3; 5/18] START criterion=entropy, max_depth=6, n_estimators=100...........\n",
            "[CV 2/3; 5/18] END criterion=entropy, max_depth=6, n_estimators=100; total time=  11.3s\n",
            "[CV 3/3; 5/18] START criterion=entropy, max_depth=6, n_estimators=100...........\n",
            "[CV 3/3; 5/18] END criterion=entropy, max_depth=6, n_estimators=100; total time=  11.0s\n",
            "[CV 1/3; 6/18] START criterion=entropy, max_depth=6, n_estimators=200...........\n",
            "[CV 1/3; 6/18] END criterion=entropy, max_depth=6, n_estimators=200; total time=  23.0s\n",
            "[CV 2/3; 6/18] START criterion=entropy, max_depth=6, n_estimators=200...........\n",
            "[CV 2/3; 6/18] END criterion=entropy, max_depth=6, n_estimators=200; total time=  22.6s\n",
            "[CV 3/3; 6/18] START criterion=entropy, max_depth=6, n_estimators=200...........\n",
            "[CV 3/3; 6/18] END criterion=entropy, max_depth=6, n_estimators=200; total time=  23.0s\n",
            "[CV 1/3; 7/18] START criterion=entropy, max_depth=9, n_estimators=50............\n",
            "[CV 1/3; 7/18] END criterion=entropy, max_depth=9, n_estimators=50; total time=   6.9s\n",
            "[CV 2/3; 7/18] START criterion=entropy, max_depth=9, n_estimators=50............\n",
            "[CV 2/3; 7/18] END criterion=entropy, max_depth=9, n_estimators=50; total time=   7.2s\n",
            "[CV 3/3; 7/18] START criterion=entropy, max_depth=9, n_estimators=50............\n",
            "[CV 3/3; 7/18] END criterion=entropy, max_depth=9, n_estimators=50; total time=   6.8s\n",
            "[CV 1/3; 8/18] START criterion=entropy, max_depth=9, n_estimators=100...........\n",
            "[CV 1/3; 8/18] END criterion=entropy, max_depth=9, n_estimators=100; total time=  14.4s\n",
            "[CV 2/3; 8/18] START criterion=entropy, max_depth=9, n_estimators=100...........\n",
            "[CV 2/3; 8/18] END criterion=entropy, max_depth=9, n_estimators=100; total time=  14.3s\n",
            "[CV 3/3; 8/18] START criterion=entropy, max_depth=9, n_estimators=100...........\n",
            "[CV 3/3; 8/18] END criterion=entropy, max_depth=9, n_estimators=100; total time=  13.9s\n",
            "[CV 1/3; 9/18] START criterion=entropy, max_depth=9, n_estimators=200...........\n",
            "[CV 1/3; 9/18] END criterion=entropy, max_depth=9, n_estimators=200; total time=  27.3s\n",
            "[CV 2/3; 9/18] START criterion=entropy, max_depth=9, n_estimators=200...........\n",
            "[CV 2/3; 9/18] END criterion=entropy, max_depth=9, n_estimators=200; total time=  28.6s\n",
            "[CV 3/3; 9/18] START criterion=entropy, max_depth=9, n_estimators=200...........\n",
            "[CV 3/3; 9/18] END criterion=entropy, max_depth=9, n_estimators=200; total time=  28.1s\n",
            "[CV 1/3; 10/18] START criterion=gini, max_depth=3, n_estimators=50..............\n",
            "[CV 1/3; 10/18] END criterion=gini, max_depth=3, n_estimators=50; total time=   1.2s\n",
            "[CV 2/3; 10/18] START criterion=gini, max_depth=3, n_estimators=50..............\n",
            "[CV 2/3; 10/18] END criterion=gini, max_depth=3, n_estimators=50; total time=   1.1s\n",
            "[CV 3/3; 10/18] START criterion=gini, max_depth=3, n_estimators=50..............\n",
            "[CV 3/3; 10/18] END criterion=gini, max_depth=3, n_estimators=50; total time=   1.1s\n",
            "[CV 1/3; 11/18] START criterion=gini, max_depth=3, n_estimators=100.............\n",
            "[CV 1/3; 11/18] END criterion=gini, max_depth=3, n_estimators=100; total time=   2.4s\n",
            "[CV 2/3; 11/18] START criterion=gini, max_depth=3, n_estimators=100.............\n",
            "[CV 2/3; 11/18] END criterion=gini, max_depth=3, n_estimators=100; total time=   2.3s\n",
            "[CV 3/3; 11/18] START criterion=gini, max_depth=3, n_estimators=100.............\n",
            "[CV 3/3; 11/18] END criterion=gini, max_depth=3, n_estimators=100; total time=   2.3s\n",
            "[CV 1/3; 12/18] START criterion=gini, max_depth=3, n_estimators=200.............\n",
            "[CV 1/3; 12/18] END criterion=gini, max_depth=3, n_estimators=200; total time=   4.4s\n",
            "[CV 2/3; 12/18] START criterion=gini, max_depth=3, n_estimators=200.............\n",
            "[CV 2/3; 12/18] END criterion=gini, max_depth=3, n_estimators=200; total time=   4.6s\n",
            "[CV 3/3; 12/18] START criterion=gini, max_depth=3, n_estimators=200.............\n",
            "[CV 3/3; 12/18] END criterion=gini, max_depth=3, n_estimators=200; total time=   4.9s\n",
            "[CV 1/3; 13/18] START criterion=gini, max_depth=6, n_estimators=50..............\n",
            "[CV 1/3; 13/18] END criterion=gini, max_depth=6, n_estimators=50; total time=   2.0s\n",
            "[CV 2/3; 13/18] START criterion=gini, max_depth=6, n_estimators=50..............\n",
            "[CV 2/3; 13/18] END criterion=gini, max_depth=6, n_estimators=50; total time=   2.0s\n",
            "[CV 3/3; 13/18] START criterion=gini, max_depth=6, n_estimators=50..............\n",
            "[CV 3/3; 13/18] END criterion=gini, max_depth=6, n_estimators=50; total time=   1.9s\n",
            "[CV 1/3; 14/18] START criterion=gini, max_depth=6, n_estimators=100.............\n",
            "[CV 1/3; 14/18] END criterion=gini, max_depth=6, n_estimators=100; total time=   3.6s\n",
            "[CV 2/3; 14/18] START criterion=gini, max_depth=6, n_estimators=100.............\n",
            "[CV 2/3; 14/18] END criterion=gini, max_depth=6, n_estimators=100; total time=   4.0s\n",
            "[CV 3/3; 14/18] START criterion=gini, max_depth=6, n_estimators=100.............\n",
            "[CV 3/3; 14/18] END criterion=gini, max_depth=6, n_estimators=100; total time=   4.0s\n",
            "[CV 1/3; 15/18] START criterion=gini, max_depth=6, n_estimators=200.............\n",
            "[CV 1/3; 15/18] END criterion=gini, max_depth=6, n_estimators=200; total time=   7.5s\n",
            "[CV 2/3; 15/18] START criterion=gini, max_depth=6, n_estimators=200.............\n",
            "[CV 2/3; 15/18] END criterion=gini, max_depth=6, n_estimators=200; total time=   9.0s\n",
            "[CV 3/3; 15/18] START criterion=gini, max_depth=6, n_estimators=200.............\n",
            "[CV 3/3; 15/18] END criterion=gini, max_depth=6, n_estimators=200; total time=   7.5s\n",
            "[CV 1/3; 16/18] START criterion=gini, max_depth=9, n_estimators=50..............\n",
            "[CV 1/3; 16/18] END criterion=gini, max_depth=9, n_estimators=50; total time=   2.6s\n",
            "[CV 2/3; 16/18] START criterion=gini, max_depth=9, n_estimators=50..............\n",
            "[CV 2/3; 16/18] END criterion=gini, max_depth=9, n_estimators=50; total time=   2.7s\n",
            "[CV 3/3; 16/18] START criterion=gini, max_depth=9, n_estimators=50..............\n",
            "[CV 3/3; 16/18] END criterion=gini, max_depth=9, n_estimators=50; total time=   2.6s\n",
            "[CV 1/3; 17/18] START criterion=gini, max_depth=9, n_estimators=100.............\n"
          ]
        },
        {
          "name": "stdout",
          "output_type": "stream",
          "text": [
            "[CV 1/3; 17/18] END criterion=gini, max_depth=9, n_estimators=100; total time=   4.6s\n",
            "[CV 2/3; 17/18] START criterion=gini, max_depth=9, n_estimators=100.............\n",
            "[CV 2/3; 17/18] END criterion=gini, max_depth=9, n_estimators=100; total time=   5.4s\n",
            "[CV 3/3; 17/18] START criterion=gini, max_depth=9, n_estimators=100.............\n",
            "[CV 3/3; 17/18] END criterion=gini, max_depth=9, n_estimators=100; total time=   5.4s\n",
            "[CV 1/3; 18/18] START criterion=gini, max_depth=9, n_estimators=200.............\n",
            "[CV 1/3; 18/18] END criterion=gini, max_depth=9, n_estimators=200; total time=  10.1s\n",
            "[CV 2/3; 18/18] START criterion=gini, max_depth=9, n_estimators=200.............\n",
            "[CV 2/3; 18/18] END criterion=gini, max_depth=9, n_estimators=200; total time=  10.1s\n",
            "[CV 3/3; 18/18] START criterion=gini, max_depth=9, n_estimators=200.............\n",
            "[CV 3/3; 18/18] END criterion=gini, max_depth=9, n_estimators=200; total time=  10.8s\n"
          ]
        },
        {
          "data": {
            "text/plain": [
              "GridSearchCV(cv=3, estimator=RandomForestClassifier(), n_jobs=1,\n",
              "             param_grid={'criterion': ['entropy', 'gini'],\n",
              "                         'max_depth': [3, 6, 9],\n",
              "                         'n_estimators': [50, 100, 200]},\n",
              "             scoring='accuracy', verbose=10)"
            ]
          },
          "execution_count": 41,
          "metadata": {},
          "output_type": "execute_result"
        }
      ],
      "source": [
        "rfModel=RandomForestClassifier()\n",
        "param_grid = {'n_estimators': [50, 100, 200],'max_depth': [3,6,9],'criterion':['entropy','gini']}\n",
        "model_gridsearch = GridSearchCV(estimator=rfModel,param_grid=param_grid,verbose=10,scoring='accuracy',n_jobs=1,cv=3)\n",
        "model_gridsearch.fit(xn_spec_cen_train, y_train_3)\n"
      ]
    },
    {
      "cell_type": "code",
      "execution_count": null,
      "id": "7df38b8d",
      "metadata": {
        "id": "7df38b8d",
        "outputId": "4617d761-07c5-413f-db5e-a6b461a2996d"
      },
      "outputs": [
        {
          "name": "stdout",
          "output_type": "stream",
          "text": [
            "{'criterion': 'entropy', 'max_depth': 9, 'n_estimators': 200}\n",
            "RandomForestClassifier(criterion='entropy', max_depth=9, n_estimators=200)\n",
            "0.9988876529477196\n",
            "{'criterion': 'entropy', 'max_depth': 9, 'n_estimators': 200}\n",
            "RandomForestClassifier(criterion='entropy', max_depth=9, n_estimators=200)\n",
            "0.988\n"
          ]
        }
      ],
      "source": [
        "y_pred_grid = model_gridsearch.predict(xn_spec_cen_train)\n",
        "accuracy_grid = metrics.accuracy_score(y_train_3, y_pred_grid)\n",
        "print(model_gridsearch.best_params_)\n",
        "print(model_gridsearch.best_estimator_)\n",
        "print(accuracy_grid)\n",
        "\n",
        "y_pred_grid = model_gridsearch.predict(xn_spec_cen_test)\n",
        "accuracy_grid = metrics.accuracy_score(y_test_3, y_pred_grid)\n",
        "print(model_gridsearch.best_params_)\n",
        "print(model_gridsearch.best_estimator_)\n",
        "print(accuracy_grid)"
      ]
    },
    {
      "cell_type": "code",
      "execution_count": null,
      "id": "ea75c4cf",
      "metadata": {
        "id": "ea75c4cf",
        "outputId": "70342d50-7058-4f44-e5ae-81613a5a54e4"
      },
      "outputs": [
        {
          "name": "stdout",
          "output_type": "stream",
          "text": [
            "Fitting 3 folds for each of 18 candidates, totalling 54 fits\n",
            "[CV 1/3; 1/18] START criterion=entropy, max_depth=3, n_estimators=50............\n",
            "[CV 1/3; 1/18] END criterion=entropy, max_depth=3, n_estimators=50; total time=   3.5s\n",
            "[CV 2/3; 1/18] START criterion=entropy, max_depth=3, n_estimators=50............\n",
            "[CV 2/3; 1/18] END criterion=entropy, max_depth=3, n_estimators=50; total time=   3.5s\n",
            "[CV 3/3; 1/18] START criterion=entropy, max_depth=3, n_estimators=50............\n",
            "[CV 3/3; 1/18] END criterion=entropy, max_depth=3, n_estimators=50; total time=   3.4s\n",
            "[CV 1/3; 2/18] START criterion=entropy, max_depth=3, n_estimators=100...........\n",
            "[CV 1/3; 2/18] END criterion=entropy, max_depth=3, n_estimators=100; total time=   6.4s\n",
            "[CV 2/3; 2/18] START criterion=entropy, max_depth=3, n_estimators=100...........\n",
            "[CV 2/3; 2/18] END criterion=entropy, max_depth=3, n_estimators=100; total time=   7.1s\n",
            "[CV 3/3; 2/18] START criterion=entropy, max_depth=3, n_estimators=100...........\n",
            "[CV 3/3; 2/18] END criterion=entropy, max_depth=3, n_estimators=100; total time=   6.6s\n",
            "[CV 1/3; 3/18] START criterion=entropy, max_depth=3, n_estimators=200...........\n",
            "[CV 1/3; 3/18] END criterion=entropy, max_depth=3, n_estimators=200; total time=  13.8s\n",
            "[CV 2/3; 3/18] START criterion=entropy, max_depth=3, n_estimators=200...........\n",
            "[CV 2/3; 3/18] END criterion=entropy, max_depth=3, n_estimators=200; total time=  13.5s\n",
            "[CV 3/3; 3/18] START criterion=entropy, max_depth=3, n_estimators=200...........\n",
            "[CV 3/3; 3/18] END criterion=entropy, max_depth=3, n_estimators=200; total time=  13.1s\n",
            "[CV 1/3; 4/18] START criterion=entropy, max_depth=6, n_estimators=50............\n",
            "[CV 1/3; 4/18] END criterion=entropy, max_depth=6, n_estimators=50; total time=   6.0s\n",
            "[CV 2/3; 4/18] START criterion=entropy, max_depth=6, n_estimators=50............\n",
            "[CV 2/3; 4/18] END criterion=entropy, max_depth=6, n_estimators=50; total time=   5.2s\n",
            "[CV 3/3; 4/18] START criterion=entropy, max_depth=6, n_estimators=50............\n",
            "[CV 3/3; 4/18] END criterion=entropy, max_depth=6, n_estimators=50; total time=   5.9s\n",
            "[CV 1/3; 5/18] START criterion=entropy, max_depth=6, n_estimators=100...........\n",
            "[CV 1/3; 5/18] END criterion=entropy, max_depth=6, n_estimators=100; total time=  11.4s\n",
            "[CV 2/3; 5/18] START criterion=entropy, max_depth=6, n_estimators=100...........\n",
            "[CV 2/3; 5/18] END criterion=entropy, max_depth=6, n_estimators=100; total time=  11.1s\n",
            "[CV 3/3; 5/18] START criterion=entropy, max_depth=6, n_estimators=100...........\n",
            "[CV 3/3; 5/18] END criterion=entropy, max_depth=6, n_estimators=100; total time=  12.0s\n",
            "[CV 1/3; 6/18] START criterion=entropy, max_depth=6, n_estimators=200...........\n",
            "[CV 1/3; 6/18] END criterion=entropy, max_depth=6, n_estimators=200; total time=  22.4s\n",
            "[CV 2/3; 6/18] START criterion=entropy, max_depth=6, n_estimators=200...........\n",
            "[CV 2/3; 6/18] END criterion=entropy, max_depth=6, n_estimators=200; total time=  23.6s\n",
            "[CV 3/3; 6/18] START criterion=entropy, max_depth=6, n_estimators=200...........\n",
            "[CV 3/3; 6/18] END criterion=entropy, max_depth=6, n_estimators=200; total time=  22.6s\n",
            "[CV 1/3; 7/18] START criterion=entropy, max_depth=9, n_estimators=50............\n",
            "[CV 1/3; 7/18] END criterion=entropy, max_depth=9, n_estimators=50; total time=   7.4s\n",
            "[CV 2/3; 7/18] START criterion=entropy, max_depth=9, n_estimators=50............\n",
            "[CV 2/3; 7/18] END criterion=entropy, max_depth=9, n_estimators=50; total time=   6.7s\n",
            "[CV 3/3; 7/18] START criterion=entropy, max_depth=9, n_estimators=50............\n",
            "[CV 3/3; 7/18] END criterion=entropy, max_depth=9, n_estimators=50; total time=   7.9s\n",
            "[CV 1/3; 8/18] START criterion=entropy, max_depth=9, n_estimators=100...........\n",
            "[CV 1/3; 8/18] END criterion=entropy, max_depth=9, n_estimators=100; total time=  14.9s\n",
            "[CV 2/3; 8/18] START criterion=entropy, max_depth=9, n_estimators=100...........\n",
            "[CV 2/3; 8/18] END criterion=entropy, max_depth=9, n_estimators=100; total time=  14.0s\n",
            "[CV 3/3; 8/18] START criterion=entropy, max_depth=9, n_estimators=100...........\n",
            "[CV 3/3; 8/18] END criterion=entropy, max_depth=9, n_estimators=100; total time=  13.9s\n",
            "[CV 1/3; 9/18] START criterion=entropy, max_depth=9, n_estimators=200...........\n",
            "[CV 1/3; 9/18] END criterion=entropy, max_depth=9, n_estimators=200; total time=  28.5s\n",
            "[CV 2/3; 9/18] START criterion=entropy, max_depth=9, n_estimators=200...........\n",
            "[CV 2/3; 9/18] END criterion=entropy, max_depth=9, n_estimators=200; total time=  28.9s\n",
            "[CV 3/3; 9/18] START criterion=entropy, max_depth=9, n_estimators=200...........\n",
            "[CV 3/3; 9/18] END criterion=entropy, max_depth=9, n_estimators=200; total time=  28.4s\n",
            "[CV 1/3; 10/18] START criterion=gini, max_depth=3, n_estimators=50..............\n",
            "[CV 1/3; 10/18] END criterion=gini, max_depth=3, n_estimators=50; total time=   1.1s\n",
            "[CV 2/3; 10/18] START criterion=gini, max_depth=3, n_estimators=50..............\n",
            "[CV 2/3; 10/18] END criterion=gini, max_depth=3, n_estimators=50; total time=   1.1s\n",
            "[CV 3/3; 10/18] START criterion=gini, max_depth=3, n_estimators=50..............\n",
            "[CV 3/3; 10/18] END criterion=gini, max_depth=3, n_estimators=50; total time=   1.1s\n",
            "[CV 1/3; 11/18] START criterion=gini, max_depth=3, n_estimators=100.............\n",
            "[CV 1/3; 11/18] END criterion=gini, max_depth=3, n_estimators=100; total time=   2.4s\n",
            "[CV 2/3; 11/18] START criterion=gini, max_depth=3, n_estimators=100.............\n",
            "[CV 2/3; 11/18] END criterion=gini, max_depth=3, n_estimators=100; total time=   1.7s\n",
            "[CV 3/3; 11/18] START criterion=gini, max_depth=3, n_estimators=100.............\n",
            "[CV 3/3; 11/18] END criterion=gini, max_depth=3, n_estimators=100; total time=   2.4s\n",
            "[CV 1/3; 12/18] START criterion=gini, max_depth=3, n_estimators=200.............\n",
            "[CV 1/3; 12/18] END criterion=gini, max_depth=3, n_estimators=200; total time=   4.8s\n",
            "[CV 2/3; 12/18] START criterion=gini, max_depth=3, n_estimators=200.............\n",
            "[CV 2/3; 12/18] END criterion=gini, max_depth=3, n_estimators=200; total time=   4.8s\n",
            "[CV 3/3; 12/18] START criterion=gini, max_depth=3, n_estimators=200.............\n",
            "[CV 3/3; 12/18] END criterion=gini, max_depth=3, n_estimators=200; total time=   4.0s\n",
            "[CV 1/3; 13/18] START criterion=gini, max_depth=6, n_estimators=50..............\n",
            "[CV 1/3; 13/18] END criterion=gini, max_depth=6, n_estimators=50; total time=   2.0s\n",
            "[CV 2/3; 13/18] START criterion=gini, max_depth=6, n_estimators=50..............\n",
            "[CV 2/3; 13/18] END criterion=gini, max_depth=6, n_estimators=50; total time=   2.0s\n",
            "[CV 3/3; 13/18] START criterion=gini, max_depth=6, n_estimators=50..............\n",
            "[CV 3/3; 13/18] END criterion=gini, max_depth=6, n_estimators=50; total time=   2.0s\n",
            "[CV 1/3; 14/18] START criterion=gini, max_depth=6, n_estimators=100.............\n",
            "[CV 1/3; 14/18] END criterion=gini, max_depth=6, n_estimators=100; total time=   4.0s\n",
            "[CV 2/3; 14/18] START criterion=gini, max_depth=6, n_estimators=100.............\n",
            "[CV 2/3; 14/18] END criterion=gini, max_depth=6, n_estimators=100; total time=   3.7s\n",
            "[CV 3/3; 14/18] START criterion=gini, max_depth=6, n_estimators=100.............\n",
            "[CV 3/3; 14/18] END criterion=gini, max_depth=6, n_estimators=100; total time=   3.6s\n",
            "[CV 1/3; 15/18] START criterion=gini, max_depth=6, n_estimators=200.............\n",
            "[CV 1/3; 15/18] END criterion=gini, max_depth=6, n_estimators=200; total time=   8.2s\n",
            "[CV 2/3; 15/18] START criterion=gini, max_depth=6, n_estimators=200.............\n",
            "[CV 2/3; 15/18] END criterion=gini, max_depth=6, n_estimators=200; total time=   7.5s\n",
            "[CV 3/3; 15/18] START criterion=gini, max_depth=6, n_estimators=200.............\n",
            "[CV 3/3; 15/18] END criterion=gini, max_depth=6, n_estimators=200; total time=   8.2s\n",
            "[CV 1/3; 16/18] START criterion=gini, max_depth=9, n_estimators=50..............\n",
            "[CV 1/3; 16/18] END criterion=gini, max_depth=9, n_estimators=50; total time=   2.6s\n",
            "[CV 2/3; 16/18] START criterion=gini, max_depth=9, n_estimators=50..............\n",
            "[CV 2/3; 16/18] END criterion=gini, max_depth=9, n_estimators=50; total time=   2.1s\n",
            "[CV 3/3; 16/18] START criterion=gini, max_depth=9, n_estimators=50..............\n",
            "[CV 3/3; 16/18] END criterion=gini, max_depth=9, n_estimators=50; total time=   2.7s\n",
            "[CV 1/3; 17/18] START criterion=gini, max_depth=9, n_estimators=100.............\n"
          ]
        },
        {
          "name": "stdout",
          "output_type": "stream",
          "text": [
            "[CV 1/3; 17/18] END criterion=gini, max_depth=9, n_estimators=100; total time=   5.4s\n",
            "[CV 2/3; 17/18] START criterion=gini, max_depth=9, n_estimators=100.............\n",
            "[CV 2/3; 17/18] END criterion=gini, max_depth=9, n_estimators=100; total time=   5.4s\n",
            "[CV 3/3; 17/18] START criterion=gini, max_depth=9, n_estimators=100.............\n",
            "[CV 3/3; 17/18] END criterion=gini, max_depth=9, n_estimators=100; total time=   4.7s\n",
            "[CV 1/3; 18/18] START criterion=gini, max_depth=9, n_estimators=200.............\n",
            "[CV 1/3; 18/18] END criterion=gini, max_depth=9, n_estimators=200; total time=  10.8s\n",
            "[CV 2/3; 18/18] START criterion=gini, max_depth=9, n_estimators=200.............\n",
            "[CV 2/3; 18/18] END criterion=gini, max_depth=9, n_estimators=200; total time=  10.0s\n",
            "[CV 3/3; 18/18] START criterion=gini, max_depth=9, n_estimators=200.............\n",
            "[CV 3/3; 18/18] END criterion=gini, max_depth=9, n_estimators=200; total time=  10.2s\n"
          ]
        },
        {
          "data": {
            "text/plain": [
              "GridSearchCV(cv=3, estimator=RandomForestClassifier(), n_jobs=1,\n",
              "             param_grid={'criterion': ['entropy', 'gini'],\n",
              "                         'max_depth': [3, 6, 9],\n",
              "                         'n_estimators': [50, 100, 200]},\n",
              "             scoring='accuracy', verbose=10)"
            ]
          },
          "execution_count": 43,
          "metadata": {},
          "output_type": "execute_result"
        }
      ],
      "source": [
        "rfModel=RandomForestClassifier()\n",
        "param_grid = {'n_estimators': [50, 100, 200],'max_depth': [3,6,9],'criterion':['entropy','gini']}\n",
        "model_gridsearch = GridSearchCV(estimator=rfModel,param_grid=param_grid,verbose=10,scoring='accuracy',n_jobs=1,cv=3)\n",
        "model_gridsearch.fit(xn_spec_ban_train, y_train_3)\n"
      ]
    },
    {
      "cell_type": "code",
      "execution_count": null,
      "id": "31107f5b",
      "metadata": {
        "id": "31107f5b",
        "outputId": "84abe66b-9924-45e4-a537-8651bf053123"
      },
      "outputs": [
        {
          "name": "stdout",
          "output_type": "stream",
          "text": [
            "{'criterion': 'entropy', 'max_depth': 9, 'n_estimators': 200}\n",
            "RandomForestClassifier(criterion='entropy', max_depth=9, n_estimators=200)\n",
            "0.9993325917686318\n",
            "{'criterion': 'entropy', 'max_depth': 9, 'n_estimators': 200}\n",
            "RandomForestClassifier(criterion='entropy', max_depth=9, n_estimators=200)\n",
            "0.984\n"
          ]
        }
      ],
      "source": [
        "y_pred_grid = model_gridsearch.predict(xn_spec_ban_train)\n",
        "accuracy_grid = metrics.accuracy_score(y_train_3, y_pred_grid)\n",
        "print(model_gridsearch.best_params_)\n",
        "print(model_gridsearch.best_estimator_)\n",
        "print(accuracy_grid)\n",
        "\n",
        "y_pred_grid = model_gridsearch.predict(xn_spec_ban_test)\n",
        "accuracy_grid = metrics.accuracy_score(y_test_3, y_pred_grid)\n",
        "print(model_gridsearch.best_params_)\n",
        "print(model_gridsearch.best_estimator_)\n",
        "print(accuracy_grid)"
      ]
    },
    {
      "cell_type": "code",
      "execution_count": null,
      "id": "5d81d37a",
      "metadata": {
        "id": "5d81d37a"
      },
      "outputs": [],
      "source": [
        ""
      ]
    },
    {
      "cell_type": "code",
      "execution_count": null,
      "id": "15127ba1",
      "metadata": {
        "id": "15127ba1",
        "outputId": "e7b1a700-debb-47af-ce4f-43d75651fd6f"
      },
      "outputs": [
        {
          "name": "stdout",
          "output_type": "stream",
          "text": [
            "Fitting 3 folds for each of 18 candidates, totalling 54 fits\n",
            "[CV 1/3; 1/18] START criterion=entropy, max_depth=3, n_estimators=50............\n",
            "[CV 1/3; 1/18] END criterion=entropy, max_depth=3, n_estimators=50; total time=   1.7s\n",
            "[CV 2/3; 1/18] START criterion=entropy, max_depth=3, n_estimators=50............\n",
            "[CV 2/3; 1/18] END criterion=entropy, max_depth=3, n_estimators=50; total time=   1.8s\n",
            "[CV 3/3; 1/18] START criterion=entropy, max_depth=3, n_estimators=50............\n",
            "[CV 3/3; 1/18] END criterion=entropy, max_depth=3, n_estimators=50; total time=   1.8s\n",
            "[CV 1/3; 2/18] START criterion=entropy, max_depth=3, n_estimators=100...........\n",
            "[CV 1/3; 2/18] END criterion=entropy, max_depth=3, n_estimators=100; total time=   3.7s\n",
            "[CV 2/3; 2/18] START criterion=entropy, max_depth=3, n_estimators=100...........\n",
            "[CV 2/3; 2/18] END criterion=entropy, max_depth=3, n_estimators=100; total time=   3.7s\n",
            "[CV 3/3; 2/18] START criterion=entropy, max_depth=3, n_estimators=100...........\n",
            "[CV 3/3; 2/18] END criterion=entropy, max_depth=3, n_estimators=100; total time=   3.0s\n",
            "[CV 1/3; 3/18] START criterion=entropy, max_depth=3, n_estimators=200...........\n",
            "[CV 1/3; 3/18] END criterion=entropy, max_depth=3, n_estimators=200; total time=   7.7s\n",
            "[CV 2/3; 3/18] START criterion=entropy, max_depth=3, n_estimators=200...........\n",
            "[CV 2/3; 3/18] END criterion=entropy, max_depth=3, n_estimators=200; total time=   7.3s\n",
            "[CV 3/3; 3/18] START criterion=entropy, max_depth=3, n_estimators=200...........\n",
            "[CV 3/3; 3/18] END criterion=entropy, max_depth=3, n_estimators=200; total time=   7.1s\n",
            "[CV 1/3; 4/18] START criterion=entropy, max_depth=6, n_estimators=50............\n",
            "[CV 1/3; 4/18] END criterion=entropy, max_depth=6, n_estimators=50; total time=   3.1s\n",
            "[CV 2/3; 4/18] START criterion=entropy, max_depth=6, n_estimators=50............\n",
            "[CV 2/3; 4/18] END criterion=entropy, max_depth=6, n_estimators=50; total time=   3.0s\n",
            "[CV 3/3; 4/18] START criterion=entropy, max_depth=6, n_estimators=50............\n",
            "[CV 3/3; 4/18] END criterion=entropy, max_depth=6, n_estimators=50; total time=   2.6s\n",
            "[CV 1/3; 5/18] START criterion=entropy, max_depth=6, n_estimators=100...........\n",
            "[CV 1/3; 5/18] END criterion=entropy, max_depth=6, n_estimators=100; total time=   5.7s\n",
            "[CV 2/3; 5/18] START criterion=entropy, max_depth=6, n_estimators=100...........\n",
            "[CV 2/3; 5/18] END criterion=entropy, max_depth=6, n_estimators=100; total time=   6.0s\n",
            "[CV 3/3; 5/18] START criterion=entropy, max_depth=6, n_estimators=100...........\n",
            "[CV 3/3; 5/18] END criterion=entropy, max_depth=6, n_estimators=100; total time=   5.5s\n",
            "[CV 1/3; 6/18] START criterion=entropy, max_depth=6, n_estimators=200...........\n",
            "[CV 1/3; 6/18] END criterion=entropy, max_depth=6, n_estimators=200; total time=  12.2s\n",
            "[CV 2/3; 6/18] START criterion=entropy, max_depth=6, n_estimators=200...........\n",
            "[CV 2/3; 6/18] END criterion=entropy, max_depth=6, n_estimators=200; total time=  11.5s\n",
            "[CV 3/3; 6/18] START criterion=entropy, max_depth=6, n_estimators=200...........\n",
            "[CV 3/3; 6/18] END criterion=entropy, max_depth=6, n_estimators=200; total time=  12.3s\n",
            "[CV 1/3; 7/18] START criterion=entropy, max_depth=9, n_estimators=50............\n",
            "[CV 1/3; 7/18] END criterion=entropy, max_depth=9, n_estimators=50; total time=   2.7s\n",
            "[CV 2/3; 7/18] START criterion=entropy, max_depth=9, n_estimators=50............\n",
            "[CV 2/3; 7/18] END criterion=entropy, max_depth=9, n_estimators=50; total time=   1.4s\n",
            "[CV 3/3; 7/18] START criterion=entropy, max_depth=9, n_estimators=50............\n",
            "[CV 3/3; 7/18] END criterion=entropy, max_depth=9, n_estimators=50; total time=   1.4s\n",
            "[CV 1/3; 8/18] START criterion=entropy, max_depth=9, n_estimators=100...........\n",
            "[CV 1/3; 8/18] END criterion=entropy, max_depth=9, n_estimators=100; total time=   5.1s\n",
            "[CV 2/3; 8/18] START criterion=entropy, max_depth=9, n_estimators=100...........\n",
            "[CV 2/3; 8/18] END criterion=entropy, max_depth=9, n_estimators=100; total time=   7.4s\n",
            "[CV 3/3; 8/18] START criterion=entropy, max_depth=9, n_estimators=100...........\n",
            "[CV 3/3; 8/18] END criterion=entropy, max_depth=9, n_estimators=100; total time=   7.4s\n",
            "[CV 1/3; 9/18] START criterion=entropy, max_depth=9, n_estimators=200...........\n",
            "[CV 1/3; 9/18] END criterion=entropy, max_depth=9, n_estimators=200; total time=  14.0s\n",
            "[CV 2/3; 9/18] START criterion=entropy, max_depth=9, n_estimators=200...........\n",
            "[CV 2/3; 9/18] END criterion=entropy, max_depth=9, n_estimators=200; total time=  13.9s\n",
            "[CV 3/3; 9/18] START criterion=entropy, max_depth=9, n_estimators=200...........\n",
            "[CV 3/3; 9/18] END criterion=entropy, max_depth=9, n_estimators=200; total time=  13.6s\n",
            "[CV 1/3; 10/18] START criterion=gini, max_depth=3, n_estimators=50..............\n",
            "[CV 1/3; 10/18] END criterion=gini, max_depth=3, n_estimators=50; total time=   0.7s\n",
            "[CV 2/3; 10/18] START criterion=gini, max_depth=3, n_estimators=50..............\n",
            "[CV 2/3; 10/18] END criterion=gini, max_depth=3, n_estimators=50; total time=   0.7s\n",
            "[CV 3/3; 10/18] START criterion=gini, max_depth=3, n_estimators=50..............\n",
            "[CV 3/3; 10/18] END criterion=gini, max_depth=3, n_estimators=50; total time=   0.7s\n",
            "[CV 1/3; 11/18] START criterion=gini, max_depth=3, n_estimators=100.............\n",
            "[CV 1/3; 11/18] END criterion=gini, max_depth=3, n_estimators=100; total time=   1.4s\n",
            "[CV 2/3; 11/18] START criterion=gini, max_depth=3, n_estimators=100.............\n",
            "[CV 2/3; 11/18] END criterion=gini, max_depth=3, n_estimators=100; total time=   1.5s\n",
            "[CV 3/3; 11/18] START criterion=gini, max_depth=3, n_estimators=100.............\n",
            "[CV 3/3; 11/18] END criterion=gini, max_depth=3, n_estimators=100; total time=   1.1s\n",
            "[CV 1/3; 12/18] START criterion=gini, max_depth=3, n_estimators=200.............\n",
            "[CV 1/3; 12/18] END criterion=gini, max_depth=3, n_estimators=200; total time=   2.7s\n",
            "[CV 2/3; 12/18] START criterion=gini, max_depth=3, n_estimators=200.............\n",
            "[CV 2/3; 12/18] END criterion=gini, max_depth=3, n_estimators=200; total time=   3.0s\n",
            "[CV 3/3; 12/18] START criterion=gini, max_depth=3, n_estimators=200.............\n",
            "[CV 3/3; 12/18] END criterion=gini, max_depth=3, n_estimators=200; total time=   3.0s\n",
            "[CV 1/3; 13/18] START criterion=gini, max_depth=6, n_estimators=50..............\n",
            "[CV 1/3; 13/18] END criterion=gini, max_depth=6, n_estimators=50; total time=   1.1s\n",
            "[CV 2/3; 13/18] START criterion=gini, max_depth=6, n_estimators=50..............\n",
            "[CV 2/3; 13/18] END criterion=gini, max_depth=6, n_estimators=50; total time=   1.1s\n",
            "[CV 3/3; 13/18] START criterion=gini, max_depth=6, n_estimators=50..............\n",
            "[CV 3/3; 13/18] END criterion=gini, max_depth=6, n_estimators=50; total time=   1.1s\n",
            "[CV 1/3; 14/18] START criterion=gini, max_depth=6, n_estimators=100.............\n",
            "[CV 1/3; 14/18] END criterion=gini, max_depth=6, n_estimators=100; total time=   2.3s\n",
            "[CV 2/3; 14/18] START criterion=gini, max_depth=6, n_estimators=100.............\n",
            "[CV 2/3; 14/18] END criterion=gini, max_depth=6, n_estimators=100; total time=   1.7s\n",
            "[CV 3/3; 14/18] START criterion=gini, max_depth=6, n_estimators=100.............\n",
            "[CV 3/3; 14/18] END criterion=gini, max_depth=6, n_estimators=100; total time=   2.3s\n",
            "[CV 1/3; 15/18] START criterion=gini, max_depth=6, n_estimators=200.............\n",
            "[CV 1/3; 15/18] END criterion=gini, max_depth=6, n_estimators=200; total time=   4.8s\n",
            "[CV 2/3; 15/18] START criterion=gini, max_depth=6, n_estimators=200.............\n",
            "[CV 2/3; 15/18] END criterion=gini, max_depth=6, n_estimators=200; total time=   4.8s\n",
            "[CV 3/3; 15/18] START criterion=gini, max_depth=6, n_estimators=200.............\n",
            "[CV 3/3; 15/18] END criterion=gini, max_depth=6, n_estimators=200; total time=   4.2s\n",
            "[CV 1/3; 16/18] START criterion=gini, max_depth=9, n_estimators=50..............\n",
            "[CV 1/3; 16/18] END criterion=gini, max_depth=9, n_estimators=50; total time=   1.4s\n",
            "[CV 2/3; 16/18] START criterion=gini, max_depth=9, n_estimators=50..............\n",
            "[CV 2/3; 16/18] END criterion=gini, max_depth=9, n_estimators=50; total time=   1.5s\n",
            "[CV 3/3; 16/18] START criterion=gini, max_depth=9, n_estimators=50..............\n",
            "[CV 3/3; 16/18] END criterion=gini, max_depth=9, n_estimators=50; total time=   1.5s\n",
            "[CV 1/3; 17/18] START criterion=gini, max_depth=9, n_estimators=100.............\n"
          ]
        },
        {
          "name": "stdout",
          "output_type": "stream",
          "text": [
            "[CV 1/3; 17/18] END criterion=gini, max_depth=9, n_estimators=100; total time=   3.0s\n",
            "[CV 2/3; 17/18] START criterion=gini, max_depth=9, n_estimators=100.............\n",
            "[CV 2/3; 17/18] END criterion=gini, max_depth=9, n_estimators=100; total time=   3.0s\n",
            "[CV 3/3; 17/18] START criterion=gini, max_depth=9, n_estimators=100.............\n",
            "[CV 3/3; 17/18] END criterion=gini, max_depth=9, n_estimators=100; total time=   3.1s\n",
            "[CV 1/3; 18/18] START criterion=gini, max_depth=9, n_estimators=200.............\n",
            "[CV 1/3; 18/18] END criterion=gini, max_depth=9, n_estimators=200; total time=   5.5s\n",
            "[CV 2/3; 18/18] START criterion=gini, max_depth=9, n_estimators=200.............\n",
            "[CV 2/3; 18/18] END criterion=gini, max_depth=9, n_estimators=200; total time=   6.1s\n",
            "[CV 3/3; 18/18] START criterion=gini, max_depth=9, n_estimators=200.............\n",
            "[CV 3/3; 18/18] END criterion=gini, max_depth=9, n_estimators=200; total time=   5.4s\n"
          ]
        },
        {
          "data": {
            "text/plain": [
              "GridSearchCV(cv=3, estimator=RandomForestClassifier(), n_jobs=1,\n",
              "             param_grid={'criterion': ['entropy', 'gini'],\n",
              "                         'max_depth': [3, 6, 9],\n",
              "                         'n_estimators': [50, 100, 200]},\n",
              "             scoring='accuracy', verbose=10)"
            ]
          },
          "execution_count": 45,
          "metadata": {},
          "output_type": "execute_result"
        }
      ],
      "source": [
        "rfModel=RandomForestClassifier()\n",
        "param_grid = {'n_estimators': [50, 100, 200],'max_depth': [3,6,9],'criterion':['entropy','gini']}\n",
        "model_gridsearch = GridSearchCV(estimator=rfModel,param_grid=param_grid,verbose=10,scoring='accuracy',n_jobs=1,cv=3)\n",
        "model_gridsearch.fit(xn_mfcc_train, y_train_3)\n"
      ]
    },
    {
      "cell_type": "code",
      "execution_count": null,
      "id": "6fd3f3d3",
      "metadata": {
        "id": "6fd3f3d3",
        "outputId": "5efd8b9d-76f4-4813-b9fd-2fe2a1bd2f73"
      },
      "outputs": [
        {
          "name": "stdout",
          "output_type": "stream",
          "text": [
            "{'criterion': 'entropy', 'max_depth': 9, 'n_estimators': 200}\n",
            "RandomForestClassifier(criterion='entropy', max_depth=9, n_estimators=200)\n",
            "1.0\n",
            "{'criterion': 'entropy', 'max_depth': 9, 'n_estimators': 200}\n",
            "RandomForestClassifier(criterion='entropy', max_depth=9, n_estimators=200)\n",
            "0.994\n"
          ]
        }
      ],
      "source": [
        "y_pred_grid = model_gridsearch.predict(xn_mfcc_train)\n",
        "accuracy_grid = metrics.accuracy_score(y_train_3, y_pred_grid)\n",
        "print(model_gridsearch.best_params_)\n",
        "print(model_gridsearch.best_estimator_)\n",
        "print(accuracy_grid)\n",
        "\n",
        "y_pred_grid = model_gridsearch.predict(xn_mfcc_test)\n",
        "accuracy_grid = metrics.accuracy_score(y_test_3, y_pred_grid)\n",
        "print(model_gridsearch.best_params_)\n",
        "print(model_gridsearch.best_estimator_)\n",
        "print(accuracy_grid)"
      ]
    },
    {
      "cell_type": "code",
      "execution_count": null,
      "id": "c53aff65",
      "metadata": {
        "id": "c53aff65"
      },
      "outputs": [],
      "source": [
        ""
      ]
    },
    {
      "cell_type": "code",
      "execution_count": null,
      "id": "2f3b178d",
      "metadata": {
        "id": "2f3b178d"
      },
      "outputs": [],
      "source": [
        ""
      ]
    },
    {
      "cell_type": "code",
      "execution_count": null,
      "id": "c25462ab",
      "metadata": {
        "id": "c25462ab"
      },
      "outputs": [],
      "source": [
        ""
      ]
    },
    {
      "cell_type": "code",
      "execution_count": null,
      "id": "4c4350a7",
      "metadata": {
        "id": "4c4350a7"
      },
      "outputs": [],
      "source": [
        ""
      ]
    },
    {
      "cell_type": "code",
      "execution_count": null,
      "id": "41232e9c",
      "metadata": {
        "id": "41232e9c"
      },
      "outputs": [],
      "source": [
        ""
      ]
    },
    {
      "cell_type": "code",
      "execution_count": null,
      "id": "bfd9e867",
      "metadata": {
        "id": "bfd9e867"
      },
      "outputs": [],
      "source": [
        "#dt"
      ]
    },
    {
      "cell_type": "code",
      "execution_count": null,
      "id": "2a9d99cd",
      "metadata": {
        "id": "2a9d99cd"
      },
      "outputs": [],
      "source": [
        ""
      ]
    },
    {
      "cell_type": "code",
      "execution_count": null,
      "id": "d09283c3",
      "metadata": {
        "id": "d09283c3"
      },
      "outputs": [],
      "source": [
        ""
      ]
    },
    {
      "cell_type": "code",
      "execution_count": null,
      "id": "32cf6a1d",
      "metadata": {
        "id": "32cf6a1d"
      },
      "outputs": [],
      "source": [
        ""
      ]
    },
    {
      "cell_type": "code",
      "execution_count": null,
      "id": "7b9f4edc",
      "metadata": {
        "id": "7b9f4edc"
      },
      "outputs": [],
      "source": [
        ""
      ]
    },
    {
      "cell_type": "code",
      "execution_count": null,
      "id": "9f1f637c",
      "metadata": {
        "id": "9f1f637c"
      },
      "outputs": [],
      "source": [
        ""
      ]
    },
    {
      "cell_type": "code",
      "execution_count": null,
      "id": "83178b43",
      "metadata": {
        "id": "83178b43"
      },
      "outputs": [],
      "source": [
        ""
      ]
    },
    {
      "cell_type": "code",
      "execution_count": null,
      "id": "3b468a36",
      "metadata": {
        "id": "3b468a36"
      },
      "outputs": [],
      "source": [
        ""
      ]
    },
    {
      "cell_type": "code",
      "execution_count": null,
      "metadata": {
        "id": "KU1b7mDER-f7"
      },
      "outputs": [],
      "source": [
        ""
      ],
      "id": "KU1b7mDER-f7"
    },
    {
      "cell_type": "code",
      "execution_count": null,
      "metadata": {
        "id": "eiU6_vMZR-f7"
      },
      "outputs": [],
      "source": [
        ""
      ],
      "id": "eiU6_vMZR-f7"
    },
    {
      "cell_type": "code",
      "execution_count": null,
      "metadata": {
        "id": "5vhhdwbDR-f8"
      },
      "outputs": [],
      "source": [
        ""
      ],
      "id": "5vhhdwbDR-f8"
    },
    {
      "cell_type": "code",
      "execution_count": null,
      "metadata": {
        "id": "CgzQSYtxR-f8"
      },
      "outputs": [],
      "source": [
        ""
      ],
      "id": "CgzQSYtxR-f8"
    },
    {
      "cell_type": "code",
      "execution_count": null,
      "id": "a44c42fe",
      "metadata": {
        "id": "a44c42fe",
        "outputId": "e21e0435-6a11-47a7-e481-200d404e96a4"
      },
      "outputs": [
        {
          "name": "stdout",
          "output_type": "stream",
          "text": [
            "Fitting 3 folds for each of 12 candidates, totalling 36 fits\n",
            "[CV 1/3; 1/12] START criterion=entropy, max_depth=2, splitter=best..............\n",
            "[CV 1/3; 1/12] END criterion=entropy, max_depth=2, splitter=best; total time=   0.0s\n",
            "[CV 2/3; 1/12] START criterion=entropy, max_depth=2, splitter=best..............\n",
            "[CV 2/3; 1/12] END criterion=entropy, max_depth=2, splitter=best; total time=   0.0s\n",
            "[CV 3/3; 1/12] START criterion=entropy, max_depth=2, splitter=best..............\n",
            "[CV 3/3; 1/12] END criterion=entropy, max_depth=2, splitter=best; total time=   0.0s\n",
            "[CV 1/3; 2/12] START criterion=entropy, max_depth=2, splitter=random............\n",
            "[CV 1/3; 2/12] END criterion=entropy, max_depth=2, splitter=random; total time=   0.0s\n",
            "[CV 2/3; 2/12] START criterion=entropy, max_depth=2, splitter=random............\n",
            "[CV 2/3; 2/12] END criterion=entropy, max_depth=2, splitter=random; total time=   0.0s\n",
            "[CV 3/3; 2/12] START criterion=entropy, max_depth=2, splitter=random............\n",
            "[CV 3/3; 2/12] END criterion=entropy, max_depth=2, splitter=random; total time=   0.0s\n",
            "[CV 1/3; 3/12] START criterion=entropy, max_depth=3, splitter=best..............\n",
            "[CV 1/3; 3/12] END criterion=entropy, max_depth=3, splitter=best; total time=   0.0s\n",
            "[CV 2/3; 3/12] START criterion=entropy, max_depth=3, splitter=best..............\n",
            "[CV 2/3; 3/12] END criterion=entropy, max_depth=3, splitter=best; total time=   0.0s\n",
            "[CV 3/3; 3/12] START criterion=entropy, max_depth=3, splitter=best..............\n",
            "[CV 3/3; 3/12] END criterion=entropy, max_depth=3, splitter=best; total time=   0.0s\n",
            "[CV 1/3; 4/12] START criterion=entropy, max_depth=3, splitter=random............\n",
            "[CV 1/3; 4/12] END criterion=entropy, max_depth=3, splitter=random; total time=   0.0s\n",
            "[CV 2/3; 4/12] START criterion=entropy, max_depth=3, splitter=random............\n",
            "[CV 2/3; 4/12] END criterion=entropy, max_depth=3, splitter=random; total time=   0.0s\n",
            "[CV 3/3; 4/12] START criterion=entropy, max_depth=3, splitter=random............\n",
            "[CV 3/3; 4/12] END criterion=entropy, max_depth=3, splitter=random; total time=   0.0s\n",
            "[CV 1/3; 5/12] START criterion=entropy, max_depth=1, splitter=best..............\n",
            "[CV 1/3; 5/12] END criterion=entropy, max_depth=1, splitter=best; total time=   0.0s\n",
            "[CV 2/3; 5/12] START criterion=entropy, max_depth=1, splitter=best..............\n",
            "[CV 2/3; 5/12] END criterion=entropy, max_depth=1, splitter=best; total time=   0.0s\n",
            "[CV 3/3; 5/12] START criterion=entropy, max_depth=1, splitter=best..............\n",
            "[CV 3/3; 5/12] END criterion=entropy, max_depth=1, splitter=best; total time=   0.0s\n",
            "[CV 1/3; 6/12] START criterion=entropy, max_depth=1, splitter=random............\n",
            "[CV 1/3; 6/12] END criterion=entropy, max_depth=1, splitter=random; total time=   0.0s\n",
            "[CV 2/3; 6/12] START criterion=entropy, max_depth=1, splitter=random............\n",
            "[CV 2/3; 6/12] END criterion=entropy, max_depth=1, splitter=random; total time=   0.0s\n",
            "[CV 3/3; 6/12] START criterion=entropy, max_depth=1, splitter=random............\n",
            "[CV 3/3; 6/12] END criterion=entropy, max_depth=1, splitter=random; total time=   0.0s\n",
            "[CV 1/3; 7/12] START criterion=gini, max_depth=2, splitter=best.................\n",
            "[CV 1/3; 7/12] END criterion=gini, max_depth=2, splitter=best; total time=   0.0s\n",
            "[CV 2/3; 7/12] START criterion=gini, max_depth=2, splitter=best.................\n",
            "[CV 2/3; 7/12] END criterion=gini, max_depth=2, splitter=best; total time=   0.0s\n",
            "[CV 3/3; 7/12] START criterion=gini, max_depth=2, splitter=best.................\n",
            "[CV 3/3; 7/12] END criterion=gini, max_depth=2, splitter=best; total time=   0.0s\n",
            "[CV 1/3; 8/12] START criterion=gini, max_depth=2, splitter=random...............\n",
            "[CV 1/3; 8/12] END criterion=gini, max_depth=2, splitter=random; total time=   0.0s\n",
            "[CV 2/3; 8/12] START criterion=gini, max_depth=2, splitter=random...............\n",
            "[CV 2/3; 8/12] END criterion=gini, max_depth=2, splitter=random; total time=   0.0s\n",
            "[CV 3/3; 8/12] START criterion=gini, max_depth=2, splitter=random...............\n",
            "[CV 3/3; 8/12] END criterion=gini, max_depth=2, splitter=random; total time=   0.0s\n",
            "[CV 1/3; 9/12] START criterion=gini, max_depth=3, splitter=best.................\n",
            "[CV 1/3; 9/12] END criterion=gini, max_depth=3, splitter=best; total time=   0.0s\n",
            "[CV 2/3; 9/12] START criterion=gini, max_depth=3, splitter=best.................\n",
            "[CV 2/3; 9/12] END criterion=gini, max_depth=3, splitter=best; total time=   0.0s\n",
            "[CV 3/3; 9/12] START criterion=gini, max_depth=3, splitter=best.................\n",
            "[CV 3/3; 9/12] END criterion=gini, max_depth=3, splitter=best; total time=   0.0s\n",
            "[CV 1/3; 10/12] START criterion=gini, max_depth=3, splitter=random..............\n",
            "[CV 1/3; 10/12] END criterion=gini, max_depth=3, splitter=random; total time=   0.0s\n",
            "[CV 2/3; 10/12] START criterion=gini, max_depth=3, splitter=random..............\n",
            "[CV 2/3; 10/12] END criterion=gini, max_depth=3, splitter=random; total time=   0.0s\n",
            "[CV 3/3; 10/12] START criterion=gini, max_depth=3, splitter=random..............\n",
            "[CV 3/3; 10/12] END criterion=gini, max_depth=3, splitter=random; total time=   0.0s\n",
            "[CV 1/3; 11/12] START criterion=gini, max_depth=1, splitter=best................\n",
            "[CV 1/3; 11/12] END criterion=gini, max_depth=1, splitter=best; total time=   0.0s\n",
            "[CV 2/3; 11/12] START criterion=gini, max_depth=1, splitter=best................\n",
            "[CV 2/3; 11/12] END criterion=gini, max_depth=1, splitter=best; total time=   0.0s\n",
            "[CV 3/3; 11/12] START criterion=gini, max_depth=1, splitter=best................\n",
            "[CV 3/3; 11/12] END criterion=gini, max_depth=1, splitter=best; total time=   0.0s\n",
            "[CV 1/3; 12/12] START criterion=gini, max_depth=1, splitter=random..............\n",
            "[CV 1/3; 12/12] END criterion=gini, max_depth=1, splitter=random; total time=   0.0s\n",
            "[CV 2/3; 12/12] START criterion=gini, max_depth=1, splitter=random..............\n",
            "[CV 2/3; 12/12] END criterion=gini, max_depth=1, splitter=random; total time=   0.0s\n",
            "[CV 3/3; 12/12] START criterion=gini, max_depth=1, splitter=random..............\n",
            "[CV 3/3; 12/12] END criterion=gini, max_depth=1, splitter=random; total time=   0.0s\n"
          ]
        },
        {
          "data": {
            "text/plain": [
              "GridSearchCV(cv=3, estimator=DecisionTreeClassifier(), n_jobs=1,\n",
              "             param_grid={'criterion': ['entropy', 'gini'],\n",
              "                         'max_depth': [2, 3, 1],\n",
              "                         'splitter': ['best', 'random']},\n",
              "             scoring='accuracy', verbose=10)"
            ]
          },
          "execution_count": 51,
          "metadata": {},
          "output_type": "execute_result"
        }
      ],
      "source": [
        "dtModel=DecisionTreeClassifier()\n",
        "param_grid = {'splitter': ['best','random'],'max_depth': [2,3,1],'criterion':['entropy','gini']}\n",
        "model_gridsearch = GridSearchCV(estimator=dtModel,param_grid=param_grid,verbose=10,scoring='accuracy',n_jobs=1,cv=3)\n",
        "model_gridsearch.fit(x_zero_train, y_train_2)\n"
      ]
    },
    {
      "cell_type": "code",
      "execution_count": null,
      "id": "8232df12",
      "metadata": {
        "id": "8232df12",
        "outputId": "a77aca0d-af8c-4389-ee91-c4c1530d4fa1"
      },
      "outputs": [
        {
          "name": "stdout",
          "output_type": "stream",
          "text": [
            "{'criterion': 'gini', 'max_depth': 3, 'splitter': 'best'}\n",
            "DecisionTreeClassifier(max_depth=3)\n",
            "0.2872080088987764\n",
            "{'criterion': 'gini', 'max_depth': 3, 'splitter': 'best'}\n",
            "DecisionTreeClassifier(max_depth=3)\n",
            "0.273\n"
          ]
        }
      ],
      "source": [
        "y_pred_grid = model_gridsearch.predict(x_zero_train)\n",
        "accuracy_grid = metrics.accuracy_score(y_train_2, y_pred_grid)\n",
        "print(model_gridsearch.best_params_)\n",
        "print(model_gridsearch.best_estimator_)\n",
        "print(accuracy_grid)\n",
        "\n",
        "y_pred_grid = model_gridsearch.predict(x_zero_test)\n",
        "accuracy_grid = metrics.accuracy_score(y_test_2, y_pred_grid)\n",
        "print(model_gridsearch.best_params_)\n",
        "print(model_gridsearch.best_estimator_)\n",
        "print(accuracy_grid)"
      ]
    },
    {
      "cell_type": "code",
      "execution_count": null,
      "id": "4ab17115",
      "metadata": {
        "id": "4ab17115",
        "outputId": "cd6ed9ef-e80e-44f8-c8d4-b8f48461c132"
      },
      "outputs": [
        {
          "name": "stdout",
          "output_type": "stream",
          "text": [
            "Fitting 3 folds for each of 12 candidates, totalling 36 fits\n",
            "[CV 1/3; 1/12] START criterion=entropy, max_depth=2, splitter=best..............\n",
            "[CV 1/3; 1/12] END criterion=entropy, max_depth=2, splitter=best; total time=   0.0s\n",
            "[CV 2/3; 1/12] START criterion=entropy, max_depth=2, splitter=best..............\n",
            "[CV 2/3; 1/12] END criterion=entropy, max_depth=2, splitter=best; total time=   0.0s\n",
            "[CV 3/3; 1/12] START criterion=entropy, max_depth=2, splitter=best..............\n",
            "[CV 3/3; 1/12] END criterion=entropy, max_depth=2, splitter=best; total time=   0.0s\n",
            "[CV 1/3; 2/12] START criterion=entropy, max_depth=2, splitter=random............\n",
            "[CV 1/3; 2/12] END criterion=entropy, max_depth=2, splitter=random; total time=   0.0s\n",
            "[CV 2/3; 2/12] START criterion=entropy, max_depth=2, splitter=random............\n",
            "[CV 2/3; 2/12] END criterion=entropy, max_depth=2, splitter=random; total time=   0.0s\n",
            "[CV 3/3; 2/12] START criterion=entropy, max_depth=2, splitter=random............\n",
            "[CV 3/3; 2/12] END criterion=entropy, max_depth=2, splitter=random; total time=   0.0s\n",
            "[CV 1/3; 3/12] START criterion=entropy, max_depth=3, splitter=best..............\n",
            "[CV 1/3; 3/12] END criterion=entropy, max_depth=3, splitter=best; total time=   0.0s\n",
            "[CV 2/3; 3/12] START criterion=entropy, max_depth=3, splitter=best..............\n",
            "[CV 2/3; 3/12] END criterion=entropy, max_depth=3, splitter=best; total time=   0.0s\n",
            "[CV 3/3; 3/12] START criterion=entropy, max_depth=3, splitter=best..............\n",
            "[CV 3/3; 3/12] END criterion=entropy, max_depth=3, splitter=best; total time=   0.0s\n",
            "[CV 1/3; 4/12] START criterion=entropy, max_depth=3, splitter=random............\n",
            "[CV 1/3; 4/12] END criterion=entropy, max_depth=3, splitter=random; total time=   0.0s\n",
            "[CV 2/3; 4/12] START criterion=entropy, max_depth=3, splitter=random............\n",
            "[CV 2/3; 4/12] END criterion=entropy, max_depth=3, splitter=random; total time=   0.0s\n",
            "[CV 3/3; 4/12] START criterion=entropy, max_depth=3, splitter=random............\n",
            "[CV 3/3; 4/12] END criterion=entropy, max_depth=3, splitter=random; total time=   0.0s\n",
            "[CV 1/3; 5/12] START criterion=entropy, max_depth=1, splitter=best..............\n",
            "[CV 1/3; 5/12] END criterion=entropy, max_depth=1, splitter=best; total time=   0.0s\n",
            "[CV 2/3; 5/12] START criterion=entropy, max_depth=1, splitter=best..............\n",
            "[CV 2/3; 5/12] END criterion=entropy, max_depth=1, splitter=best; total time=   0.0s\n",
            "[CV 3/3; 5/12] START criterion=entropy, max_depth=1, splitter=best..............\n",
            "[CV 3/3; 5/12] END criterion=entropy, max_depth=1, splitter=best; total time=   0.0s\n",
            "[CV 1/3; 6/12] START criterion=entropy, max_depth=1, splitter=random............\n",
            "[CV 1/3; 6/12] END criterion=entropy, max_depth=1, splitter=random; total time=   0.0s\n",
            "[CV 2/3; 6/12] START criterion=entropy, max_depth=1, splitter=random............\n",
            "[CV 2/3; 6/12] END criterion=entropy, max_depth=1, splitter=random; total time=   0.0s\n",
            "[CV 3/3; 6/12] START criterion=entropy, max_depth=1, splitter=random............\n",
            "[CV 3/3; 6/12] END criterion=entropy, max_depth=1, splitter=random; total time=   0.0s\n",
            "[CV 1/3; 7/12] START criterion=gini, max_depth=2, splitter=best.................\n",
            "[CV 1/3; 7/12] END criterion=gini, max_depth=2, splitter=best; total time=   0.0s\n",
            "[CV 2/3; 7/12] START criterion=gini, max_depth=2, splitter=best.................\n",
            "[CV 2/3; 7/12] END criterion=gini, max_depth=2, splitter=best; total time=   0.0s\n",
            "[CV 3/3; 7/12] START criterion=gini, max_depth=2, splitter=best.................\n",
            "[CV 3/3; 7/12] END criterion=gini, max_depth=2, splitter=best; total time=   0.0s\n",
            "[CV 1/3; 8/12] START criterion=gini, max_depth=2, splitter=random...............\n",
            "[CV 1/3; 8/12] END criterion=gini, max_depth=2, splitter=random; total time=   0.0s\n",
            "[CV 2/3; 8/12] START criterion=gini, max_depth=2, splitter=random...............\n",
            "[CV 2/3; 8/12] END criterion=gini, max_depth=2, splitter=random; total time=   0.0s\n",
            "[CV 3/3; 8/12] START criterion=gini, max_depth=2, splitter=random...............\n",
            "[CV 3/3; 8/12] END criterion=gini, max_depth=2, splitter=random; total time=   0.0s\n",
            "[CV 1/3; 9/12] START criterion=gini, max_depth=3, splitter=best.................\n",
            "[CV 1/3; 9/12] END criterion=gini, max_depth=3, splitter=best; total time=   0.0s\n",
            "[CV 2/3; 9/12] START criterion=gini, max_depth=3, splitter=best.................\n",
            "[CV 2/3; 9/12] END criterion=gini, max_depth=3, splitter=best; total time=   0.0s\n",
            "[CV 3/3; 9/12] START criterion=gini, max_depth=3, splitter=best.................\n",
            "[CV 3/3; 9/12] END criterion=gini, max_depth=3, splitter=best; total time=   0.0s\n",
            "[CV 1/3; 10/12] START criterion=gini, max_depth=3, splitter=random..............\n",
            "[CV 1/3; 10/12] END criterion=gini, max_depth=3, splitter=random; total time=   0.0s\n",
            "[CV 2/3; 10/12] START criterion=gini, max_depth=3, splitter=random..............\n",
            "[CV 2/3; 10/12] END criterion=gini, max_depth=3, splitter=random; total time=   0.0s\n",
            "[CV 3/3; 10/12] START criterion=gini, max_depth=3, splitter=random..............\n",
            "[CV 3/3; 10/12] END criterion=gini, max_depth=3, splitter=random; total time=   0.0s\n",
            "[CV 1/3; 11/12] START criterion=gini, max_depth=1, splitter=best................\n",
            "[CV 1/3; 11/12] END criterion=gini, max_depth=1, splitter=best; total time=   0.0s\n",
            "[CV 2/3; 11/12] START criterion=gini, max_depth=1, splitter=best................\n",
            "[CV 2/3; 11/12] END criterion=gini, max_depth=1, splitter=best; total time=   0.0s\n",
            "[CV 3/3; 11/12] START criterion=gini, max_depth=1, splitter=best................\n",
            "[CV 3/3; 11/12] END criterion=gini, max_depth=1, splitter=best; total time=   0.0s\n",
            "[CV 1/3; 12/12] START criterion=gini, max_depth=1, splitter=random..............\n",
            "[CV 1/3; 12/12] END criterion=gini, max_depth=1, splitter=random; total time=   0.0s\n",
            "[CV 2/3; 12/12] START criterion=gini, max_depth=1, splitter=random..............\n",
            "[CV 2/3; 12/12] END criterion=gini, max_depth=1, splitter=random; total time=   0.0s\n",
            "[CV 3/3; 12/12] START criterion=gini, max_depth=1, splitter=random..............\n",
            "[CV 3/3; 12/12] END criterion=gini, max_depth=1, splitter=random; total time=   0.0s\n"
          ]
        },
        {
          "data": {
            "text/plain": [
              "GridSearchCV(cv=3, estimator=DecisionTreeClassifier(), n_jobs=1,\n",
              "             param_grid={'criterion': ['entropy', 'gini'],\n",
              "                         'max_depth': [2, 3, 1],\n",
              "                         'splitter': ['best', 'random']},\n",
              "             scoring='accuracy', verbose=10)"
            ]
          },
          "execution_count": 53,
          "metadata": {},
          "output_type": "execute_result"
        }
      ],
      "source": [
        "dtModel=DecisionTreeClassifier()\n",
        "param_grid = {'splitter': ['best','random'],'max_depth': [2,3,1],'criterion':['entropy','gini']}\n",
        "model_gridsearch = GridSearchCV(estimator=dtModel,param_grid=param_grid,verbose=10,scoring='accuracy',n_jobs=1,cv=3)\n",
        "model_gridsearch.fit(x_spec_cen_train, y_train_2)\n"
      ]
    },
    {
      "cell_type": "code",
      "execution_count": null,
      "metadata": {
        "id": "SKe4tyHqR-f8",
        "outputId": "f1dd9a18-f8af-41df-d2ac-2f64c678a34c"
      },
      "outputs": [
        {
          "name": "stdout",
          "output_type": "stream",
          "text": [
            "{'criterion': 'entropy', 'max_depth': 3, 'splitter': 'best'}\n",
            "DecisionTreeClassifier(criterion='entropy', max_depth=3)\n",
            "0.339265850945495\n",
            "{'criterion': 'entropy', 'max_depth': 3, 'splitter': 'best'}\n",
            "DecisionTreeClassifier(criterion='entropy', max_depth=3)\n",
            "0.331\n"
          ]
        }
      ],
      "source": [
        "y_pred_grid = model_gridsearch.predict(x_spec_cen_train)\n",
        "accuracy_grid = metrics.accuracy_score(y_train_2, y_pred_grid)\n",
        "print(model_gridsearch.best_params_)\n",
        "print(model_gridsearch.best_estimator_)\n",
        "print(accuracy_grid)\n",
        "\n",
        "y_pred_grid = model_gridsearch.predict(x_spec_cen_test)\n",
        "accuracy_grid = metrics.accuracy_score(y_test_2, y_pred_grid)\n",
        "print(model_gridsearch.best_params_)\n",
        "print(model_gridsearch.best_estimator_)\n",
        "print(accuracy_grid)"
      ],
      "id": "SKe4tyHqR-f8"
    },
    {
      "cell_type": "code",
      "execution_count": null,
      "metadata": {
        "id": "0w3bAXBmR-f8",
        "outputId": "faddfe6e-abe7-467b-c1a0-d691ef9853b5"
      },
      "outputs": [
        {
          "name": "stdout",
          "output_type": "stream",
          "text": [
            "Fitting 3 folds for each of 12 candidates, totalling 36 fits\n",
            "[CV 1/3; 1/12] START criterion=entropy, max_depth=2, splitter=best..............\n",
            "[CV 1/3; 1/12] END criterion=entropy, max_depth=2, splitter=best; total time=   0.0s\n",
            "[CV 2/3; 1/12] START criterion=entropy, max_depth=2, splitter=best..............\n",
            "[CV 2/3; 1/12] END criterion=entropy, max_depth=2, splitter=best; total time=   0.0s\n",
            "[CV 3/3; 1/12] START criterion=entropy, max_depth=2, splitter=best..............\n",
            "[CV 3/3; 1/12] END criterion=entropy, max_depth=2, splitter=best; total time=   0.0s\n",
            "[CV 1/3; 2/12] START criterion=entropy, max_depth=2, splitter=random............\n",
            "[CV 1/3; 2/12] END criterion=entropy, max_depth=2, splitter=random; total time=   0.0s\n",
            "[CV 2/3; 2/12] START criterion=entropy, max_depth=2, splitter=random............\n",
            "[CV 2/3; 2/12] END criterion=entropy, max_depth=2, splitter=random; total time=   0.0s\n",
            "[CV 3/3; 2/12] START criterion=entropy, max_depth=2, splitter=random............\n",
            "[CV 3/3; 2/12] END criterion=entropy, max_depth=2, splitter=random; total time=   0.0s\n",
            "[CV 1/3; 3/12] START criterion=entropy, max_depth=3, splitter=best..............\n",
            "[CV 1/3; 3/12] END criterion=entropy, max_depth=3, splitter=best; total time=   0.0s\n",
            "[CV 2/3; 3/12] START criterion=entropy, max_depth=3, splitter=best..............\n",
            "[CV 2/3; 3/12] END criterion=entropy, max_depth=3, splitter=best; total time=   0.0s\n",
            "[CV 3/3; 3/12] START criterion=entropy, max_depth=3, splitter=best..............\n",
            "[CV 3/3; 3/12] END criterion=entropy, max_depth=3, splitter=best; total time=   0.0s\n",
            "[CV 1/3; 4/12] START criterion=entropy, max_depth=3, splitter=random............\n",
            "[CV 1/3; 4/12] END criterion=entropy, max_depth=3, splitter=random; total time=   0.0s\n",
            "[CV 2/3; 4/12] START criterion=entropy, max_depth=3, splitter=random............\n",
            "[CV 2/3; 4/12] END criterion=entropy, max_depth=3, splitter=random; total time=   0.0s\n",
            "[CV 3/3; 4/12] START criterion=entropy, max_depth=3, splitter=random............\n",
            "[CV 3/3; 4/12] END criterion=entropy, max_depth=3, splitter=random; total time=   0.0s\n",
            "[CV 1/3; 5/12] START criterion=entropy, max_depth=1, splitter=best..............\n",
            "[CV 1/3; 5/12] END criterion=entropy, max_depth=1, splitter=best; total time=   0.0s\n",
            "[CV 2/3; 5/12] START criterion=entropy, max_depth=1, splitter=best..............\n",
            "[CV 2/3; 5/12] END criterion=entropy, max_depth=1, splitter=best; total time=   0.0s\n",
            "[CV 3/3; 5/12] START criterion=entropy, max_depth=1, splitter=best..............\n",
            "[CV 3/3; 5/12] END criterion=entropy, max_depth=1, splitter=best; total time=   0.0s\n",
            "[CV 1/3; 6/12] START criterion=entropy, max_depth=1, splitter=random............\n",
            "[CV 1/3; 6/12] END criterion=entropy, max_depth=1, splitter=random; total time=   0.0s\n",
            "[CV 2/3; 6/12] START criterion=entropy, max_depth=1, splitter=random............\n",
            "[CV 2/3; 6/12] END criterion=entropy, max_depth=1, splitter=random; total time=   0.0s\n",
            "[CV 3/3; 6/12] START criterion=entropy, max_depth=1, splitter=random............\n",
            "[CV 3/3; 6/12] END criterion=entropy, max_depth=1, splitter=random; total time=   0.0s\n",
            "[CV 1/3; 7/12] START criterion=gini, max_depth=2, splitter=best.................\n",
            "[CV 1/3; 7/12] END criterion=gini, max_depth=2, splitter=best; total time=   0.0s\n",
            "[CV 2/3; 7/12] START criterion=gini, max_depth=2, splitter=best.................\n",
            "[CV 2/3; 7/12] END criterion=gini, max_depth=2, splitter=best; total time=   0.0s\n",
            "[CV 3/3; 7/12] START criterion=gini, max_depth=2, splitter=best.................\n",
            "[CV 3/3; 7/12] END criterion=gini, max_depth=2, splitter=best; total time=   0.0s\n",
            "[CV 1/3; 8/12] START criterion=gini, max_depth=2, splitter=random...............\n",
            "[CV 1/3; 8/12] END criterion=gini, max_depth=2, splitter=random; total time=   0.0s\n",
            "[CV 2/3; 8/12] START criterion=gini, max_depth=2, splitter=random...............\n",
            "[CV 2/3; 8/12] END criterion=gini, max_depth=2, splitter=random; total time=   0.0s\n",
            "[CV 3/3; 8/12] START criterion=gini, max_depth=2, splitter=random...............\n",
            "[CV 3/3; 8/12] END criterion=gini, max_depth=2, splitter=random; total time=   0.0s\n",
            "[CV 1/3; 9/12] START criterion=gini, max_depth=3, splitter=best.................\n",
            "[CV 1/3; 9/12] END criterion=gini, max_depth=3, splitter=best; total time=   0.0s\n",
            "[CV 2/3; 9/12] START criterion=gini, max_depth=3, splitter=best.................\n",
            "[CV 2/3; 9/12] END criterion=gini, max_depth=3, splitter=best; total time=   0.0s\n",
            "[CV 3/3; 9/12] START criterion=gini, max_depth=3, splitter=best.................\n",
            "[CV 3/3; 9/12] END criterion=gini, max_depth=3, splitter=best; total time=   0.0s\n",
            "[CV 1/3; 10/12] START criterion=gini, max_depth=3, splitter=random..............\n",
            "[CV 1/3; 10/12] END criterion=gini, max_depth=3, splitter=random; total time=   0.0s\n",
            "[CV 2/3; 10/12] START criterion=gini, max_depth=3, splitter=random..............\n",
            "[CV 2/3; 10/12] END criterion=gini, max_depth=3, splitter=random; total time=   0.0s\n",
            "[CV 3/3; 10/12] START criterion=gini, max_depth=3, splitter=random..............\n",
            "[CV 3/3; 10/12] END criterion=gini, max_depth=3, splitter=random; total time=   0.0s\n",
            "[CV 1/3; 11/12] START criterion=gini, max_depth=1, splitter=best................\n",
            "[CV 1/3; 11/12] END criterion=gini, max_depth=1, splitter=best; total time=   0.0s\n",
            "[CV 2/3; 11/12] START criterion=gini, max_depth=1, splitter=best................\n",
            "[CV 2/3; 11/12] END criterion=gini, max_depth=1, splitter=best; total time=   0.0s\n",
            "[CV 3/3; 11/12] START criterion=gini, max_depth=1, splitter=best................\n",
            "[CV 3/3; 11/12] END criterion=gini, max_depth=1, splitter=best; total time=   0.0s\n",
            "[CV 1/3; 12/12] START criterion=gini, max_depth=1, splitter=random..............\n",
            "[CV 1/3; 12/12] END criterion=gini, max_depth=1, splitter=random; total time=   0.0s\n",
            "[CV 2/3; 12/12] START criterion=gini, max_depth=1, splitter=random..............\n",
            "[CV 2/3; 12/12] END criterion=gini, max_depth=1, splitter=random; total time=   0.0s\n",
            "[CV 3/3; 12/12] START criterion=gini, max_depth=1, splitter=random..............\n",
            "[CV 3/3; 12/12] END criterion=gini, max_depth=1, splitter=random; total time=   0.0s\n"
          ]
        },
        {
          "data": {
            "text/plain": [
              "GridSearchCV(cv=3, estimator=DecisionTreeClassifier(), n_jobs=1,\n",
              "             param_grid={'criterion': ['entropy', 'gini'],\n",
              "                         'max_depth': [2, 3, 1],\n",
              "                         'splitter': ['best', 'random']},\n",
              "             scoring='accuracy', verbose=10)"
            ]
          },
          "execution_count": 55,
          "metadata": {},
          "output_type": "execute_result"
        }
      ],
      "source": [
        "dtModel=DecisionTreeClassifier()\n",
        "param_grid = {'splitter': ['best','random'],'max_depth': [2,3,1],'criterion':['entropy','gini']}\n",
        "model_gridsearch = GridSearchCV(estimator=dtModel,param_grid=param_grid,verbose=10,scoring='accuracy',n_jobs=1,cv=3)\n",
        "model_gridsearch.fit(x_spec_ban_train, y_train_2)\n"
      ],
      "id": "0w3bAXBmR-f8"
    },
    {
      "cell_type": "code",
      "execution_count": null,
      "metadata": {
        "id": "to6tfvk-R-f9",
        "outputId": "4b947ca8-c4cf-4b63-c280-9a18eee35fad"
      },
      "outputs": [
        {
          "name": "stdout",
          "output_type": "stream",
          "text": [
            "{'criterion': 'gini', 'max_depth': 3, 'splitter': 'best'}\n",
            "DecisionTreeClassifier(max_depth=3)\n",
            "0.3263626251390434\n",
            "{'criterion': 'gini', 'max_depth': 3, 'splitter': 'best'}\n",
            "DecisionTreeClassifier(max_depth=3)\n",
            "0.315\n"
          ]
        }
      ],
      "source": [
        "y_pred_grid = model_gridsearch.predict(x_spec_ban_train)\n",
        "accuracy_grid = metrics.accuracy_score(y_train_2, y_pred_grid)\n",
        "print(model_gridsearch.best_params_)\n",
        "print(model_gridsearch.best_estimator_)\n",
        "print(accuracy_grid)\n",
        "\n",
        "y_pred_grid = model_gridsearch.predict(x_spec_ban_test)\n",
        "accuracy_grid = metrics.accuracy_score(y_test_2, y_pred_grid)\n",
        "print(model_gridsearch.best_params_)\n",
        "print(model_gridsearch.best_estimator_)\n",
        "print(accuracy_grid)"
      ],
      "id": "to6tfvk-R-f9"
    },
    {
      "cell_type": "code",
      "execution_count": null,
      "metadata": {
        "id": "ltNx_f6vR-f9",
        "outputId": "afb9243b-8555-4339-d269-30a7c8f5db29"
      },
      "outputs": [
        {
          "name": "stdout",
          "output_type": "stream",
          "text": [
            "Fitting 3 folds for each of 12 candidates, totalling 36 fits\n",
            "[CV 1/3; 1/12] START criterion=entropy, max_depth=2, splitter=best..............\n",
            "[CV 1/3; 1/12] END criterion=entropy, max_depth=2, splitter=best; total time=   0.4s\n",
            "[CV 2/3; 1/12] START criterion=entropy, max_depth=2, splitter=best..............\n",
            "[CV 2/3; 1/12] END criterion=entropy, max_depth=2, splitter=best; total time=   0.4s\n",
            "[CV 3/3; 1/12] START criterion=entropy, max_depth=2, splitter=best..............\n",
            "[CV 3/3; 1/12] END criterion=entropy, max_depth=2, splitter=best; total time=   0.4s\n",
            "[CV 1/3; 2/12] START criterion=entropy, max_depth=2, splitter=random............\n",
            "[CV 1/3; 2/12] END criterion=entropy, max_depth=2, splitter=random; total time=   0.0s\n",
            "[CV 2/3; 2/12] START criterion=entropy, max_depth=2, splitter=random............\n",
            "[CV 2/3; 2/12] END criterion=entropy, max_depth=2, splitter=random; total time=   0.0s\n",
            "[CV 3/3; 2/12] START criterion=entropy, max_depth=2, splitter=random............\n",
            "[CV 3/3; 2/12] END criterion=entropy, max_depth=2, splitter=random; total time=   0.0s\n",
            "[CV 1/3; 3/12] START criterion=entropy, max_depth=3, splitter=best..............\n",
            "[CV 1/3; 3/12] END criterion=entropy, max_depth=3, splitter=best; total time=   0.7s\n",
            "[CV 2/3; 3/12] START criterion=entropy, max_depth=3, splitter=best..............\n",
            "[CV 2/3; 3/12] END criterion=entropy, max_depth=3, splitter=best; total time=   0.5s\n",
            "[CV 3/3; 3/12] START criterion=entropy, max_depth=3, splitter=best..............\n",
            "[CV 3/3; 3/12] END criterion=entropy, max_depth=3, splitter=best; total time=   0.4s\n",
            "[CV 1/3; 4/12] START criterion=entropy, max_depth=3, splitter=random............\n",
            "[CV 1/3; 4/12] END criterion=entropy, max_depth=3, splitter=random; total time=   0.0s\n",
            "[CV 2/3; 4/12] START criterion=entropy, max_depth=3, splitter=random............\n",
            "[CV 2/3; 4/12] END criterion=entropy, max_depth=3, splitter=random; total time=   0.0s\n",
            "[CV 3/3; 4/12] START criterion=entropy, max_depth=3, splitter=random............\n",
            "[CV 3/3; 4/12] END criterion=entropy, max_depth=3, splitter=random; total time=   0.0s\n",
            "[CV 1/3; 5/12] START criterion=entropy, max_depth=1, splitter=best..............\n",
            "[CV 1/3; 5/12] END criterion=entropy, max_depth=1, splitter=best; total time=   0.2s\n",
            "[CV 2/3; 5/12] START criterion=entropy, max_depth=1, splitter=best..............\n",
            "[CV 2/3; 5/12] END criterion=entropy, max_depth=1, splitter=best; total time=   0.1s\n",
            "[CV 3/3; 5/12] START criterion=entropy, max_depth=1, splitter=best..............\n",
            "[CV 3/3; 5/12] END criterion=entropy, max_depth=1, splitter=best; total time=   0.1s\n",
            "[CV 1/3; 6/12] START criterion=entropy, max_depth=1, splitter=random............\n",
            "[CV 1/3; 6/12] END criterion=entropy, max_depth=1, splitter=random; total time=   0.0s\n",
            "[CV 2/3; 6/12] START criterion=entropy, max_depth=1, splitter=random............\n",
            "[CV 2/3; 6/12] END criterion=entropy, max_depth=1, splitter=random; total time=   0.0s\n",
            "[CV 3/3; 6/12] START criterion=entropy, max_depth=1, splitter=random............\n",
            "[CV 3/3; 6/12] END criterion=entropy, max_depth=1, splitter=random; total time=   0.0s\n",
            "[CV 1/3; 7/12] START criterion=gini, max_depth=2, splitter=best.................\n",
            "[CV 1/3; 7/12] END criterion=gini, max_depth=2, splitter=best; total time=   0.0s\n",
            "[CV 2/3; 7/12] START criterion=gini, max_depth=2, splitter=best.................\n",
            "[CV 2/3; 7/12] END criterion=gini, max_depth=2, splitter=best; total time=   0.0s\n",
            "[CV 3/3; 7/12] START criterion=gini, max_depth=2, splitter=best.................\n",
            "[CV 3/3; 7/12] END criterion=gini, max_depth=2, splitter=best; total time=   0.0s\n",
            "[CV 1/3; 8/12] START criterion=gini, max_depth=2, splitter=random...............\n",
            "[CV 1/3; 8/12] END criterion=gini, max_depth=2, splitter=random; total time=   0.0s\n",
            "[CV 2/3; 8/12] START criterion=gini, max_depth=2, splitter=random...............\n",
            "[CV 2/3; 8/12] END criterion=gini, max_depth=2, splitter=random; total time=   0.0s\n",
            "[CV 3/3; 8/12] START criterion=gini, max_depth=2, splitter=random...............\n",
            "[CV 3/3; 8/12] END criterion=gini, max_depth=2, splitter=random; total time=   0.0s\n",
            "[CV 1/3; 9/12] START criterion=gini, max_depth=3, splitter=best.................\n",
            "[CV 1/3; 9/12] END criterion=gini, max_depth=3, splitter=best; total time=   0.1s\n",
            "[CV 2/3; 9/12] START criterion=gini, max_depth=3, splitter=best.................\n",
            "[CV 2/3; 9/12] END criterion=gini, max_depth=3, splitter=best; total time=   0.1s\n",
            "[CV 3/3; 9/12] START criterion=gini, max_depth=3, splitter=best.................\n",
            "[CV 3/3; 9/12] END criterion=gini, max_depth=3, splitter=best; total time=   0.1s\n",
            "[CV 1/3; 10/12] START criterion=gini, max_depth=3, splitter=random..............\n",
            "[CV 1/3; 10/12] END criterion=gini, max_depth=3, splitter=random; total time=   0.0s\n",
            "[CV 2/3; 10/12] START criterion=gini, max_depth=3, splitter=random..............\n",
            "[CV 2/3; 10/12] END criterion=gini, max_depth=3, splitter=random; total time=   0.0s\n",
            "[CV 3/3; 10/12] START criterion=gini, max_depth=3, splitter=random..............\n",
            "[CV 3/3; 10/12] END criterion=gini, max_depth=3, splitter=random; total time=   0.0s\n",
            "[CV 1/3; 11/12] START criterion=gini, max_depth=1, splitter=best................\n",
            "[CV 1/3; 11/12] END criterion=gini, max_depth=1, splitter=best; total time=   0.0s\n",
            "[CV 2/3; 11/12] START criterion=gini, max_depth=1, splitter=best................\n",
            "[CV 2/3; 11/12] END criterion=gini, max_depth=1, splitter=best; total time=   0.0s\n",
            "[CV 3/3; 11/12] START criterion=gini, max_depth=1, splitter=best................\n",
            "[CV 3/3; 11/12] END criterion=gini, max_depth=1, splitter=best; total time=   0.0s\n",
            "[CV 1/3; 12/12] START criterion=gini, max_depth=1, splitter=random..............\n",
            "[CV 1/3; 12/12] END criterion=gini, max_depth=1, splitter=random; total time=   0.0s\n",
            "[CV 2/3; 12/12] START criterion=gini, max_depth=1, splitter=random..............\n",
            "[CV 2/3; 12/12] END criterion=gini, max_depth=1, splitter=random; total time=   0.0s\n",
            "[CV 3/3; 12/12] START criterion=gini, max_depth=1, splitter=random..............\n",
            "[CV 3/3; 12/12] END criterion=gini, max_depth=1, splitter=random; total time=   0.0s\n"
          ]
        },
        {
          "data": {
            "text/plain": [
              "GridSearchCV(cv=3, estimator=DecisionTreeClassifier(), n_jobs=1,\n",
              "             param_grid={'criterion': ['entropy', 'gini'],\n",
              "                         'max_depth': [2, 3, 1],\n",
              "                         'splitter': ['best', 'random']},\n",
              "             scoring='accuracy', verbose=10)"
            ]
          },
          "execution_count": 57,
          "metadata": {},
          "output_type": "execute_result"
        }
      ],
      "source": [
        "dtModel=DecisionTreeClassifier()\n",
        "param_grid = {'splitter': ['best','random'],'max_depth': [2,3,1],'criterion':['entropy','gini']}\n",
        "model_gridsearch = GridSearchCV(estimator=dtModel,param_grid=param_grid,verbose=10,scoring='accuracy',n_jobs=1,cv=3)\n",
        "model_gridsearch.fit(x_mfcc_train, y_train_2)\n"
      ],
      "id": "ltNx_f6vR-f9"
    },
    {
      "cell_type": "code",
      "execution_count": null,
      "metadata": {
        "id": "MilpcLlpR-f9",
        "outputId": "e8c75584-7a95-4bfa-8ea5-7d17d79f37e3"
      },
      "outputs": [
        {
          "name": "stdout",
          "output_type": "stream",
          "text": [
            "{'criterion': 'gini', 'max_depth': 3, 'splitter': 'best'}\n",
            "DecisionTreeClassifier(max_depth=3)\n",
            "0.3757508342602892\n",
            "{'criterion': 'gini', 'max_depth': 3, 'splitter': 'best'}\n",
            "DecisionTreeClassifier(max_depth=3)\n",
            "0.363\n"
          ]
        }
      ],
      "source": [
        "y_pred_grid = model_gridsearch.predict(x_mfcc_train)\n",
        "accuracy_grid = metrics.accuracy_score(y_train_2, y_pred_grid)\n",
        "print(model_gridsearch.best_params_)\n",
        "print(model_gridsearch.best_estimator_)\n",
        "print(accuracy_grid)\n",
        "\n",
        "y_pred_grid = model_gridsearch.predict(x_mfcc_test)\n",
        "accuracy_grid = metrics.accuracy_score(y_test_2, y_pred_grid)\n",
        "print(model_gridsearch.best_params_)\n",
        "print(model_gridsearch.best_estimator_)\n",
        "print(accuracy_grid)"
      ],
      "id": "MilpcLlpR-f9"
    },
    {
      "cell_type": "code",
      "execution_count": null,
      "metadata": {
        "id": "Hac2MIN4R-f9"
      },
      "outputs": [],
      "source": [
        ""
      ],
      "id": "Hac2MIN4R-f9"
    },
    {
      "cell_type": "code",
      "execution_count": null,
      "metadata": {
        "id": "v_v8RPAKR-f9"
      },
      "outputs": [],
      "source": [
        ""
      ],
      "id": "v_v8RPAKR-f9"
    },
    {
      "cell_type": "code",
      "execution_count": null,
      "metadata": {
        "id": "tASMf64eR-f9"
      },
      "outputs": [],
      "source": [
        ""
      ],
      "id": "tASMf64eR-f9"
    },
    {
      "cell_type": "code",
      "execution_count": null,
      "metadata": {
        "id": "Ojoxq2LYR-f9",
        "outputId": "ded07046-7ced-40d6-e158-1afa2ca0682a"
      },
      "outputs": [
        {
          "name": "stdout",
          "output_type": "stream",
          "text": [
            "Fitting 3 folds for each of 12 candidates, totalling 36 fits\n",
            "[CV 1/3; 1/12] START criterion=entropy, max_depth=2, splitter=best..............\n",
            "[CV 1/3; 1/12] END criterion=entropy, max_depth=2, splitter=best; total time=   0.4s\n",
            "[CV 2/3; 1/12] START criterion=entropy, max_depth=2, splitter=best..............\n",
            "[CV 2/3; 1/12] END criterion=entropy, max_depth=2, splitter=best; total time=   0.4s\n",
            "[CV 3/3; 1/12] START criterion=entropy, max_depth=2, splitter=best..............\n",
            "[CV 3/3; 1/12] END criterion=entropy, max_depth=2, splitter=best; total time=   0.4s\n",
            "[CV 1/3; 2/12] START criterion=entropy, max_depth=2, splitter=random............\n",
            "[CV 1/3; 2/12] END criterion=entropy, max_depth=2, splitter=random; total time=   0.0s\n",
            "[CV 2/3; 2/12] START criterion=entropy, max_depth=2, splitter=random............\n",
            "[CV 2/3; 2/12] END criterion=entropy, max_depth=2, splitter=random; total time=   0.0s\n",
            "[CV 3/3; 2/12] START criterion=entropy, max_depth=2, splitter=random............\n",
            "[CV 3/3; 2/12] END criterion=entropy, max_depth=2, splitter=random; total time=   0.0s\n",
            "[CV 1/3; 3/12] START criterion=entropy, max_depth=3, splitter=best..............\n",
            "[CV 1/3; 3/12] END criterion=entropy, max_depth=3, splitter=best; total time=   0.5s\n",
            "[CV 2/3; 3/12] START criterion=entropy, max_depth=3, splitter=best..............\n",
            "[CV 2/3; 3/12] END criterion=entropy, max_depth=3, splitter=best; total time=   0.5s\n",
            "[CV 3/3; 3/12] START criterion=entropy, max_depth=3, splitter=best..............\n",
            "[CV 3/3; 3/12] END criterion=entropy, max_depth=3, splitter=best; total time=   0.4s\n",
            "[CV 1/3; 4/12] START criterion=entropy, max_depth=3, splitter=random............\n",
            "[CV 1/3; 4/12] END criterion=entropy, max_depth=3, splitter=random; total time=   0.0s\n",
            "[CV 2/3; 4/12] START criterion=entropy, max_depth=3, splitter=random............\n",
            "[CV 2/3; 4/12] END criterion=entropy, max_depth=3, splitter=random; total time=   0.0s\n",
            "[CV 3/3; 4/12] START criterion=entropy, max_depth=3, splitter=random............\n",
            "[CV 3/3; 4/12] END criterion=entropy, max_depth=3, splitter=random; total time=   0.0s\n",
            "[CV 1/3; 5/12] START criterion=entropy, max_depth=1, splitter=best..............\n",
            "[CV 1/3; 5/12] END criterion=entropy, max_depth=1, splitter=best; total time=   0.2s\n",
            "[CV 2/3; 5/12] START criterion=entropy, max_depth=1, splitter=best..............\n",
            "[CV 2/3; 5/12] END criterion=entropy, max_depth=1, splitter=best; total time=   0.2s\n",
            "[CV 3/3; 5/12] START criterion=entropy, max_depth=1, splitter=best..............\n",
            "[CV 3/3; 5/12] END criterion=entropy, max_depth=1, splitter=best; total time=   0.2s\n",
            "[CV 1/3; 6/12] START criterion=entropy, max_depth=1, splitter=random............\n",
            "[CV 1/3; 6/12] END criterion=entropy, max_depth=1, splitter=random; total time=   0.0s\n",
            "[CV 2/3; 6/12] START criterion=entropy, max_depth=1, splitter=random............\n",
            "[CV 2/3; 6/12] END criterion=entropy, max_depth=1, splitter=random; total time=   0.0s\n",
            "[CV 3/3; 6/12] START criterion=entropy, max_depth=1, splitter=random............\n",
            "[CV 3/3; 6/12] END criterion=entropy, max_depth=1, splitter=random; total time=   0.0s\n",
            "[CV 1/3; 7/12] START criterion=gini, max_depth=2, splitter=best.................\n",
            "[CV 1/3; 7/12] END criterion=gini, max_depth=2, splitter=best; total time=   0.1s\n",
            "[CV 2/3; 7/12] START criterion=gini, max_depth=2, splitter=best.................\n",
            "[CV 2/3; 7/12] END criterion=gini, max_depth=2, splitter=best; total time=   0.1s\n",
            "[CV 3/3; 7/12] START criterion=gini, max_depth=2, splitter=best.................\n",
            "[CV 3/3; 7/12] END criterion=gini, max_depth=2, splitter=best; total time=   0.0s\n",
            "[CV 1/3; 8/12] START criterion=gini, max_depth=2, splitter=random...............\n",
            "[CV 1/3; 8/12] END criterion=gini, max_depth=2, splitter=random; total time=   0.0s\n",
            "[CV 2/3; 8/12] START criterion=gini, max_depth=2, splitter=random...............\n",
            "[CV 2/3; 8/12] END criterion=gini, max_depth=2, splitter=random; total time=   0.0s\n",
            "[CV 3/3; 8/12] START criterion=gini, max_depth=2, splitter=random...............\n",
            "[CV 3/3; 8/12] END criterion=gini, max_depth=2, splitter=random; total time=   0.0s\n",
            "[CV 1/3; 9/12] START criterion=gini, max_depth=3, splitter=best.................\n",
            "[CV 1/3; 9/12] END criterion=gini, max_depth=3, splitter=best; total time=   0.0s\n",
            "[CV 2/3; 9/12] START criterion=gini, max_depth=3, splitter=best.................\n",
            "[CV 2/3; 9/12] END criterion=gini, max_depth=3, splitter=best; total time=   0.0s\n",
            "[CV 3/3; 9/12] START criterion=gini, max_depth=3, splitter=best.................\n",
            "[CV 3/3; 9/12] END criterion=gini, max_depth=3, splitter=best; total time=   0.0s\n",
            "[CV 1/3; 10/12] START criterion=gini, max_depth=3, splitter=random..............\n",
            "[CV 1/3; 10/12] END criterion=gini, max_depth=3, splitter=random; total time=   0.0s\n",
            "[CV 2/3; 10/12] START criterion=gini, max_depth=3, splitter=random..............\n",
            "[CV 2/3; 10/12] END criterion=gini, max_depth=3, splitter=random; total time=   0.0s\n",
            "[CV 3/3; 10/12] START criterion=gini, max_depth=3, splitter=random..............\n",
            "[CV 3/3; 10/12] END criterion=gini, max_depth=3, splitter=random; total time=   0.0s\n",
            "[CV 1/3; 11/12] START criterion=gini, max_depth=1, splitter=best................\n",
            "[CV 1/3; 11/12] END criterion=gini, max_depth=1, splitter=best; total time=   0.0s\n",
            "[CV 2/3; 11/12] START criterion=gini, max_depth=1, splitter=best................\n",
            "[CV 2/3; 11/12] END criterion=gini, max_depth=1, splitter=best; total time=   0.0s\n",
            "[CV 3/3; 11/12] START criterion=gini, max_depth=1, splitter=best................\n",
            "[CV 3/3; 11/12] END criterion=gini, max_depth=1, splitter=best; total time=   0.0s\n",
            "[CV 1/3; 12/12] START criterion=gini, max_depth=1, splitter=random..............\n",
            "[CV 1/3; 12/12] END criterion=gini, max_depth=1, splitter=random; total time=   0.0s\n",
            "[CV 2/3; 12/12] START criterion=gini, max_depth=1, splitter=random..............\n",
            "[CV 2/3; 12/12] END criterion=gini, max_depth=1, splitter=random; total time=   0.0s\n",
            "[CV 3/3; 12/12] START criterion=gini, max_depth=1, splitter=random..............\n",
            "[CV 3/3; 12/12] END criterion=gini, max_depth=1, splitter=random; total time=   0.0s\n"
          ]
        },
        {
          "data": {
            "text/plain": [
              "GridSearchCV(cv=3, estimator=DecisionTreeClassifier(), n_jobs=1,\n",
              "             param_grid={'criterion': ['entropy', 'gini'],\n",
              "                         'max_depth': [2, 3, 1],\n",
              "                         'splitter': ['best', 'random']},\n",
              "             scoring='accuracy', verbose=10)"
            ]
          },
          "execution_count": 59,
          "metadata": {},
          "output_type": "execute_result"
        }
      ],
      "source": [
        "dtModel=DecisionTreeClassifier()\n",
        "param_grid = {'splitter': ['best','random'],'max_depth': [2,3,1],'criterion':['entropy','gini']}\n",
        "model_gridsearch = GridSearchCV(estimator=dtModel,param_grid=param_grid,verbose=10,scoring='accuracy',n_jobs=1,cv=3)\n",
        "model_gridsearch.fit(xn_zero_train, y_train_3)\n"
      ],
      "id": "Ojoxq2LYR-f9"
    },
    {
      "cell_type": "code",
      "execution_count": null,
      "metadata": {
        "id": "j0swPps_R-f9",
        "outputId": "efa09d13-03d9-4973-f95a-41536d6a95f2"
      },
      "outputs": [
        {
          "name": "stdout",
          "output_type": "stream",
          "text": [
            "{'criterion': 'entropy', 'max_depth': 3, 'splitter': 'best'}\n",
            "DecisionTreeClassifier(criterion='entropy', max_depth=3)\n",
            "0.8013348164627364\n",
            "{'criterion': 'entropy', 'max_depth': 3, 'splitter': 'best'}\n",
            "DecisionTreeClassifier(criterion='entropy', max_depth=3)\n",
            "0.788\n"
          ]
        }
      ],
      "source": [
        "y_pred_grid = model_gridsearch.predict(xn_zero_train)\n",
        "accuracy_grid = metrics.accuracy_score(y_train_3, y_pred_grid)\n",
        "print(model_gridsearch.best_params_)\n",
        "print(model_gridsearch.best_estimator_)\n",
        "print(accuracy_grid)\n",
        "\n",
        "y_pred_grid = model_gridsearch.predict(xn_zero_test)\n",
        "accuracy_grid = metrics.accuracy_score(y_test_3, y_pred_grid)\n",
        "print(model_gridsearch.best_params_)\n",
        "print(model_gridsearch.best_estimator_)\n",
        "print(accuracy_grid)"
      ],
      "id": "j0swPps_R-f9"
    },
    {
      "cell_type": "code",
      "execution_count": null,
      "metadata": {
        "id": "40d1V6zJR-f-"
      },
      "outputs": [],
      "source": [
        ""
      ],
      "id": "40d1V6zJR-f-"
    },
    {
      "cell_type": "code",
      "execution_count": null,
      "metadata": {
        "scrolled": false,
        "id": "uQ9GlSxBR-f-",
        "outputId": "fa6e37d1-3c4d-4b64-87e7-121e980b46a3"
      },
      "outputs": [
        {
          "name": "stdout",
          "output_type": "stream",
          "text": [
            "Fitting 3 folds for each of 12 candidates, totalling 36 fits\n",
            "[CV 1/3; 1/12] START criterion=entropy, max_depth=2, splitter=best..............\n",
            "[CV 1/3; 1/12] END criterion=entropy, max_depth=2, splitter=best; total time=   0.4s\n",
            "[CV 2/3; 1/12] START criterion=entropy, max_depth=2, splitter=best..............\n",
            "[CV 2/3; 1/12] END criterion=entropy, max_depth=2, splitter=best; total time=   0.4s\n",
            "[CV 3/3; 1/12] START criterion=entropy, max_depth=2, splitter=best..............\n",
            "[CV 3/3; 1/12] END criterion=entropy, max_depth=2, splitter=best; total time=   0.4s\n",
            "[CV 1/3; 2/12] START criterion=entropy, max_depth=2, splitter=random............\n",
            "[CV 1/3; 2/12] END criterion=entropy, max_depth=2, splitter=random; total time=   0.0s\n",
            "[CV 2/3; 2/12] START criterion=entropy, max_depth=2, splitter=random............\n",
            "[CV 2/3; 2/12] END criterion=entropy, max_depth=2, splitter=random; total time=   0.0s\n",
            "[CV 3/3; 2/12] START criterion=entropy, max_depth=2, splitter=random............\n",
            "[CV 3/3; 2/12] END criterion=entropy, max_depth=2, splitter=random; total time=   0.0s\n",
            "[CV 1/3; 3/12] START criterion=entropy, max_depth=3, splitter=best..............\n",
            "[CV 1/3; 3/12] END criterion=entropy, max_depth=3, splitter=best; total time=   0.5s\n",
            "[CV 2/3; 3/12] START criterion=entropy, max_depth=3, splitter=best..............\n",
            "[CV 2/3; 3/12] END criterion=entropy, max_depth=3, splitter=best; total time=   0.5s\n",
            "[CV 3/3; 3/12] START criterion=entropy, max_depth=3, splitter=best..............\n",
            "[CV 3/3; 3/12] END criterion=entropy, max_depth=3, splitter=best; total time=   0.5s\n",
            "[CV 1/3; 4/12] START criterion=entropy, max_depth=3, splitter=random............\n",
            "[CV 1/3; 4/12] END criterion=entropy, max_depth=3, splitter=random; total time=   0.0s\n",
            "[CV 2/3; 4/12] START criterion=entropy, max_depth=3, splitter=random............\n",
            "[CV 2/3; 4/12] END criterion=entropy, max_depth=3, splitter=random; total time=   0.0s\n",
            "[CV 3/3; 4/12] START criterion=entropy, max_depth=3, splitter=random............\n",
            "[CV 3/3; 4/12] END criterion=entropy, max_depth=3, splitter=random; total time=   0.0s\n",
            "[CV 1/3; 5/12] START criterion=entropy, max_depth=1, splitter=best..............\n",
            "[CV 1/3; 5/12] END criterion=entropy, max_depth=1, splitter=best; total time=   0.2s\n",
            "[CV 2/3; 5/12] START criterion=entropy, max_depth=1, splitter=best..............\n",
            "[CV 2/3; 5/12] END criterion=entropy, max_depth=1, splitter=best; total time=   0.2s\n",
            "[CV 3/3; 5/12] START criterion=entropy, max_depth=1, splitter=best..............\n",
            "[CV 3/3; 5/12] END criterion=entropy, max_depth=1, splitter=best; total time=   0.2s\n",
            "[CV 1/3; 6/12] START criterion=entropy, max_depth=1, splitter=random............\n",
            "[CV 1/3; 6/12] END criterion=entropy, max_depth=1, splitter=random; total time=   0.0s\n",
            "[CV 2/3; 6/12] START criterion=entropy, max_depth=1, splitter=random............\n",
            "[CV 2/3; 6/12] END criterion=entropy, max_depth=1, splitter=random; total time=   0.0s\n",
            "[CV 3/3; 6/12] START criterion=entropy, max_depth=1, splitter=random............\n",
            "[CV 3/3; 6/12] END criterion=entropy, max_depth=1, splitter=random; total time=   0.0s\n",
            "[CV 1/3; 7/12] START criterion=gini, max_depth=2, splitter=best.................\n",
            "[CV 1/3; 7/12] END criterion=gini, max_depth=2, splitter=best; total time=   0.1s\n",
            "[CV 2/3; 7/12] START criterion=gini, max_depth=2, splitter=best.................\n",
            "[CV 2/3; 7/12] END criterion=gini, max_depth=2, splitter=best; total time=   0.1s\n",
            "[CV 3/3; 7/12] START criterion=gini, max_depth=2, splitter=best.................\n",
            "[CV 3/3; 7/12] END criterion=gini, max_depth=2, splitter=best; total time=   0.1s\n",
            "[CV 1/3; 8/12] START criterion=gini, max_depth=2, splitter=random...............\n",
            "[CV 1/3; 8/12] END criterion=gini, max_depth=2, splitter=random; total time=   0.0s\n",
            "[CV 2/3; 8/12] START criterion=gini, max_depth=2, splitter=random...............\n",
            "[CV 2/3; 8/12] END criterion=gini, max_depth=2, splitter=random; total time=   0.0s\n",
            "[CV 3/3; 8/12] START criterion=gini, max_depth=2, splitter=random...............\n",
            "[CV 3/3; 8/12] END criterion=gini, max_depth=2, splitter=random; total time=   0.0s\n",
            "[CV 1/3; 9/12] START criterion=gini, max_depth=3, splitter=best.................\n",
            "[CV 1/3; 9/12] END criterion=gini, max_depth=3, splitter=best; total time=   0.2s\n",
            "[CV 2/3; 9/12] START criterion=gini, max_depth=3, splitter=best.................\n",
            "[CV 2/3; 9/12] END criterion=gini, max_depth=3, splitter=best; total time=   0.2s\n",
            "[CV 3/3; 9/12] START criterion=gini, max_depth=3, splitter=best.................\n",
            "[CV 3/3; 9/12] END criterion=gini, max_depth=3, splitter=best; total time=   0.2s\n",
            "[CV 1/3; 10/12] START criterion=gini, max_depth=3, splitter=random..............\n",
            "[CV 1/3; 10/12] END criterion=gini, max_depth=3, splitter=random; total time=   0.0s\n",
            "[CV 2/3; 10/12] START criterion=gini, max_depth=3, splitter=random..............\n",
            "[CV 2/3; 10/12] END criterion=gini, max_depth=3, splitter=random; total time=   0.0s\n",
            "[CV 3/3; 10/12] START criterion=gini, max_depth=3, splitter=random..............\n",
            "[CV 3/3; 10/12] END criterion=gini, max_depth=3, splitter=random; total time=   0.0s\n",
            "[CV 1/3; 11/12] START criterion=gini, max_depth=1, splitter=best................\n",
            "[CV 1/3; 11/12] END criterion=gini, max_depth=1, splitter=best; total time=   0.0s\n",
            "[CV 2/3; 11/12] START criterion=gini, max_depth=1, splitter=best................\n",
            "[CV 2/3; 11/12] END criterion=gini, max_depth=1, splitter=best; total time=   0.0s\n",
            "[CV 3/3; 11/12] START criterion=gini, max_depth=1, splitter=best................\n",
            "[CV 3/3; 11/12] END criterion=gini, max_depth=1, splitter=best; total time=   0.0s\n",
            "[CV 1/3; 12/12] START criterion=gini, max_depth=1, splitter=random..............\n",
            "[CV 1/3; 12/12] END criterion=gini, max_depth=1, splitter=random; total time=   0.0s\n",
            "[CV 2/3; 12/12] START criterion=gini, max_depth=1, splitter=random..............\n",
            "[CV 2/3; 12/12] END criterion=gini, max_depth=1, splitter=random; total time=   0.0s\n",
            "[CV 3/3; 12/12] START criterion=gini, max_depth=1, splitter=random..............\n",
            "[CV 3/3; 12/12] END criterion=gini, max_depth=1, splitter=random; total time=   0.0s\n"
          ]
        },
        {
          "data": {
            "text/plain": [
              "GridSearchCV(cv=3, estimator=DecisionTreeClassifier(), n_jobs=1,\n",
              "             param_grid={'criterion': ['entropy', 'gini'],\n",
              "                         'max_depth': [2, 3, 1],\n",
              "                         'splitter': ['best', 'random']},\n",
              "             scoring='accuracy', verbose=10)"
            ]
          },
          "execution_count": 61,
          "metadata": {},
          "output_type": "execute_result"
        }
      ],
      "source": [
        "dtModel=DecisionTreeClassifier()\n",
        "param_grid = {'splitter': ['best','random'],'max_depth': [2,3,1],'criterion':['entropy','gini']}\n",
        "model_gridsearch = GridSearchCV(estimator=dtModel,param_grid=param_grid,verbose=10,scoring='accuracy',n_jobs=1,cv=3)\n",
        "model_gridsearch.fit(xn_spec_cen_train, y_train_3)\n"
      ],
      "id": "uQ9GlSxBR-f-"
    },
    {
      "cell_type": "code",
      "execution_count": null,
      "metadata": {
        "id": "L27sIHy3R-f-",
        "outputId": "6844d553-bc60-4254-9ffe-ae65c13700d5"
      },
      "outputs": [
        {
          "name": "stdout",
          "output_type": "stream",
          "text": [
            "{'criterion': 'entropy', 'max_depth': 3, 'splitter': 'best'}\n",
            "DecisionTreeClassifier(criterion='entropy', max_depth=3)\n",
            "0.8013348164627364\n",
            "{'criterion': 'entropy', 'max_depth': 3, 'splitter': 'best'}\n",
            "DecisionTreeClassifier(criterion='entropy', max_depth=3)\n",
            "0.788\n"
          ]
        }
      ],
      "source": [
        "y_pred_grid = model_gridsearch.predict(xn_spec_cen_train)\n",
        "accuracy_grid = metrics.accuracy_score(y_train_3, y_pred_grid)\n",
        "print(model_gridsearch.best_params_)\n",
        "print(model_gridsearch.best_estimator_)\n",
        "print(accuracy_grid)\n",
        "\n",
        "y_pred_grid = model_gridsearch.predict(xn_spec_cen_test)\n",
        "accuracy_grid = metrics.accuracy_score(y_test_3, y_pred_grid)\n",
        "print(model_gridsearch.best_params_)\n",
        "print(model_gridsearch.best_estimator_)\n",
        "print(accuracy_grid)"
      ],
      "id": "L27sIHy3R-f-"
    },
    {
      "cell_type": "code",
      "execution_count": null,
      "metadata": {
        "id": "fr7N1KBlR-f-",
        "outputId": "62a99718-bf98-4083-d1b3-d870852aacd3"
      },
      "outputs": [
        {
          "name": "stdout",
          "output_type": "stream",
          "text": [
            "Fitting 3 folds for each of 12 candidates, totalling 36 fits\n",
            "[CV 1/3; 1/12] START criterion=entropy, max_depth=2, splitter=best..............\n",
            "[CV 1/3; 1/12] END criterion=entropy, max_depth=2, splitter=best; total time=   0.4s\n",
            "[CV 2/3; 1/12] START criterion=entropy, max_depth=2, splitter=best..............\n",
            "[CV 2/3; 1/12] END criterion=entropy, max_depth=2, splitter=best; total time=   0.4s\n",
            "[CV 3/3; 1/12] START criterion=entropy, max_depth=2, splitter=best..............\n",
            "[CV 3/3; 1/12] END criterion=entropy, max_depth=2, splitter=best; total time=   0.4s\n",
            "[CV 1/3; 2/12] START criterion=entropy, max_depth=2, splitter=random............\n",
            "[CV 1/3; 2/12] END criterion=entropy, max_depth=2, splitter=random; total time=   0.0s\n",
            "[CV 2/3; 2/12] START criterion=entropy, max_depth=2, splitter=random............\n",
            "[CV 2/3; 2/12] END criterion=entropy, max_depth=2, splitter=random; total time=   0.0s\n",
            "[CV 3/3; 2/12] START criterion=entropy, max_depth=2, splitter=random............\n",
            "[CV 3/3; 2/12] END criterion=entropy, max_depth=2, splitter=random; total time=   0.0s\n",
            "[CV 1/3; 3/12] START criterion=entropy, max_depth=3, splitter=best..............\n",
            "[CV 1/3; 3/12] END criterion=entropy, max_depth=3, splitter=best; total time=   0.6s\n",
            "[CV 2/3; 3/12] START criterion=entropy, max_depth=3, splitter=best..............\n",
            "[CV 2/3; 3/12] END criterion=entropy, max_depth=3, splitter=best; total time=   0.5s\n",
            "[CV 3/3; 3/12] START criterion=entropy, max_depth=3, splitter=best..............\n",
            "[CV 3/3; 3/12] END criterion=entropy, max_depth=3, splitter=best; total time=   0.5s\n",
            "[CV 1/3; 4/12] START criterion=entropy, max_depth=3, splitter=random............\n",
            "[CV 1/3; 4/12] END criterion=entropy, max_depth=3, splitter=random; total time=   0.0s\n",
            "[CV 2/3; 4/12] START criterion=entropy, max_depth=3, splitter=random............\n",
            "[CV 2/3; 4/12] END criterion=entropy, max_depth=3, splitter=random; total time=   0.0s\n",
            "[CV 3/3; 4/12] START criterion=entropy, max_depth=3, splitter=random............\n",
            "[CV 3/3; 4/12] END criterion=entropy, max_depth=3, splitter=random; total time=   0.0s\n",
            "[CV 1/3; 5/12] START criterion=entropy, max_depth=1, splitter=best..............\n",
            "[CV 1/3; 5/12] END criterion=entropy, max_depth=1, splitter=best; total time=   0.2s\n",
            "[CV 2/3; 5/12] START criterion=entropy, max_depth=1, splitter=best..............\n",
            "[CV 2/3; 5/12] END criterion=entropy, max_depth=1, splitter=best; total time=   0.2s\n",
            "[CV 3/3; 5/12] START criterion=entropy, max_depth=1, splitter=best..............\n",
            "[CV 3/3; 5/12] END criterion=entropy, max_depth=1, splitter=best; total time=   0.2s\n",
            "[CV 1/3; 6/12] START criterion=entropy, max_depth=1, splitter=random............\n",
            "[CV 1/3; 6/12] END criterion=entropy, max_depth=1, splitter=random; total time=   0.0s\n",
            "[CV 2/3; 6/12] START criterion=entropy, max_depth=1, splitter=random............\n",
            "[CV 2/3; 6/12] END criterion=entropy, max_depth=1, splitter=random; total time=   0.0s\n",
            "[CV 3/3; 6/12] START criterion=entropy, max_depth=1, splitter=random............\n",
            "[CV 3/3; 6/12] END criterion=entropy, max_depth=1, splitter=random; total time=   0.0s\n",
            "[CV 1/3; 7/12] START criterion=gini, max_depth=2, splitter=best.................\n",
            "[CV 1/3; 7/12] END criterion=gini, max_depth=2, splitter=best; total time=   0.1s\n",
            "[CV 2/3; 7/12] START criterion=gini, max_depth=2, splitter=best.................\n",
            "[CV 2/3; 7/12] END criterion=gini, max_depth=2, splitter=best; total time=   0.1s\n",
            "[CV 3/3; 7/12] START criterion=gini, max_depth=2, splitter=best.................\n",
            "[CV 3/3; 7/12] END criterion=gini, max_depth=2, splitter=best; total time=   0.1s\n",
            "[CV 1/3; 8/12] START criterion=gini, max_depth=2, splitter=random...............\n",
            "[CV 1/3; 8/12] END criterion=gini, max_depth=2, splitter=random; total time=   0.0s\n",
            "[CV 2/3; 8/12] START criterion=gini, max_depth=2, splitter=random...............\n",
            "[CV 2/3; 8/12] END criterion=gini, max_depth=2, splitter=random; total time=   0.0s\n",
            "[CV 3/3; 8/12] START criterion=gini, max_depth=2, splitter=random...............\n",
            "[CV 3/3; 8/12] END criterion=gini, max_depth=2, splitter=random; total time=   0.0s\n",
            "[CV 1/3; 9/12] START criterion=gini, max_depth=3, splitter=best.................\n",
            "[CV 1/3; 9/12] END criterion=gini, max_depth=3, splitter=best; total time=   0.2s\n",
            "[CV 2/3; 9/12] START criterion=gini, max_depth=3, splitter=best.................\n",
            "[CV 2/3; 9/12] END criterion=gini, max_depth=3, splitter=best; total time=   0.2s\n",
            "[CV 3/3; 9/12] START criterion=gini, max_depth=3, splitter=best.................\n",
            "[CV 3/3; 9/12] END criterion=gini, max_depth=3, splitter=best; total time=   0.1s\n",
            "[CV 1/3; 10/12] START criterion=gini, max_depth=3, splitter=random..............\n",
            "[CV 1/3; 10/12] END criterion=gini, max_depth=3, splitter=random; total time=   0.0s\n",
            "[CV 2/3; 10/12] START criterion=gini, max_depth=3, splitter=random..............\n",
            "[CV 2/3; 10/12] END criterion=gini, max_depth=3, splitter=random; total time=   0.0s\n",
            "[CV 3/3; 10/12] START criterion=gini, max_depth=3, splitter=random..............\n",
            "[CV 3/3; 10/12] END criterion=gini, max_depth=3, splitter=random; total time=   0.0s\n",
            "[CV 1/3; 11/12] START criterion=gini, max_depth=1, splitter=best................\n",
            "[CV 1/3; 11/12] END criterion=gini, max_depth=1, splitter=best; total time=   0.0s\n",
            "[CV 2/3; 11/12] START criterion=gini, max_depth=1, splitter=best................\n",
            "[CV 2/3; 11/12] END criterion=gini, max_depth=1, splitter=best; total time=   0.0s\n",
            "[CV 3/3; 11/12] START criterion=gini, max_depth=1, splitter=best................\n",
            "[CV 3/3; 11/12] END criterion=gini, max_depth=1, splitter=best; total time=   0.0s\n",
            "[CV 1/3; 12/12] START criterion=gini, max_depth=1, splitter=random..............\n",
            "[CV 1/3; 12/12] END criterion=gini, max_depth=1, splitter=random; total time=   0.0s\n",
            "[CV 2/3; 12/12] START criterion=gini, max_depth=1, splitter=random..............\n",
            "[CV 2/3; 12/12] END criterion=gini, max_depth=1, splitter=random; total time=   0.0s\n",
            "[CV 3/3; 12/12] START criterion=gini, max_depth=1, splitter=random..............\n",
            "[CV 3/3; 12/12] END criterion=gini, max_depth=1, splitter=random; total time=   0.0s\n"
          ]
        },
        {
          "data": {
            "text/plain": [
              "GridSearchCV(cv=3, estimator=DecisionTreeClassifier(), n_jobs=1,\n",
              "             param_grid={'criterion': ['entropy', 'gini'],\n",
              "                         'max_depth': [2, 3, 1],\n",
              "                         'splitter': ['best', 'random']},\n",
              "             scoring='accuracy', verbose=10)"
            ]
          },
          "execution_count": 63,
          "metadata": {},
          "output_type": "execute_result"
        }
      ],
      "source": [
        "dtModel=DecisionTreeClassifier()\n",
        "param_grid = {'splitter': ['best','random'],'max_depth': [2,3,1],'criterion':['entropy','gini']}\n",
        "model_gridsearch = GridSearchCV(estimator=dtModel,param_grid=param_grid,verbose=10,scoring='accuracy',n_jobs=1,cv=3)\n",
        "model_gridsearch.fit(xn_spec_ban_train, y_train_3)\n"
      ],
      "id": "fr7N1KBlR-f-"
    },
    {
      "cell_type": "code",
      "execution_count": null,
      "metadata": {
        "id": "yGnNqr2KR-f-",
        "outputId": "f6209b7f-8314-4a69-d586-e2b2c1d30e13"
      },
      "outputs": [
        {
          "name": "stdout",
          "output_type": "stream",
          "text": [
            "{'criterion': 'entropy', 'max_depth': 3, 'splitter': 'best'}\n",
            "DecisionTreeClassifier(criterion='entropy', max_depth=3)\n",
            "0.8013348164627364\n",
            "{'criterion': 'entropy', 'max_depth': 3, 'splitter': 'best'}\n",
            "DecisionTreeClassifier(criterion='entropy', max_depth=3)\n",
            "0.788\n"
          ]
        }
      ],
      "source": [
        "y_pred_grid = model_gridsearch.predict(xn_spec_ban_train)\n",
        "accuracy_grid = metrics.accuracy_score(y_train_3, y_pred_grid)\n",
        "print(model_gridsearch.best_params_)\n",
        "print(model_gridsearch.best_estimator_)\n",
        "print(accuracy_grid)\n",
        "\n",
        "y_pred_grid = model_gridsearch.predict(xn_spec_ban_test)\n",
        "accuracy_grid = metrics.accuracy_score(y_test_3, y_pred_grid)\n",
        "print(model_gridsearch.best_params_)\n",
        "print(model_gridsearch.best_estimator_)\n",
        "print(accuracy_grid)"
      ],
      "id": "yGnNqr2KR-f-"
    },
    {
      "cell_type": "code",
      "execution_count": null,
      "metadata": {
        "id": "PhVLNRKaR-f-"
      },
      "outputs": [],
      "source": [
        ""
      ],
      "id": "PhVLNRKaR-f-"
    },
    {
      "cell_type": "code",
      "execution_count": null,
      "metadata": {
        "id": "dWJmUk-mR-f-",
        "outputId": "8d69d3e6-0bd0-4502-cd70-9018ee9406d8"
      },
      "outputs": [
        {
          "name": "stdout",
          "output_type": "stream",
          "text": [
            "Fitting 3 folds for each of 12 candidates, totalling 36 fits\n",
            "[CV 1/3; 1/12] START criterion=entropy, max_depth=2, splitter=best..............\n",
            "[CV 1/3; 1/12] END criterion=entropy, max_depth=2, splitter=best; total time=   0.1s\n",
            "[CV 2/3; 1/12] START criterion=entropy, max_depth=2, splitter=best..............\n",
            "[CV 2/3; 1/12] END criterion=entropy, max_depth=2, splitter=best; total time=   0.1s\n",
            "[CV 3/3; 1/12] START criterion=entropy, max_depth=2, splitter=best..............\n",
            "[CV 3/3; 1/12] END criterion=entropy, max_depth=2, splitter=best; total time=   0.1s\n",
            "[CV 1/3; 2/12] START criterion=entropy, max_depth=2, splitter=random............\n",
            "[CV 1/3; 2/12] END criterion=entropy, max_depth=2, splitter=random; total time=   0.0s\n",
            "[CV 2/3; 2/12] START criterion=entropy, max_depth=2, splitter=random............\n",
            "[CV 2/3; 2/12] END criterion=entropy, max_depth=2, splitter=random; total time=   0.0s\n",
            "[CV 3/3; 2/12] START criterion=entropy, max_depth=2, splitter=random............\n",
            "[CV 3/3; 2/12] END criterion=entropy, max_depth=2, splitter=random; total time=   0.0s\n",
            "[CV 1/3; 3/12] START criterion=entropy, max_depth=3, splitter=best..............\n",
            "[CV 1/3; 3/12] END criterion=entropy, max_depth=3, splitter=best; total time=   0.1s\n",
            "[CV 2/3; 3/12] START criterion=entropy, max_depth=3, splitter=best..............\n",
            "[CV 2/3; 3/12] END criterion=entropy, max_depth=3, splitter=best; total time=   0.1s\n",
            "[CV 3/3; 3/12] START criterion=entropy, max_depth=3, splitter=best..............\n",
            "[CV 3/3; 3/12] END criterion=entropy, max_depth=3, splitter=best; total time=   0.1s\n",
            "[CV 1/3; 4/12] START criterion=entropy, max_depth=3, splitter=random............\n",
            "[CV 1/3; 4/12] END criterion=entropy, max_depth=3, splitter=random; total time=   0.0s\n",
            "[CV 2/3; 4/12] START criterion=entropy, max_depth=3, splitter=random............\n",
            "[CV 2/3; 4/12] END criterion=entropy, max_depth=3, splitter=random; total time=   0.0s\n",
            "[CV 3/3; 4/12] START criterion=entropy, max_depth=3, splitter=random............\n",
            "[CV 3/3; 4/12] END criterion=entropy, max_depth=3, splitter=random; total time=   0.0s\n",
            "[CV 1/3; 5/12] START criterion=entropy, max_depth=1, splitter=best..............\n",
            "[CV 1/3; 5/12] END criterion=entropy, max_depth=1, splitter=best; total time=   0.0s\n",
            "[CV 2/3; 5/12] START criterion=entropy, max_depth=1, splitter=best..............\n",
            "[CV 2/3; 5/12] END criterion=entropy, max_depth=1, splitter=best; total time=   0.0s\n",
            "[CV 3/3; 5/12] START criterion=entropy, max_depth=1, splitter=best..............\n",
            "[CV 3/3; 5/12] END criterion=entropy, max_depth=1, splitter=best; total time=   0.0s\n",
            "[CV 1/3; 6/12] START criterion=entropy, max_depth=1, splitter=random............\n",
            "[CV 1/3; 6/12] END criterion=entropy, max_depth=1, splitter=random; total time=   0.0s\n",
            "[CV 2/3; 6/12] START criterion=entropy, max_depth=1, splitter=random............\n",
            "[CV 2/3; 6/12] END criterion=entropy, max_depth=1, splitter=random; total time=   0.0s\n",
            "[CV 3/3; 6/12] START criterion=entropy, max_depth=1, splitter=random............\n",
            "[CV 3/3; 6/12] END criterion=entropy, max_depth=1, splitter=random; total time=   0.0s\n",
            "[CV 1/3; 7/12] START criterion=gini, max_depth=2, splitter=best.................\n",
            "[CV 1/3; 7/12] END criterion=gini, max_depth=2, splitter=best; total time=   0.0s\n",
            "[CV 2/3; 7/12] START criterion=gini, max_depth=2, splitter=best.................\n",
            "[CV 2/3; 7/12] END criterion=gini, max_depth=2, splitter=best; total time=   0.0s\n",
            "[CV 3/3; 7/12] START criterion=gini, max_depth=2, splitter=best.................\n",
            "[CV 3/3; 7/12] END criterion=gini, max_depth=2, splitter=best; total time=   0.0s\n",
            "[CV 1/3; 8/12] START criterion=gini, max_depth=2, splitter=random...............\n",
            "[CV 1/3; 8/12] END criterion=gini, max_depth=2, splitter=random; total time=   0.0s\n",
            "[CV 2/3; 8/12] START criterion=gini, max_depth=2, splitter=random...............\n",
            "[CV 2/3; 8/12] END criterion=gini, max_depth=2, splitter=random; total time=   0.0s\n",
            "[CV 3/3; 8/12] START criterion=gini, max_depth=2, splitter=random...............\n",
            "[CV 3/3; 8/12] END criterion=gini, max_depth=2, splitter=random; total time=   0.0s\n",
            "[CV 1/3; 9/12] START criterion=gini, max_depth=3, splitter=best.................\n",
            "[CV 1/3; 9/12] END criterion=gini, max_depth=3, splitter=best; total time=   0.0s\n",
            "[CV 2/3; 9/12] START criterion=gini, max_depth=3, splitter=best.................\n",
            "[CV 2/3; 9/12] END criterion=gini, max_depth=3, splitter=best; total time=   0.0s\n",
            "[CV 3/3; 9/12] START criterion=gini, max_depth=3, splitter=best.................\n",
            "[CV 3/3; 9/12] END criterion=gini, max_depth=3, splitter=best; total time=   0.0s\n",
            "[CV 1/3; 10/12] START criterion=gini, max_depth=3, splitter=random..............\n",
            "[CV 1/3; 10/12] END criterion=gini, max_depth=3, splitter=random; total time=   0.0s\n",
            "[CV 2/3; 10/12] START criterion=gini, max_depth=3, splitter=random..............\n",
            "[CV 2/3; 10/12] END criterion=gini, max_depth=3, splitter=random; total time=   0.0s\n",
            "[CV 3/3; 10/12] START criterion=gini, max_depth=3, splitter=random..............\n",
            "[CV 3/3; 10/12] END criterion=gini, max_depth=3, splitter=random; total time=   0.0s\n",
            "[CV 1/3; 11/12] START criterion=gini, max_depth=1, splitter=best................\n",
            "[CV 1/3; 11/12] END criterion=gini, max_depth=1, splitter=best; total time=   0.0s\n",
            "[CV 2/3; 11/12] START criterion=gini, max_depth=1, splitter=best................\n",
            "[CV 2/3; 11/12] END criterion=gini, max_depth=1, splitter=best; total time=   0.0s\n",
            "[CV 3/3; 11/12] START criterion=gini, max_depth=1, splitter=best................\n",
            "[CV 3/3; 11/12] END criterion=gini, max_depth=1, splitter=best; total time=   0.0s\n",
            "[CV 1/3; 12/12] START criterion=gini, max_depth=1, splitter=random..............\n",
            "[CV 1/3; 12/12] END criterion=gini, max_depth=1, splitter=random; total time=   0.0s\n",
            "[CV 2/3; 12/12] START criterion=gini, max_depth=1, splitter=random..............\n",
            "[CV 2/3; 12/12] END criterion=gini, max_depth=1, splitter=random; total time=   0.0s\n",
            "[CV 3/3; 12/12] START criterion=gini, max_depth=1, splitter=random..............\n",
            "[CV 3/3; 12/12] END criterion=gini, max_depth=1, splitter=random; total time=   0.0s\n"
          ]
        },
        {
          "data": {
            "text/plain": [
              "GridSearchCV(cv=3, estimator=DecisionTreeClassifier(), n_jobs=1,\n",
              "             param_grid={'criterion': ['entropy', 'gini'],\n",
              "                         'max_depth': [2, 3, 1],\n",
              "                         'splitter': ['best', 'random']},\n",
              "             scoring='accuracy', verbose=10)"
            ]
          },
          "execution_count": 65,
          "metadata": {},
          "output_type": "execute_result"
        }
      ],
      "source": [
        "dtModel=DecisionTreeClassifier()\n",
        "param_grid = {'splitter': ['best','random'],'max_depth': [2,3,1],'criterion':['entropy','gini']}\n",
        "model_gridsearch = GridSearchCV(estimator=dtModel,param_grid=param_grid,verbose=10,scoring='accuracy',n_jobs=1,cv=3)\n",
        "model_gridsearch.fit(xn_mfcc_train, y_train_3)\n"
      ],
      "id": "dWJmUk-mR-f-"
    },
    {
      "cell_type": "code",
      "execution_count": null,
      "metadata": {
        "id": "YhhQrJkJR-f_",
        "outputId": "07e53251-39fe-4711-d730-69a947378f47"
      },
      "outputs": [
        {
          "name": "stdout",
          "output_type": "stream",
          "text": [
            "{'criterion': 'entropy', 'max_depth': 3, 'splitter': 'best'}\n",
            "DecisionTreeClassifier(criterion='entropy', max_depth=3)\n",
            "0.8013348164627364\n",
            "{'criterion': 'entropy', 'max_depth': 3, 'splitter': 'best'}\n",
            "DecisionTreeClassifier(criterion='entropy', max_depth=3)\n",
            "0.788\n"
          ]
        }
      ],
      "source": [
        "y_pred_grid = model_gridsearch.predict(xn_mfcc_train)\n",
        "accuracy_grid = metrics.accuracy_score(y_train_3, y_pred_grid)\n",
        "print(model_gridsearch.best_params_)\n",
        "print(model_gridsearch.best_estimator_)\n",
        "print(accuracy_grid)\n",
        "\n",
        "y_pred_grid = model_gridsearch.predict(xn_mfcc_test)\n",
        "accuracy_grid = metrics.accuracy_score(y_test_3, y_pred_grid)\n",
        "print(model_gridsearch.best_params_)\n",
        "print(model_gridsearch.best_estimator_)\n",
        "print(accuracy_grid)"
      ],
      "id": "YhhQrJkJR-f_"
    },
    {
      "cell_type": "code",
      "execution_count": null,
      "id": "0c3ed840",
      "metadata": {
        "id": "0c3ed840"
      },
      "outputs": [],
      "source": [
        ""
      ]
    },
    {
      "cell_type": "code",
      "execution_count": null,
      "id": "0bedff67",
      "metadata": {
        "id": "0bedff67"
      },
      "outputs": [],
      "source": [
        ""
      ]
    },
    {
      "cell_type": "code",
      "execution_count": null,
      "id": "7a7c7bef",
      "metadata": {
        "id": "7a7c7bef"
      },
      "outputs": [],
      "source": [
        ""
      ]
    },
    {
      "cell_type": "code",
      "execution_count": null,
      "id": "34499722",
      "metadata": {
        "id": "34499722"
      },
      "outputs": [],
      "source": [
        "\n"
      ]
    },
    {
      "cell_type": "code",
      "execution_count": null,
      "id": "efeeed5b",
      "metadata": {
        "id": "efeeed5b"
      },
      "outputs": [],
      "source": [
        ""
      ]
    }
  ],
  "metadata": {
    "kernelspec": {
      "display_name": "Python 3",
      "language": "python",
      "name": "python3"
    },
    "language_info": {
      "codemirror_mode": {
        "name": "ipython",
        "version": 3
      },
      "file_extension": ".py",
      "mimetype": "text/x-python",
      "name": "python",
      "nbconvert_exporter": "python",
      "pygments_lexer": "ipython3",
      "version": "3.8.8"
    },
    "colab": {
      "name": "GTZAN_DT_RF.ipynb",
      "provenance": [],
      "collapsed_sections": []
    }
  },
  "nbformat": 4,
  "nbformat_minor": 5
}